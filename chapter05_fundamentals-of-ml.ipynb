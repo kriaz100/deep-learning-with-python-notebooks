{
  "cells": [
    {
      "cell_type": "markdown",
      "metadata": {
        "id": "view-in-github",
        "colab_type": "text"
      },
      "source": [
        "<a href=\"https://colab.research.google.com/github/kriaz100/deep-learning-with-python-notebooks/blob/master/chapter05_fundamentals-of-ml.ipynb\" target=\"_parent\"><img src=\"https://colab.research.google.com/assets/colab-badge.svg\" alt=\"Open In Colab\"/></a>"
      ]
    },
    {
      "cell_type": "markdown",
      "metadata": {
        "id": "-7aRZWVvdMlV"
      },
      "source": [
        "This is a companion notebook for the book [Deep Learning with Python, Second Edition](https://www.manning.com/books/deep-learning-with-python-second-edition?a_aid=keras&a_bid=76564dff). For readability, it only contains runnable code blocks and section titles, and omits everything else in the book: text paragraphs, figures, and pseudocode.\n",
        "\n",
        "**If you want to be able to follow what's going on, I recommend reading the notebook side by side with your copy of the book.**\n",
        "\n",
        "This notebook was generated for TensorFlow 2.6."
      ]
    },
    {
      "cell_type": "markdown",
      "metadata": {
        "id": "8q4y7kdddMlq"
      },
      "source": [
        "# Fundamentals of machine learning"
      ]
    },
    {
      "cell_type": "markdown",
      "metadata": {
        "id": "MdCq7s3JdMlu"
      },
      "source": [
        "## Generalization: The goal of machine learning"
      ]
    },
    {
      "cell_type": "markdown",
      "metadata": {
        "id": "dx_SjFoFdMlx"
      },
      "source": [
        "### Underfitting and overfitting"
      ]
    },
    {
      "cell_type": "markdown",
      "metadata": {
        "id": "khpR4R_rdMlz"
      },
      "source": [
        "#### Noisy training data"
      ]
    },
    {
      "cell_type": "markdown",
      "metadata": {
        "id": "DzjicQwgdMl1"
      },
      "source": [
        "#### Ambiguous features"
      ]
    },
    {
      "cell_type": "markdown",
      "metadata": {
        "id": "s1CUdYQ7dMl3"
      },
      "source": [
        "#### Rare features and spurious correlations\n",
        "ML models trained on rare features are suseptible to overfitting.\n",
        "\n",
        "- If you have seen only two orange tabby cats who were terribly antisocial, you may infer that orange tabby cats were antisocial. It would take more exposure to tabby cats for you to learn that color is unrelated to cat character.\n",
        "\n",
        "- If a sentiment classification model was trained a reviws that included a review containing a rare word 'chrimoya', and the review happened to be negative, the model is likely to classify review containing 'cherimoya' as representing negative sentiment. \n",
        "\n",
        "- Spurrious correlation is not limited to cases that occur only a couple of times. If a word occurs 100 times, and is associated with positive sentiment 54% of the time, the model is likely to leverage that feature. This is overfitting becuase the proportion of occurance (54%) may be a just statistical fluke.\n",
        "\n",
        "Below we perform the following expriments:\n",
        "\n",
        "        (a) Concatenate to the 784 features of original MNIST training data, an additional 784 features of random noise (784 columns of random numbers)   -- so that half of teh data is white noise. \n",
        "        (b) concatenate 784 zero columns or features to the original 784 MNIST training data features   "
      ]
    },
    {
      "cell_type": "markdown",
      "metadata": {
        "id": "3vX0UL5tdMl6"
      },
      "source": [
        "**Adding white-noise channels or all-zeros channels to MNIST**"
      ]
    },
    {
      "cell_type": "code",
      "execution_count": 1,
      "metadata": {
        "id": "2ROpdO4idMl9"
      },
      "outputs": [],
      "source": [
        "from tensorflow.keras.datasets import mnist\n",
        "import numpy as np\n",
        "\n",
        "(train_images, train_labels), _ = mnist.load_data()\n",
        "train_images = train_images.reshape((60000, 28 * 28))\n",
        "train_images = train_images.astype(\"float32\") / 255\n",
        "\n",
        "train_images_with_noise_channels = np.concatenate(\n",
        "    [train_images, np.random.random((len(train_images), 784))], axis=1)   # axis =1 means column concatenation\n",
        "\n",
        "train_images_with_zeros_channels = np.concatenate(\n",
        "    [train_images, np.zeros((len(train_images), 784))], axis=1)"
      ]
    },
    {
      "cell_type": "markdown",
      "metadata": {
        "id": "D0_xagOVdMmG"
      },
      "source": [
        "**Training the same model on MNIST data with noise channels or all-zero channels**\n",
        "\n",
        "We will run the model twice: onece with noise cannels and once with zero channels, and compare the performance"
      ]
    },
    {
      "cell_type": "code",
      "execution_count": null,
      "metadata": {
        "id": "0pMzdR2odMmI"
      },
      "outputs": [],
      "source": [
        "from tensorflow import keras\n",
        "from tensorflow.keras import layers\n",
        "\n",
        "# defining NN architecture and compiling the model\n",
        "def get_model():\n",
        "    model = keras.Sequential([\n",
        "        layers.Dense(512, activation=\"relu\"),\n",
        "        layers.Dense(10, activation=\"softmax\")\n",
        "    ])\n",
        "    model.compile(optimizer=\"rmsprop\",\n",
        "                  loss=\"sparse_categorical_crossentropy\",\n",
        "                  metrics=[\"accuracy\"])\n",
        "    return model\n",
        "\n",
        "# Training the model on data with NOISE channels  \n",
        "model = get_model()\n",
        "history_noise = model.fit(\n",
        "    train_images_with_noise_channels, train_labels,\n",
        "    epochs=10,\n",
        "    batch_size=128,\n",
        "    validation_split=0.2)\n",
        "\n",
        "# Training the model on data with ZEROS\n",
        "model = get_model()\n",
        "history_zeros = model.fit(\n",
        "    train_images_with_zeros_channels, train_labels,\n",
        "    epochs=10,\n",
        "    batch_size=128,\n",
        "    validation_split=0.2)"
      ]
    },
    {
      "cell_type": "markdown",
      "metadata": {
        "id": "FBoOP3htdMmM"
      },
      "source": [
        "**Plotting a validation accuracy comparison**\n",
        "\n",
        "Plotting validation accuracy when model is trainied on data with NOISE vs when it is trained on data with ZEROS"
      ]
    },
    {
      "cell_type": "code",
      "execution_count": 3,
      "metadata": {
        "id": "UImFz4oFdMmN",
        "colab": {
          "base_uri": "https://localhost:8080/",
          "height": 312
        },
        "outputId": "a3a16bd5-3f61-4649-f9cc-e29c4e5213f2"
      },
      "outputs": [
        {
          "output_type": "execute_result",
          "data": {
            "text/plain": [
              "<matplotlib.legend.Legend at 0x7f5067c25110>"
            ]
          },
          "metadata": {},
          "execution_count": 3
        },
        {
          "output_type": "display_data",
          "data": {
            "text/plain": [
              "<Figure size 432x288 with 1 Axes>"
            ],
            "image/png": "[encoded data removed]"
          },
          "metadata": {
            "needs_background": "light"
          }
        }
      ],
      "source": [
        "import matplotlib.pyplot as plt\n",
        "val_acc_noise = history_noise.history[\"val_accuracy\"]\n",
        "val_acc_zeros = history_zeros.history[\"val_accuracy\"]\n",
        "epochs = range(1, 11)\n",
        "plt.plot(epochs, val_acc_noise, \"b-\",\n",
        "         label=\"Validation accuracy with noise channels\")\n",
        "plt.plot(epochs, val_acc_zeros, \"b--\",\n",
        "         label=\"Validation accuracy with zeros channels\")\n",
        "plt.title(\"Effect of noise channels on validation accuracy\")\n",
        "plt.xlabel(\"Epochs\")\n",
        "plt.ylabel(\"Accuracy\")\n",
        "plt.legend()"
      ]
    },
    {
      "cell_type": "markdown",
      "source": [
        "Validation accuracy of model trained on NOISE channels is 1 percent point lower than the validation accuracy of data with zeros.\n",
        "\n",
        "- Noisy features inevitably lead to overfitting\n",
        "- Feature selection is a good strategy for dealing with overfitting. You may select features based on some usefulness score of features.\n"
      ],
      "metadata": {
        "id": "DQUsTEvmpMid"
      }
    },
    {
      "cell_type": "markdown",
      "metadata": {
        "id": "yIluDSrMdMmR"
      },
      "source": [
        "### The nature of generalization in deep learning\n",
        "\n",
        "The model's ability to generalize is assessed on unseen data (e.g validation loss). The training loss would continue to decline even if the classification labels of the target variable were randomly assigned. This is demonstrated below."
      ]
    },
    {
      "cell_type": "markdown",
      "metadata": {
        "id": "PS1870s9dMmT"
      },
      "source": [
        "**Fitting a MNIST model with randomly shuffled labels**"
      ]
    },
    {
      "cell_type": "code",
      "execution_count": null,
      "metadata": {
        "id": "_4hNvjGNdMmU"
      },
      "outputs": [],
      "source": [
        "(train_images, train_labels), _ = mnist.load_data()\n",
        "train_images = train_images.reshape((60000, 28 * 28))\n",
        "train_images = train_images.astype(\"float32\") / 255\n",
        "\n",
        "random_train_labels = train_labels[:]  # select all labels\n",
        "np.random.shuffle(random_train_labels) # reshuffle the labels. Now they dont match original inputs.\n",
        "\n",
        "model = keras.Sequential([\n",
        "    layers.Dense(512, activation=\"relu\"),\n",
        "    layers.Dense(10, activation=\"softmax\")\n",
        "])\n",
        "model.compile(optimizer=\"rmsprop\",\n",
        "              loss=\"sparse_categorical_crossentropy\",\n",
        "              metrics=[\"accuracy\"])\n",
        "model.fit(train_images, random_train_labels,\n",
        "          epochs=100,\n",
        "          batch_size=128,\n",
        "          validation_split=0.2)"
      ]
    },
    {
      "cell_type": "markdown",
      "source": [
        "The training loss declined continuously from 2.3 to 0.46 but the validation loss did not decline. Instead it rose to 7.72"
      ],
      "metadata": {
        "id": "GdJy1L88K7y3"
      }
    },
    {
      "cell_type": "markdown",
      "metadata": {
        "id": "HlJWiQ4WdMmW"
      },
      "source": [
        "#### The manifold hypothesis\n",
        "\n",
        "The MNIST data are 28 x 28 arrays. The pixel actually corresponding to the handwritten digits are a *sub-space* of this space. \n",
        "\n",
        "Within the space of 28x28 arrays, the hand written digits are a *manifold* -- a lower dimensional *subspace* of some parent space that is locally similar to a linear (ie Euclidian) space. A smooth curve is a 1D manifold in 2D space (i.e. the plane). The curve is continuous and connected. It can be approximated as a series of tangents (to the curve itself).\n",
        "\n",
        "The curve can morph into different shapes, and there is a series of intermediate shapes. Likewise the handwritten digits are continuous and connected subspaces. Two handwritten digits (A & B) have a sequence of intermediate shapes that morph A into B (see fig 5.7). Another example is the digits on an electronic calculator.\n",
        "\n",
        "The manifold hypothesis implies that:\n",
        "- Machine learning models only have to fit relatively simple, low dimensional, highly structured subspaces within their potential input space (latent manifolds)\n",
        "\n",
        "- Within one of these manifolds, it is alsways possible to *interpolate* between two inputs, that is to say, morph one into another via a continuous path along which all points fall on a manifold.\n",
        "\n",
        "<font color ='blue'>The ability to interpolate between samples is the key to understanding generalization in deep learning</font>\n"
      ]
    },
    {
      "cell_type": "markdown",
      "metadata": {
        "id": "MSJNIf6NdMmX"
      },
      "source": [
        "#### Interpolation as a source of generalization\n",
        "\n",
        "- You can make sense of **totality** of a space by using only a **sample** of the space by interpolating to fill the blanks.\n",
        "- Interpolation enables only a local generalization. Model can make sense of things very close to what it has seen before.\n",
        "-By contrast, humans are capable of *extreme generlization* because of other cognitive abilities that we call to reasoning (inlcuding abstraction, symbolic models of the world, reasoning, logic, common sense, and innate priors about the world), as opposed to interpolative abilities (intuition or pattern recognition). "
      ]
    },
    {
      "cell_type": "markdown",
      "metadata": {
        "id": "o9zs5SjNdMmY"
      },
      "source": [
        "#### Why deep learning works\n",
        "- A flattened *paper-ball* is a 2D *manifold* wihin a 3D space\n",
        "- A deep learning model is a tool for uncrumpling (flatening) paper-balls, that is, for disentagling latent manifolds. The model is basically a high-dimensional curve.\n",
        "- The curve involves enogh parameters to fit anything. But given the fact that your datapoints are not randomly sprinkled in the subspace but form a highly structiured subspace (manifold hypothesis), there will be an intermediate point during training at which the model roughly approximates the natural manifold of the data.\n",
        "- If the approximtion is good, moving along the curve would be moving along the latent manifold of data. \n",
        "- As such the model will be capable of making sense of never-seen-before inputs via interpolation between trainiung inputs. "
      ]
    },
    {
      "cell_type": "markdown",
      "metadata": {
        "id": "bCAHHqgvdMmZ"
      },
      "source": [
        "#### Training data is paramount\n",
        "Deep learning is well suited to manifold learning but the power to generalize depends on input data forming a manifold where the points can be interpolated. The generalization will depend on the following:\n",
        "\n",
        "- Informativeness of features and there being less noise in them. Data curation and feature engineering are essential.\n",
        "\n",
        "- Denseness of sampling from the input space, especially near the deciion boundary. This would make external knowledge unnecessary.\n",
        "\n",
        "- More *and* better data. Adding noisy data does not help as already noted.\n",
        "\n",
        "- Regularization i.e. modulating the quantity of information stored by the model, especially when getting more data is not possible. Controlling how much the model can memorize will force it to focus on the most important features. More on regularization in sec 5.4.4.\n"
      ]
    },
    {
      "cell_type": "markdown",
      "metadata": {
        "id": "TNWfejURdMmb"
      },
      "source": [
        "## Evaluating machine-learning models\n",
        "Evaluating the model means reliably measuring its generalization power.\n",
        "\n",
        "- You train your model on training data, evaluate it on validation data, and test it one final time on a test dataset as similar as possible to the production data.\n",
        "\n"
      ]
    },
    {
      "cell_type": "markdown",
      "metadata": {
        "id": "yvueVigPdMmc"
      },
      "source": [
        "### Training, validation, and test sets\n",
        "Why do we use validation data instead of evaluating the model directly on test data?\n",
        "\n",
        "- Because evaluting the model always involves hyperparameter tuning where you search for a good configuration (eg number of layers and size of layers).\n",
        "- Hyperparameter tuning is also a form of learning, and can lead to overfitting.\n",
        "- Having validation data for hyperparameter tunning ensures that the final model evaluation is done on never-seen-before data (test data).\n",
        "This prevents information leaks, especially when you run multiple experiments on your model (extensive hyperparameter tuning)."
      ]
    },
    {
      "cell_type": "markdown",
      "metadata": {
        "id": "Nch4wDg2dMmf"
      },
      "source": [
        "#### Simple hold-out validation\n",
        "You set apart a fraction of data as test set, train on remaining data, and evaluate on test set. However, to prevent information leaks, youshold not tune the model on test data. Therefore, you should also reserve a validation set.\n",
        "\n",
        "This may not be practicle if your data is too small. In that case you may have to use *K-fold validation* or *iterated K-fold valiadation*. \n",
        "\n",
        " "
      ]
    },
    {
      "cell_type": "markdown",
      "metadata": {
        "id": "iOqN-DJBdMmh"
      },
      "source": [
        "#### K-fold validation\n",
        "- Split your data into K partititions of equal size.\n",
        "- For each partitition i, train a model on the remaining K-1 partititions, evaluate it on partition i.\n",
        "-Your final evaluation score is the average of the K scores. \n",
        "- <font color='blue'> \n",
        "For a schematic representation of K-fold cross valiadtion see Fig 5.13 copied below</font> "
      ]
    },
    {
      "cell_type": "markdown",
      "source": [
        "![Capture.PNG](data:image/png;base64,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)"
      ],
      "metadata": {
        "id": "B9cqjg-LWulV"
      }
    },
    {
      "cell_type": "markdown",
      "source": [
        "<font color='blue'>An outline of the code to perform K-fold cross validation is in Listing 5.5 in the book</font>"
      ],
      "metadata": {
        "id": "tc63VcicXMVw"
      }
    },
    {
      "cell_type": "markdown",
      "metadata": {
        "id": "xeZUSz4YdMmi"
      },
      "source": [
        "#### Iterated K-fold validation with shuffling\n",
        "Used when relatively little data is available. <font color='blue'>Useful in Kaggle competitions</font>.\n",
        "- Apply K-fold cross validation multiple  times, shuffling data every time before splitting it K ways. Final score is the average score in each run of tthe K-fold valiadation.  \n"
      ]
    },
    {
      "cell_type": "markdown",
      "metadata": {
        "id": "CUCgVcQydMmj"
      },
      "source": [
        "### Beating a common-sense baseline\n",
        "Try beating a trivial baseline on <font color='steel blue'>validation data</font>. For example:\n",
        "- On MNIST data, accuracy greater than 0.1 (i.e.performanec of random classifier on 10 possible digits)\n",
        "- If the data is imbalanced and 90% of samples belong to class A and 10% to B, then any classifier that always predicts class A will be accurate 90% of the time. Your model needs to beat that.\n",
        "\n",
        "If the model cannot even beat the trivial baseline, it is worthless."
      ]
    },
    {
      "cell_type": "markdown",
      "metadata": {
        "id": "3US8MbLddMmk"
      },
      "source": [
        "### Things to keep in mind about model evaluation\n",
        "- *Data representativeness:* Randomly shuffle the data before splitting it.\n",
        "- *The arrow of time:* However, do not shuffle timeseries data, it would cause a *temporal leak*. Your test data must be posterior to your training data.\n",
        "- *Redundancy in your data:* Remove duplicates before shuffling and splitting the data. Otherwise copies of same observations(cases) would make their way into validation data. The training and validation data sets must be disjoint. \n"
      ]
    },
    {
      "cell_type": "markdown",
      "metadata": {
        "id": "Hr3rXZO-dMml"
      },
      "source": [
        "## Improving model fit\n",
        "*To achive the perfect fit, you must first overfit!*\n",
        "\n",
        "Your objective is to get a model that achieves some generalization but overfits. After you have such a model you try to get greater generalization by reducing overfitting. \n",
        "\n",
        "At this stage, you will face three problems:\n",
        "- Training loss does not decline ie training does not start.\n",
        "- Model cannot generalize well ie you cannot beat the common-sense baseline\n",
        "- You don't seem to be overfitting. Training and validation loss go down over time nad you beat the baseline but you are still underfitting.\n",
        "\n",
        "We will see below how to address these issues: getting a model that has some generalization power (beats baseline) and is able to overfit."
      ]
    },
    {
      "cell_type": "markdown",
      "metadata": {
        "id": "n_879JVtdMmm"
      },
      "source": [
        "### Tuning key gradient descent parameters\n"
      ]
    },
    {
      "cell_type": "markdown",
      "metadata": {
        "id": "zHypjQpsdMmm"
      },
      "source": [
        "**Training a MNIST model with an incorrectly high learning rate**"
      ]
    },
    {
      "cell_type": "code",
      "execution_count": null,
      "metadata": {
        "id": "nKjcZsMwdMmn"
      },
      "outputs": [],
      "source": [
        "(train_images, train_labels), _ = mnist.load_data()\n",
        "train_images = train_images.reshape((60000, 28 * 28))\n",
        "train_images = train_images.astype(\"float32\") / 255\n",
        "\n",
        "model = keras.Sequential([\n",
        "    layers.Dense(512, activation=\"relu\"),\n",
        "    layers.Dense(10, activation=\"softmax\")\n",
        "])\n",
        "model.compile(optimizer=keras.optimizers.RMSprop(1.),\n",
        "              loss=\"sparse_categorical_crossentropy\",\n",
        "              metrics=[\"accuracy\"])\n",
        "model.fit(train_images, train_labels,\n",
        "          epochs=10,\n",
        "          batch_size=128,\n",
        "          validation_split=0.2)"
      ]
    },
    {
      "cell_type": "markdown",
      "metadata": {
        "id": "dEXuLgVBdMmo"
      },
      "source": [
        "**The same model with a more appropriate learning rate**"
      ]
    },
    {
      "cell_type": "code",
      "execution_count": null,
      "metadata": {
        "id": "mJjvblWWdMmp"
      },
      "outputs": [],
      "source": [
        "model = keras.Sequential([\n",
        "    layers.Dense(512, activation=\"relu\"),\n",
        "    layers.Dense(10, activation=\"softmax\")\n",
        "])\n",
        "model.compile(optimizer=keras.optimizers.RMSprop(1e-2),\n",
        "              loss=\"sparse_categorical_crossentropy\",\n",
        "              metrics=[\"accuracy\"])\n",
        "model.fit(train_images, train_labels,\n",
        "          epochs=10,\n",
        "          batch_size=128,\n",
        "          validation_split=0.2)"
      ]
    },
    {
      "cell_type": "markdown",
      "metadata": {
        "id": "bN98qQfBdMmq"
      },
      "source": [
        "### Leveraging better architecture priors"
      ]
    },
    {
      "cell_type": "markdown",
      "metadata": {
        "id": "Hmr90xvndMmq"
      },
      "source": [
        "### Increasing model capacity"
      ]
    },
    {
      "cell_type": "markdown",
      "metadata": {
        "id": "LQQNPbxVdMmr"
      },
      "source": [
        "**A simple logistic regression on MNIST**"
      ]
    },
    {
      "cell_type": "code",
      "execution_count": null,
      "metadata": {
        "id": "D4gkavc-dMmu"
      },
      "outputs": [],
      "source": [
        "model = keras.Sequential([layers.Dense(10, activation=\"softmax\")])\n",
        "model.compile(optimizer=\"rmsprop\",\n",
        "              loss=\"sparse_categorical_crossentropy\",\n",
        "              metrics=[\"accuracy\"])\n",
        "history_small_model = model.fit(\n",
        "    train_images, train_labels,\n",
        "    epochs=20,\n",
        "    batch_size=128,\n",
        "    validation_split=0.2)"
      ]
    },
    {
      "cell_type": "code",
      "execution_count": 8,
      "metadata": {
        "id": "Al1_PoAPdMmv",
        "colab": {
          "base_uri": "https://localhost:8080/",
          "height": 312
        },
        "outputId": "92df225f-7c96-4c20-d380-df8b6b1b919f"
      },
      "outputs": [
        {
          "output_type": "execute_result",
          "data": {
            "text/plain": [
              "<matplotlib.legend.Legend at 0x7f5063adf350>"
            ]
          },
          "metadata": {},
          "execution_count": 8
        },
        {
          "output_type": "display_data",
          "data": {
            "text/plain": [
              "<Figure size 432x288 with 1 Axes>"
            ],
            "image/png": "[encoded data removed]"
          },
          "metadata": {
            "needs_background": "light"
          }
        }
      ],
      "source": [
        "import matplotlib.pyplot as plt\n",
        "val_loss = history_small_model.history[\"val_loss\"]\n",
        "epochs = range(1, 21)\n",
        "plt.plot(epochs, val_loss, \"b--\",\n",
        "         label=\"Validation loss\")\n",
        "plt.title(\"Effect of insufficient model capacity on validation loss\")\n",
        "plt.xlabel(\"Epochs\")\n",
        "plt.ylabel(\"Loss\")\n",
        "plt.legend()"
      ]
    },
    {
      "cell_type": "code",
      "execution_count": 9,
      "metadata": {
        "id": "y20nYRhIdMmx",
        "colab": {
          "base_uri": "https://localhost:8080/"
        },
        "outputId": "ac0b2463-eca2-421d-c3e7-28d70dec5a3d"
      },
      "outputs": [
        {
          "output_type": "stream",
          "name": "stdout",
          "text": [
            "Epoch 1/20\n",
            "375/375 [==============================] - 3s 6ms/step - loss: 0.3560 - accuracy: 0.8992 - val_loss: 0.1774 - val_accuracy: 0.9486\n",
            "Epoch 2/20\n",
            "375/375 [==============================] - 2s 6ms/step - loss: 0.1571 - accuracy: 0.9537 - val_loss: 0.1345 - val_accuracy: 0.9594\n",
            "Epoch 3/20\n",
            "375/375 [==============================] - 2s 5ms/step - loss: 0.1109 - accuracy: 0.9666 - val_loss: 0.1086 - val_accuracy: 0.9675\n",
            "Epoch 4/20\n",
            "375/375 [==============================] - 2s 5ms/step - loss: 0.0836 - accuracy: 0.9744 - val_loss: 0.1023 - val_accuracy: 0.9696\n",
            "Epoch 5/20\n",
            "375/375 [==============================] - 2s 5ms/step - loss: 0.0665 - accuracy: 0.9800 - val_loss: 0.1017 - val_accuracy: 0.9710\n",
            "Epoch 6/20\n",
            "375/375 [==============================] - 2s 5ms/step - loss: 0.0551 - accuracy: 0.9837 - val_loss: 0.0888 - val_accuracy: 0.9743\n",
            "Epoch 7/20\n",
            "375/375 [==============================] - 2s 5ms/step - loss: 0.0442 - accuracy: 0.9866 - val_loss: 0.0939 - val_accuracy: 0.9724\n",
            "Epoch 8/20\n",
            "375/375 [==============================] - 2s 5ms/step - loss: 0.0368 - accuracy: 0.9888 - val_loss: 0.0890 - val_accuracy: 0.9743\n",
            "Epoch 9/20\n",
            "375/375 [==============================] - 2s 5ms/step - loss: 0.0308 - accuracy: 0.9901 - val_loss: 0.0967 - val_accuracy: 0.9751\n",
            "Epoch 10/20\n",
            "375/375 [==============================] - 2s 5ms/step - loss: 0.0259 - accuracy: 0.9923 - val_loss: 0.0967 - val_accuracy: 0.9759\n",
            "Epoch 11/20\n",
            "375/375 [==============================] - 2s 5ms/step - loss: 0.0225 - accuracy: 0.9936 - val_loss: 0.1016 - val_accuracy: 0.9748\n",
            "Epoch 12/20\n",
            "375/375 [==============================] - 2s 5ms/step - loss: 0.0182 - accuracy: 0.9944 - val_loss: 0.1099 - val_accuracy: 0.9752\n",
            "Epoch 13/20\n",
            "375/375 [==============================] - 2s 5ms/step - loss: 0.0150 - accuracy: 0.9952 - val_loss: 0.1030 - val_accuracy: 0.9762\n",
            "Epoch 14/20\n",
            "375/375 [==============================] - 2s 5ms/step - loss: 0.0131 - accuracy: 0.9961 - val_loss: 0.1211 - val_accuracy: 0.9720\n",
            "Epoch 15/20\n",
            "375/375 [==============================] - 2s 5ms/step - loss: 0.0109 - accuracy: 0.9965 - val_loss: 0.1096 - val_accuracy: 0.9772\n",
            "Epoch 16/20\n",
            "375/375 [==============================] - 2s 5ms/step - loss: 0.0095 - accuracy: 0.9973 - val_loss: 0.1265 - val_accuracy: 0.9753\n",
            "Epoch 17/20\n",
            "375/375 [==============================] - 2s 5ms/step - loss: 0.0080 - accuracy: 0.9974 - val_loss: 0.1228 - val_accuracy: 0.9775\n",
            "Epoch 18/20\n",
            "375/375 [==============================] - 2s 5ms/step - loss: 0.0068 - accuracy: 0.9980 - val_loss: 0.1244 - val_accuracy: 0.9769\n",
            "Epoch 19/20\n",
            "375/375 [==============================] - 2s 5ms/step - loss: 0.0061 - accuracy: 0.9982 - val_loss: 0.1333 - val_accuracy: 0.9754\n",
            "Epoch 20/20\n",
            "375/375 [==============================] - 2s 5ms/step - loss: 0.0052 - accuracy: 0.9983 - val_loss: 0.1534 - val_accuracy: 0.9744\n"
          ]
        }
      ],
      "source": [
        "model = keras.Sequential([\n",
        "    layers.Dense(96, activation=\"relu\"),\n",
        "    layers.Dense(96, activation=\"relu\"),\n",
        "    layers.Dense(10, activation=\"softmax\"),\n",
        "])\n",
        "model.compile(optimizer=\"rmsprop\",\n",
        "              loss=\"sparse_categorical_crossentropy\",\n",
        "              metrics=[\"accuracy\"])\n",
        "history_large_model = model.fit(\n",
        "    train_images, train_labels,\n",
        "    epochs=20,\n",
        "    batch_size=128,\n",
        "    validation_split=0.2)"
      ]
    },
    {
      "cell_type": "markdown",
      "metadata": {
        "id": "c0vq6GrxdMmy"
      },
      "source": [
        "## Improving generalization"
      ]
    },
    {
      "cell_type": "markdown",
      "metadata": {
        "id": "hVeQmwK8dMmz"
      },
      "source": [
        "### Dataset curation"
      ]
    },
    {
      "cell_type": "markdown",
      "metadata": {
        "id": "ujVGDuLjdMm0"
      },
      "source": [
        "### Feature engineering"
      ]
    },
    {
      "cell_type": "markdown",
      "metadata": {
        "id": "Uhp0bxzEdMm0"
      },
      "source": [
        "### Using early stopping"
      ]
    },
    {
      "cell_type": "markdown",
      "metadata": {
        "id": "-oIE3RQ3dMm1"
      },
      "source": [
        "### Regularizing your model"
      ]
    },
    {
      "cell_type": "markdown",
      "metadata": {
        "id": "Em4BHyUBdMm2"
      },
      "source": [
        "#### Reducing the network's size"
      ]
    },
    {
      "cell_type": "markdown",
      "metadata": {
        "id": "6iTE6GVgdMm2"
      },
      "source": [
        "**Original model**"
      ]
    },
    {
      "cell_type": "code",
      "execution_count": 10,
      "metadata": {
        "id": "YzEslfKndMm3",
        "colab": {
          "base_uri": "https://localhost:8080/"
        },
        "outputId": "b3e962bf-36e0-43b2-85c6-217d553793e4"
      },
      "outputs": [
        {
          "output_type": "stream",
          "name": "stdout",
          "text": [
            "Downloading data from https://storage.googleapis.com/tensorflow/tf-keras-datasets/imdb.npz\n",
            "17465344/17464789 [==============================] - 0s 0us/step\n",
            "17473536/17464789 [==============================] - 0s 0us/step\n",
            "Epoch 1/20\n",
            "30/30 [==============================] - 2s 45ms/step - loss: 0.5132 - accuracy: 0.7883 - val_loss: 0.3911 - val_accuracy: 0.8639\n",
            "Epoch 2/20\n",
            "30/30 [==============================] - 1s 32ms/step - loss: 0.3037 - accuracy: 0.9009 - val_loss: 0.3014 - val_accuracy: 0.8885\n",
            "Epoch 3/20\n",
            "30/30 [==============================] - 1s 33ms/step - loss: 0.2230 - accuracy: 0.9267 - val_loss: 0.2935 - val_accuracy: 0.8820\n",
            "Epoch 4/20\n",
            "30/30 [==============================] - 1s 32ms/step - loss: 0.1740 - accuracy: 0.9452 - val_loss: 0.2785 - val_accuracy: 0.8894\n",
            "Epoch 5/20\n",
            "30/30 [==============================] - 1s 31ms/step - loss: 0.1456 - accuracy: 0.9528 - val_loss: 0.3192 - val_accuracy: 0.8750\n",
            "Epoch 6/20\n",
            "30/30 [==============================] - 1s 33ms/step - loss: 0.1192 - accuracy: 0.9637 - val_loss: 0.2957 - val_accuracy: 0.8853\n",
            "Epoch 7/20\n",
            "30/30 [==============================] - 1s 32ms/step - loss: 0.0996 - accuracy: 0.9703 - val_loss: 0.3136 - val_accuracy: 0.8831\n",
            "Epoch 8/20\n",
            "30/30 [==============================] - 1s 32ms/step - loss: 0.0822 - accuracy: 0.9757 - val_loss: 0.3371 - val_accuracy: 0.8793\n",
            "Epoch 9/20\n",
            "30/30 [==============================] - 1s 37ms/step - loss: 0.0720 - accuracy: 0.9798 - val_loss: 0.3506 - val_accuracy: 0.8808\n",
            "Epoch 10/20\n",
            "30/30 [==============================] - 1s 34ms/step - loss: 0.0554 - accuracy: 0.9855 - val_loss: 0.3973 - val_accuracy: 0.8730\n",
            "Epoch 11/20\n",
            "30/30 [==============================] - 1s 36ms/step - loss: 0.0475 - accuracy: 0.9887 - val_loss: 0.4113 - val_accuracy: 0.8753\n",
            "Epoch 12/20\n",
            "30/30 [==============================] - 1s 32ms/step - loss: 0.0390 - accuracy: 0.9905 - val_loss: 0.4472 - val_accuracy: 0.8752\n",
            "Epoch 13/20\n",
            "30/30 [==============================] - 1s 33ms/step - loss: 0.0337 - accuracy: 0.9920 - val_loss: 0.4874 - val_accuracy: 0.8697\n",
            "Epoch 14/20\n",
            "30/30 [==============================] - 1s 33ms/step - loss: 0.0258 - accuracy: 0.9948 - val_loss: 0.5068 - val_accuracy: 0.8705\n",
            "Epoch 15/20\n",
            "30/30 [==============================] - 1s 32ms/step - loss: 0.0207 - accuracy: 0.9963 - val_loss: 0.5438 - val_accuracy: 0.8710\n",
            "Epoch 16/20\n",
            "30/30 [==============================] - 1s 32ms/step - loss: 0.0186 - accuracy: 0.9959 - val_loss: 0.5766 - val_accuracy: 0.8683\n",
            "Epoch 17/20\n",
            "30/30 [==============================] - 1s 33ms/step - loss: 0.0105 - accuracy: 0.9989 - val_loss: 0.6244 - val_accuracy: 0.8652\n",
            "Epoch 18/20\n",
            "30/30 [==============================] - 1s 32ms/step - loss: 0.0115 - accuracy: 0.9983 - val_loss: 0.6474 - val_accuracy: 0.8675\n",
            "Epoch 19/20\n",
            "30/30 [==============================] - 1s 32ms/step - loss: 0.0118 - accuracy: 0.9975 - val_loss: 0.6838 - val_accuracy: 0.8669\n",
            "Epoch 20/20\n",
            "30/30 [==============================] - 1s 32ms/step - loss: 0.0048 - accuracy: 0.9997 - val_loss: 0.7324 - val_accuracy: 0.8629\n"
          ]
        }
      ],
      "source": [
        "from tensorflow.keras.datasets import imdb\n",
        "(train_data, train_labels), _ = imdb.load_data(num_words=10000)\n",
        "\n",
        "def vectorize_sequences(sequences, dimension=10000):\n",
        "    results = np.zeros((len(sequences), dimension))\n",
        "    for i, sequence in enumerate(sequences):\n",
        "        results[i, sequence] = 1.\n",
        "    return results\n",
        "train_data = vectorize_sequences(train_data)\n",
        "\n",
        "model = keras.Sequential([\n",
        "    layers.Dense(16, activation=\"relu\"),\n",
        "    layers.Dense(16, activation=\"relu\"),\n",
        "    layers.Dense(1, activation=\"sigmoid\")\n",
        "])\n",
        "model.compile(optimizer=\"rmsprop\",\n",
        "              loss=\"binary_crossentropy\",\n",
        "              metrics=[\"accuracy\"])\n",
        "history_original = model.fit(train_data, train_labels,\n",
        "                             epochs=20, batch_size=512, validation_split=0.4)"
      ]
    },
    {
      "cell_type": "markdown",
      "metadata": {
        "id": "3s_JiG1udMm4"
      },
      "source": [
        "**Version of the model with lower capacity**"
      ]
    },
    {
      "cell_type": "code",
      "execution_count": 11,
      "metadata": {
        "id": "WOe1mdkIdMm5",
        "colab": {
          "base_uri": "https://localhost:8080/"
        },
        "outputId": "b4309d0a-e7ea-49a7-841a-a93d780e8d36"
      },
      "outputs": [
        {
          "output_type": "stream",
          "name": "stdout",
          "text": [
            "Epoch 1/20\n",
            "30/30 [==============================] - 2s 39ms/step - loss: 0.6414 - accuracy: 0.6593 - val_loss: 0.5948 - val_accuracy: 0.8257\n",
            "Epoch 2/20\n",
            "30/30 [==============================] - 1s 31ms/step - loss: 0.5507 - accuracy: 0.7943 - val_loss: 0.5398 - val_accuracy: 0.8267\n",
            "Epoch 3/20\n",
            "30/30 [==============================] - 1s 30ms/step - loss: 0.4998 - accuracy: 0.8426 - val_loss: 0.5108 - val_accuracy: 0.8197\n",
            "Epoch 4/20\n",
            "30/30 [==============================] - 1s 30ms/step - loss: 0.4632 - accuracy: 0.8745 - val_loss: 0.5006 - val_accuracy: 0.8080\n",
            "Epoch 5/20\n",
            "30/30 [==============================] - 1s 30ms/step - loss: 0.4351 - accuracy: 0.8964 - val_loss: 0.4760 - val_accuracy: 0.8749\n",
            "Epoch 6/20\n",
            "30/30 [==============================] - 1s 30ms/step - loss: 0.4117 - accuracy: 0.9171 - val_loss: 0.4657 - val_accuracy: 0.8775\n",
            "Epoch 7/20\n",
            "30/30 [==============================] - 1s 30ms/step - loss: 0.3919 - accuracy: 0.9307 - val_loss: 0.4577 - val_accuracy: 0.8785\n",
            "Epoch 8/20\n",
            "30/30 [==============================] - 1s 30ms/step - loss: 0.3736 - accuracy: 0.9415 - val_loss: 0.4575 - val_accuracy: 0.8678\n",
            "Epoch 9/20\n",
            "30/30 [==============================] - 1s 30ms/step - loss: 0.3578 - accuracy: 0.9489 - val_loss: 0.4665 - val_accuracy: 0.8564\n",
            "Epoch 10/20\n",
            "30/30 [==============================] - 1s 31ms/step - loss: 0.3428 - accuracy: 0.9579 - val_loss: 0.4869 - val_accuracy: 0.8432\n",
            "Epoch 11/20\n",
            "30/30 [==============================] - 1s 30ms/step - loss: 0.3296 - accuracy: 0.9633 - val_loss: 0.4683 - val_accuracy: 0.8608\n",
            "Epoch 12/20\n",
            "30/30 [==============================] - 1s 30ms/step - loss: 0.3173 - accuracy: 0.9696 - val_loss: 0.4474 - val_accuracy: 0.8723\n",
            "Epoch 13/20\n",
            "30/30 [==============================] - 1s 30ms/step - loss: 0.3058 - accuracy: 0.9752 - val_loss: 0.4635 - val_accuracy: 0.8648\n",
            "Epoch 14/20\n",
            "30/30 [==============================] - 1s 30ms/step - loss: 0.2954 - accuracy: 0.9771 - val_loss: 0.4839 - val_accuracy: 0.8549\n",
            "Epoch 15/20\n",
            "30/30 [==============================] - 1s 30ms/step - loss: 0.2855 - accuracy: 0.9793 - val_loss: 0.4786 - val_accuracy: 0.8593\n",
            "Epoch 16/20\n",
            "30/30 [==============================] - 1s 30ms/step - loss: 0.2756 - accuracy: 0.9823 - val_loss: 0.4922 - val_accuracy: 0.8559\n",
            "Epoch 17/20\n",
            "30/30 [==============================] - 1s 30ms/step - loss: 0.2672 - accuracy: 0.9837 - val_loss: 0.4958 - val_accuracy: 0.8547\n",
            "Epoch 18/20\n",
            "30/30 [==============================] - 1s 31ms/step - loss: 0.2589 - accuracy: 0.9861 - val_loss: 0.5086 - val_accuracy: 0.8540\n",
            "Epoch 19/20\n",
            "30/30 [==============================] - 1s 31ms/step - loss: 0.2509 - accuracy: 0.9865 - val_loss: 0.4896 - val_accuracy: 0.8612\n",
            "Epoch 20/20\n",
            "30/30 [==============================] - 1s 30ms/step - loss: 0.2436 - accuracy: 0.9885 - val_loss: 0.5496 - val_accuracy: 0.8481\n"
          ]
        }
      ],
      "source": [
        "model = keras.Sequential([\n",
        "    layers.Dense(4, activation=\"relu\"),\n",
        "    layers.Dense(4, activation=\"relu\"),\n",
        "    layers.Dense(1, activation=\"sigmoid\")\n",
        "])\n",
        "model.compile(optimizer=\"rmsprop\",\n",
        "              loss=\"binary_crossentropy\",\n",
        "              metrics=[\"accuracy\"])\n",
        "history_smaller_model = model.fit(\n",
        "    train_data, train_labels,\n",
        "    epochs=20, batch_size=512, validation_split=0.4)"
      ]
    },
    {
      "cell_type": "markdown",
      "metadata": {
        "id": "2CWTXy1RdMm6"
      },
      "source": [
        "**Version of the model with higher capacity**"
      ]
    },
    {
      "cell_type": "code",
      "execution_count": 12,
      "metadata": {
        "id": "NcxK81GDdMm7",
        "colab": {
          "base_uri": "https://localhost:8080/"
        },
        "outputId": "12415f2a-f980-4feb-ee79-021a871f9721"
      },
      "outputs": [
        {
          "output_type": "stream",
          "name": "stdout",
          "text": [
            "Epoch 1/20\n",
            "30/30 [==============================] - 10s 299ms/step - loss: 0.5491 - accuracy: 0.7637 - val_loss: 0.3161 - val_accuracy: 0.8842\n",
            "Epoch 2/20\n",
            "30/30 [==============================] - 8s 282ms/step - loss: 0.2426 - accuracy: 0.9079 - val_loss: 0.3365 - val_accuracy: 0.8636\n",
            "Epoch 3/20\n",
            "30/30 [==============================] - 8s 284ms/step - loss: 0.1515 - accuracy: 0.9429 - val_loss: 0.3210 - val_accuracy: 0.8833\n",
            "Epoch 4/20\n",
            "30/30 [==============================] - 8s 283ms/step - loss: 0.0810 - accuracy: 0.9735 - val_loss: 0.5304 - val_accuracy: 0.8530\n",
            "Epoch 5/20\n",
            "30/30 [==============================] - 8s 282ms/step - loss: 0.0443 - accuracy: 0.9904 - val_loss: 0.5548 - val_accuracy: 0.8348\n",
            "Epoch 6/20\n",
            "30/30 [==============================] - 8s 282ms/step - loss: 0.0057 - accuracy: 0.9996 - val_loss: 0.5310 - val_accuracy: 0.8866\n",
            "Epoch 7/20\n",
            "30/30 [==============================] - 8s 282ms/step - loss: 4.6827e-04 - accuracy: 1.0000 - val_loss: 0.6463 - val_accuracy: 0.8870\n",
            "Epoch 8/20\n",
            "30/30 [==============================] - 8s 283ms/step - loss: 8.5500e-05 - accuracy: 1.0000 - val_loss: 0.7612 - val_accuracy: 0.8864\n",
            "Epoch 9/20\n",
            "30/30 [==============================] - 8s 284ms/step - loss: 1.5506e-05 - accuracy: 1.0000 - val_loss: 0.8638 - val_accuracy: 0.8842\n",
            "Epoch 10/20\n",
            "30/30 [==============================] - 8s 284ms/step - loss: 3.6293e-06 - accuracy: 1.0000 - val_loss: 0.9647 - val_accuracy: 0.8854\n",
            "Epoch 11/20\n",
            "30/30 [==============================] - 8s 285ms/step - loss: 9.5164e-07 - accuracy: 1.0000 - val_loss: 1.0632 - val_accuracy: 0.8857\n",
            "Epoch 12/20\n",
            "30/30 [==============================] - 8s 284ms/step - loss: 2.9361e-07 - accuracy: 1.0000 - val_loss: 1.1320 - val_accuracy: 0.8848\n",
            "Epoch 13/20\n",
            "30/30 [==============================] - 8s 284ms/step - loss: 1.1179e-07 - accuracy: 1.0000 - val_loss: 1.1956 - val_accuracy: 0.8849\n",
            "Epoch 14/20\n",
            "30/30 [==============================] - 8s 282ms/step - loss: 5.0608e-08 - accuracy: 1.0000 - val_loss: 1.2416 - val_accuracy: 0.8850\n",
            "Epoch 15/20\n",
            "30/30 [==============================] - 8s 281ms/step - loss: 2.8660e-08 - accuracy: 1.0000 - val_loss: 1.2756 - val_accuracy: 0.8842\n",
            "Epoch 16/20\n",
            "30/30 [==============================] - 8s 283ms/step - loss: 1.9416e-08 - accuracy: 1.0000 - val_loss: 1.2970 - val_accuracy: 0.8840\n",
            "Epoch 17/20\n",
            "30/30 [==============================] - 8s 282ms/step - loss: 1.4645e-08 - accuracy: 1.0000 - val_loss: 1.3129 - val_accuracy: 0.8837\n",
            "Epoch 18/20\n",
            "30/30 [==============================] - 8s 282ms/step - loss: 1.1754e-08 - accuracy: 1.0000 - val_loss: 1.3265 - val_accuracy: 0.8833\n",
            "Epoch 19/20\n",
            "30/30 [==============================] - 8s 283ms/step - loss: 9.8319e-09 - accuracy: 1.0000 - val_loss: 1.3391 - val_accuracy: 0.8838\n",
            "Epoch 20/20\n",
            "30/30 [==============================] - 8s 282ms/step - loss: 8.4314e-09 - accuracy: 1.0000 - val_loss: 1.3486 - val_accuracy: 0.8833\n"
          ]
        }
      ],
      "source": [
        "model = keras.Sequential([\n",
        "    layers.Dense(512, activation=\"relu\"),\n",
        "    layers.Dense(512, activation=\"relu\"),\n",
        "    layers.Dense(1, activation=\"sigmoid\")\n",
        "])\n",
        "model.compile(optimizer=\"rmsprop\",\n",
        "              loss=\"binary_crossentropy\",\n",
        "              metrics=[\"accuracy\"])\n",
        "history_larger_model = model.fit(\n",
        "    train_data, train_labels,\n",
        "    epochs=20, batch_size=512, validation_split=0.4)"
      ]
    },
    {
      "cell_type": "markdown",
      "metadata": {
        "id": "Bp3_L2gXdMm7"
      },
      "source": [
        "#### Adding weight regularization"
      ]
    },
    {
      "cell_type": "markdown",
      "metadata": {
        "id": "N5UoRA57dMm8"
      },
      "source": [
        "**Adding L2 weight regularization to the model**"
      ]
    },
    {
      "cell_type": "code",
      "execution_count": 13,
      "metadata": {
        "id": "tfCm_kPLdMm9",
        "colab": {
          "base_uri": "https://localhost:8080/"
        },
        "outputId": "b6b2beec-69ef-40b4-fe1e-81fbf8dd7c62"
      },
      "outputs": [
        {
          "output_type": "stream",
          "name": "stdout",
          "text": [
            "Epoch 1/20\n",
            "30/30 [==============================] - 2s 43ms/step - loss: 0.6041 - accuracy: 0.7841 - val_loss: 0.4976 - val_accuracy: 0.8383\n",
            "Epoch 2/20\n",
            "30/30 [==============================] - 1s 33ms/step - loss: 0.4157 - accuracy: 0.8939 - val_loss: 0.3978 - val_accuracy: 0.8852\n",
            "Epoch 3/20\n",
            "30/30 [==============================] - 1s 34ms/step - loss: 0.3447 - accuracy: 0.9100 - val_loss: 0.3802 - val_accuracy: 0.8799\n",
            "Epoch 4/20\n",
            "30/30 [==============================] - 1s 38ms/step - loss: 0.3097 - accuracy: 0.9227 - val_loss: 0.3678 - val_accuracy: 0.8852\n",
            "Epoch 5/20\n",
            "30/30 [==============================] - 1s 33ms/step - loss: 0.2880 - accuracy: 0.9301 - val_loss: 0.3960 - val_accuracy: 0.8683\n",
            "Epoch 6/20\n",
            "30/30 [==============================] - 1s 32ms/step - loss: 0.2743 - accuracy: 0.9321 - val_loss: 0.3568 - val_accuracy: 0.8856\n",
            "Epoch 7/20\n",
            "30/30 [==============================] - 1s 34ms/step - loss: 0.2620 - accuracy: 0.9371 - val_loss: 0.3751 - val_accuracy: 0.8789\n",
            "Epoch 8/20\n",
            "30/30 [==============================] - 1s 32ms/step - loss: 0.2523 - accuracy: 0.9423 - val_loss: 0.3607 - val_accuracy: 0.8845\n",
            "Epoch 9/20\n",
            "30/30 [==============================] - 1s 33ms/step - loss: 0.2462 - accuracy: 0.9446 - val_loss: 0.3648 - val_accuracy: 0.8823\n",
            "Epoch 10/20\n",
            "30/30 [==============================] - 1s 33ms/step - loss: 0.2345 - accuracy: 0.9493 - val_loss: 0.4118 - val_accuracy: 0.8654\n",
            "Epoch 11/20\n",
            "30/30 [==============================] - 1s 32ms/step - loss: 0.2352 - accuracy: 0.9465 - val_loss: 0.3744 - val_accuracy: 0.8811\n",
            "Epoch 12/20\n",
            "30/30 [==============================] - 1s 33ms/step - loss: 0.2266 - accuracy: 0.9515 - val_loss: 0.3739 - val_accuracy: 0.8791\n",
            "Epoch 13/20\n",
            "30/30 [==============================] - 1s 35ms/step - loss: 0.2231 - accuracy: 0.9521 - val_loss: 0.3802 - val_accuracy: 0.8806\n",
            "Epoch 14/20\n",
            "30/30 [==============================] - 1s 33ms/step - loss: 0.2166 - accuracy: 0.9541 - val_loss: 0.3862 - val_accuracy: 0.8794\n",
            "Epoch 15/20\n",
            "30/30 [==============================] - 1s 34ms/step - loss: 0.2185 - accuracy: 0.9519 - val_loss: 0.3902 - val_accuracy: 0.8770\n",
            "Epoch 16/20\n",
            "30/30 [==============================] - 1s 32ms/step - loss: 0.2055 - accuracy: 0.9609 - val_loss: 0.3950 - val_accuracy: 0.8764\n",
            "Epoch 17/20\n",
            "30/30 [==============================] - 1s 32ms/step - loss: 0.2133 - accuracy: 0.9532 - val_loss: 0.4150 - val_accuracy: 0.8703\n",
            "Epoch 18/20\n",
            "30/30 [==============================] - 1s 32ms/step - loss: 0.2067 - accuracy: 0.9573 - val_loss: 0.4315 - val_accuracy: 0.8673\n",
            "Epoch 19/20\n",
            "30/30 [==============================] - 1s 33ms/step - loss: 0.2076 - accuracy: 0.9568 - val_loss: 0.4047 - val_accuracy: 0.8749\n",
            "Epoch 20/20\n",
            "30/30 [==============================] - 1s 36ms/step - loss: 0.1993 - accuracy: 0.9604 - val_loss: 0.4135 - val_accuracy: 0.8733\n"
          ]
        }
      ],
      "source": [
        "from tensorflow.keras import regularizers\n",
        "model = keras.Sequential([\n",
        "    layers.Dense(16,\n",
        "                 kernel_regularizer=regularizers.l2(0.002),\n",
        "                 activation=\"relu\"),\n",
        "    layers.Dense(16,\n",
        "                 kernel_regularizer=regularizers.l2(0.002),\n",
        "                 activation=\"relu\"),\n",
        "    layers.Dense(1, activation=\"sigmoid\")\n",
        "])\n",
        "model.compile(optimizer=\"rmsprop\",\n",
        "              loss=\"binary_crossentropy\",\n",
        "              metrics=[\"accuracy\"])\n",
        "history_l2_reg = model.fit(\n",
        "    train_data, train_labels,\n",
        "    epochs=20, batch_size=512, validation_split=0.4)"
      ]
    },
    {
      "cell_type": "markdown",
      "metadata": {
        "id": "Rh1dacxcdMm-"
      },
      "source": [
        "**Different weight regularizers available in Keras**"
      ]
    },
    {
      "cell_type": "code",
      "execution_count": 14,
      "metadata": {
        "id": "FEAvI1OEdMm_",
        "colab": {
          "base_uri": "https://localhost:8080/"
        },
        "outputId": "75e1b459-4ca0-4355-bb09-3bf641564f71"
      },
      "outputs": [
        {
          "output_type": "execute_result",
          "data": {
            "text/plain": [
              "<keras.regularizers.L1L2 at 0x7f5057fea290>"
            ]
          },
          "metadata": {},
          "execution_count": 14
        }
      ],
      "source": [
        "from tensorflow.keras import regularizers\n",
        "regularizers.l1(0.001)\n",
        "regularizers.l1_l2(l1=0.001, l2=0.001)"
      ]
    },
    {
      "cell_type": "markdown",
      "metadata": {
        "id": "V__4kQo6dMnA"
      },
      "source": [
        "#### Adding dropout"
      ]
    },
    {
      "cell_type": "markdown",
      "metadata": {
        "id": "RHGcZAiGdMnD"
      },
      "source": [
        "**Adding dropout to the IMDB model**"
      ]
    },
    {
      "cell_type": "code",
      "execution_count": 15,
      "metadata": {
        "id": "oWYKRmIBdMnE",
        "colab": {
          "base_uri": "https://localhost:8080/"
        },
        "outputId": "02fcbf72-e542-4f1c-8c5e-916f8bfccd0e"
      },
      "outputs": [
        {
          "output_type": "stream",
          "name": "stdout",
          "text": [
            "Epoch 1/20\n",
            "30/30 [==============================] - 2s 41ms/step - loss: 0.6261 - accuracy: 0.6386 - val_loss: 0.5432 - val_accuracy: 0.8393\n",
            "Epoch 2/20\n",
            "30/30 [==============================] - 1s 32ms/step - loss: 0.5189 - accuracy: 0.7867 - val_loss: 0.4591 - val_accuracy: 0.8686\n",
            "Epoch 3/20\n",
            "30/30 [==============================] - 1s 35ms/step - loss: 0.4542 - accuracy: 0.8439 - val_loss: 0.4106 - val_accuracy: 0.8779\n",
            "Epoch 4/20\n",
            "30/30 [==============================] - 1s 42ms/step - loss: 0.4039 - accuracy: 0.8813 - val_loss: 0.3988 - val_accuracy: 0.8708\n",
            "Epoch 5/20\n",
            "30/30 [==============================] - 2s 51ms/step - loss: 0.3647 - accuracy: 0.9029 - val_loss: 0.3520 - val_accuracy: 0.8858\n",
            "Epoch 6/20\n",
            "30/30 [==============================] - 1s 50ms/step - loss: 0.3299 - accuracy: 0.9169 - val_loss: 0.3408 - val_accuracy: 0.8845\n",
            "Epoch 7/20\n",
            "30/30 [==============================] - 1s 33ms/step - loss: 0.3012 - accuracy: 0.9258 - val_loss: 0.3335 - val_accuracy: 0.8884\n",
            "Epoch 8/20\n",
            "30/30 [==============================] - 1s 38ms/step - loss: 0.2756 - accuracy: 0.9323 - val_loss: 0.3465 - val_accuracy: 0.8874\n",
            "Epoch 9/20\n",
            "30/30 [==============================] - 1s 34ms/step - loss: 0.2558 - accuracy: 0.9439 - val_loss: 0.3524 - val_accuracy: 0.8867\n",
            "Epoch 10/20\n",
            "30/30 [==============================] - 1s 34ms/step - loss: 0.2310 - accuracy: 0.9473 - val_loss: 0.3580 - val_accuracy: 0.8870\n",
            "Epoch 11/20\n",
            "30/30 [==============================] - 1s 34ms/step - loss: 0.2137 - accuracy: 0.9527 - val_loss: 0.3532 - val_accuracy: 0.8840\n",
            "Epoch 12/20\n",
            "30/30 [==============================] - 1s 34ms/step - loss: 0.1987 - accuracy: 0.9578 - val_loss: 0.3543 - val_accuracy: 0.8845\n",
            "Epoch 13/20\n",
            "30/30 [==============================] - 1s 35ms/step - loss: 0.1843 - accuracy: 0.9589 - val_loss: 0.4265 - val_accuracy: 0.8820\n",
            "Epoch 14/20\n",
            "30/30 [==============================] - 1s 38ms/step - loss: 0.1709 - accuracy: 0.9641 - val_loss: 0.5143 - val_accuracy: 0.8771\n",
            "Epoch 15/20\n",
            "30/30 [==============================] - 1s 33ms/step - loss: 0.1619 - accuracy: 0.9664 - val_loss: 0.4943 - val_accuracy: 0.8801\n",
            "Epoch 16/20\n",
            "30/30 [==============================] - 1s 37ms/step - loss: 0.1457 - accuracy: 0.9713 - val_loss: 0.5808 - val_accuracy: 0.8759\n",
            "Epoch 17/20\n",
            "30/30 [==============================] - 1s 34ms/step - loss: 0.1413 - accuracy: 0.9702 - val_loss: 0.4759 - val_accuracy: 0.8825\n",
            "Epoch 18/20\n",
            "30/30 [==============================] - 1s 34ms/step - loss: 0.1290 - accuracy: 0.9739 - val_loss: 0.5638 - val_accuracy: 0.8798\n",
            "Epoch 19/20\n",
            "30/30 [==============================] - 1s 34ms/step - loss: 0.1233 - accuracy: 0.9756 - val_loss: 0.4660 - val_accuracy: 0.8767\n",
            "Epoch 20/20\n",
            "30/30 [==============================] - 1s 33ms/step - loss: 0.1156 - accuracy: 0.9771 - val_loss: 0.6283 - val_accuracy: 0.8786\n"
          ]
        }
      ],
      "source": [
        "model = keras.Sequential([\n",
        "    layers.Dense(16, activation=\"relu\"),\n",
        "    layers.Dropout(0.5),\n",
        "    layers.Dense(16, activation=\"relu\"),\n",
        "    layers.Dropout(0.5),\n",
        "    layers.Dense(1, activation=\"sigmoid\")\n",
        "])\n",
        "model.compile(optimizer=\"rmsprop\",\n",
        "              loss=\"binary_crossentropy\",\n",
        "              metrics=[\"accuracy\"])\n",
        "history_dropout = model.fit(\n",
        "    train_data, train_labels,\n",
        "    epochs=20, batch_size=512, validation_split=0.4)"
      ]
    },
    {
      "cell_type": "markdown",
      "metadata": {
        "id": "RajaedxTdMnF"
      },
      "source": [
        "## Summary"
      ]
    }
  ],
  "metadata": {
    "colab": {
      "collapsed_sections": [],
      "name": "chapter05_fundamentals-of-ml.i",
      "provenance": [],
      "toc_visible": true,
      "include_colab_link": true
    },
    "kernelspec": {
      "display_name": "Python 3",
      "language": "python",
      "name": "python3"
    },
    "language_info": {
      "codemirror_mode": {
        "name": "ipython",
        "version": 3
      },
      "file_extension": ".py",
      "mimetype": "text/x-python",
      "name": "python",
      "nbconvert_exporter": "python",
      "pygments_lexer": "ipython3",
      "version": "3.7.0"
    }
  },
  "nbformat": 4,
  "nbformat_minor": 0
}