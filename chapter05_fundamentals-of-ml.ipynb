{
  "cells": [
    {
      "cell_type": "markdown",
      "metadata": {
        "id": "view-in-github",
        "colab_type": "text"
      },
      "source": [
        "<a href=\"https://colab.research.google.com/github/kriaz100/deep-learning-with-python-notebooks/blob/master/chapter05_fundamentals-of-ml.ipynb\" target=\"_parent\"><img src=\"https://colab.research.google.com/assets/colab-badge.svg\" alt=\"Open In Colab\"/></a>"
      ]
    },
    {
      "cell_type": "markdown",
      "metadata": {
        "id": "-7aRZWVvdMlV"
      },
      "source": [
        "This is a companion notebook for the book [Deep Learning with Python, Second Edition](https://www.manning.com/books/deep-learning-with-python-second-edition?a_aid=keras&a_bid=76564dff). For readability, it only contains runnable code blocks and section titles, and omits everything else in the book: text paragraphs, figures, and pseudocode.\n",
        "\n",
        "**If you want to be able to follow what's going on, I recommend reading the notebook side by side with your copy of the book.**\n",
        "\n",
        "This notebook was generated for TensorFlow 2.6."
      ]
    },
    {
      "cell_type": "markdown",
      "metadata": {
        "id": "8q4y7kdddMlq"
      },
      "source": [
        "# Fundamentals of machine learning"
      ]
    },
    {
      "cell_type": "markdown",
      "metadata": {
        "id": "MdCq7s3JdMlu"
      },
      "source": [
        "## Generalization: The goal of machine learning"
      ]
    },
    {
      "cell_type": "markdown",
      "metadata": {
        "id": "dx_SjFoFdMlx"
      },
      "source": [
        "### Underfitting and overfitting"
      ]
    },
    {
      "cell_type": "markdown",
      "metadata": {
        "id": "khpR4R_rdMlz"
      },
      "source": [
        "#### Noisy training data"
      ]
    },
    {
      "cell_type": "markdown",
      "metadata": {
        "id": "DzjicQwgdMl1"
      },
      "source": [
        "#### Ambiguous features"
      ]
    },
    {
      "cell_type": "markdown",
      "metadata": {
        "id": "s1CUdYQ7dMl3"
      },
      "source": [
        "#### Rare features and spurious correlations\n",
        "ML models trained on rare features are suseptible to overfitting.\n",
        "\n",
        "- If you have seen only two orange tabby cats who were terribly antisocial, you may infer that orange tabby cats were antisocial. It would take more exposure to tabby cats for you to learn that color is unrelated to cat character.\n",
        "\n",
        "- If a sentiment classification model was trained a reviws that included a review containing a rare word 'chrimoya', and the review happened to be negative, the model is likely to classify review containing 'cherimoya' as representing negative sentiment. \n",
        "\n",
        "- Spurrious correlation is not limited to cases that occur only a couple of times. If a word occurs 100 times, and is associated with positive sentiment 54% of the time, the model is likely to leverage that feature. This is overfitting becuase the proportion of occurance (54%) may be a just statistical fluke.\n",
        "\n",
        "Below we perform the following expriments:\n",
        "\n",
        "        (a) Concatenate to the 784 features of original MNIST training data, an additional 784 features of random noise (784 columns of random numbers)   -- so that half of teh data is white noise. \n",
        "        (b) concatenate 784 zero columns or features to the original 784 MNIST training data features   "
      ]
    },
    {
      "cell_type": "markdown",
      "metadata": {
        "id": "3vX0UL5tdMl6"
      },
      "source": [
        "**Adding white-noise channels or all-zeros channels to MNIST**"
      ]
    },
    {
      "cell_type": "code",
      "execution_count": 1,
      "metadata": {
        "id": "2ROpdO4idMl9"
      },
      "outputs": [],
      "source": [
        "from tensorflow.keras.datasets import mnist\n",
        "import numpy as np\n",
        "\n",
        "(train_images, train_labels), _ = mnist.load_data()\n",
        "train_images = train_images.reshape((60000, 28 * 28))\n",
        "train_images = train_images.astype(\"float32\") / 255\n",
        "\n",
        "train_images_with_noise_channels = np.concatenate(\n",
        "    [train_images, np.random.random((len(train_images), 784))], axis=1)   # axis =1 means column concatenation\n",
        "\n",
        "train_images_with_zeros_channels = np.concatenate(\n",
        "    [train_images, np.zeros((len(train_images), 784))], axis=1)"
      ]
    },
    {
      "cell_type": "markdown",
      "metadata": {
        "id": "D0_xagOVdMmG"
      },
      "source": [
        "**Training the same model on MNIST data with noise channels or all-zero channels**\n",
        "\n",
        "We will run the model twice: onece with noise cannels and once with zero channels, and compare the performance"
      ]
    },
    {
      "cell_type": "code",
      "execution_count": null,
      "metadata": {
        "id": "0pMzdR2odMmI"
      },
      "outputs": [],
      "source": [
        "from tensorflow import keras\n",
        "from tensorflow.keras import layers\n",
        "\n",
        "# defining NN architecture and compiling the model\n",
        "def get_model():\n",
        "    model = keras.Sequential([\n",
        "        layers.Dense(512, activation=\"relu\"),\n",
        "        layers.Dense(10, activation=\"softmax\")\n",
        "    ])\n",
        "    model.compile(optimizer=\"rmsprop\",\n",
        "                  loss=\"sparse_categorical_crossentropy\",\n",
        "                  metrics=[\"accuracy\"])\n",
        "    return model\n",
        "\n",
        "# Training the model on data with NOISE channels  \n",
        "model = get_model()\n",
        "history_noise = model.fit(\n",
        "    train_images_with_noise_channels, train_labels,\n",
        "    epochs=10,\n",
        "    batch_size=128,\n",
        "    validation_split=0.2)\n",
        "\n",
        "# Training the model on data with ZEROS\n",
        "model = get_model()\n",
        "history_zeros = model.fit(\n",
        "    train_images_with_zeros_channels, train_labels,\n",
        "    epochs=10,\n",
        "    batch_size=128,\n",
        "    validation_split=0.2)"
      ]
    },
    {
      "cell_type": "markdown",
      "metadata": {
        "id": "FBoOP3htdMmM"
      },
      "source": [
        "**Plotting a validation accuracy comparison**\n",
        "\n",
        "Plotting validation accuracy when model is trainied on data with NOISE vs when it is trained on data with ZEROS"
      ]
    },
    {
      "cell_type": "code",
      "execution_count": 3,
      "metadata": {
        "id": "UImFz4oFdMmN",
        "colab": {
          "base_uri": "https://localhost:8080/",
          "height": 312
        },
        "outputId": "a3a16bd5-3f61-4649-f9cc-e29c4e5213f2"
      },
      "outputs": [
        {
          "output_type": "execute_result",
          "data": {
            "text/plain": [
              "<matplotlib.legend.Legend at 0x7f5067c25110>"
            ]
          },
          "metadata": {},
          "execution_count": 3
        },
        {
          "output_type": "display_data",
          "data": {
            "text/plain": [
              "<Figure size 432x288 with 1 Axes>"
            ],
            "image/png": "[encoded data removed]"
          },
          "metadata": {
            "needs_background": "light"
          }
        }
      ],
      "source": [
        "import matplotlib.pyplot as plt\n",
        "val_acc_noise = history_noise.history[\"val_accuracy\"]\n",
        "val_acc_zeros = history_zeros.history[\"val_accuracy\"]\n",
        "epochs = range(1, 11)\n",
        "plt.plot(epochs, val_acc_noise, \"b-\",\n",
        "         label=\"Validation accuracy with noise channels\")\n",
        "plt.plot(epochs, val_acc_zeros, \"b--\",\n",
        "         label=\"Validation accuracy with zeros channels\")\n",
        "plt.title(\"Effect of noise channels on validation accuracy\")\n",
        "plt.xlabel(\"Epochs\")\n",
        "plt.ylabel(\"Accuracy\")\n",
        "plt.legend()"
      ]
    },
    {
      "cell_type": "markdown",
      "source": [
        "Validation accuracy of model trained on NOISE channels is 1 percent point lower than the validation accuracy of data with zeros.\n",
        "\n",
        "- Noisy features inevitably lead to overfitting\n",
        "- Feature selection is a good strategy for dealing with overfitting. You may select features based on some usefulness score of features.\n"
      ],
      "metadata": {
        "id": "DQUsTEvmpMid"
      }
    },
    {
      "cell_type": "markdown",
      "metadata": {
        "id": "yIluDSrMdMmR"
      },
      "source": [
        "### The nature of generalization in deep learning\n",
        "\n",
        "The model's ability to generalize is assessed on unseen data (e.g validation loss). The training loss would continue to decline even if the classification labels of the target variable were randomly assigned. This is demonstrated below."
      ]
    },
    {
      "cell_type": "markdown",
      "metadata": {
        "id": "PS1870s9dMmT"
      },
      "source": [
        "**Fitting a MNIST model with randomly shuffled labels**"
      ]
    },
    {
      "cell_type": "code",
      "execution_count": null,
      "metadata": {
        "id": "_4hNvjGNdMmU"
      },
      "outputs": [],
      "source": [
        "(train_images, train_labels), _ = mnist.load_data()\n",
        "train_images = train_images.reshape((60000, 28 * 28))\n",
        "train_images = train_images.astype(\"float32\") / 255\n",
        "\n",
        "random_train_labels = train_labels[:]  # select all labels\n",
        "np.random.shuffle(random_train_labels) # reshuffle the labels. Now they dont match original inputs.\n",
        "\n",
        "model = keras.Sequential([\n",
        "    layers.Dense(512, activation=\"relu\"),\n",
        "    layers.Dense(10, activation=\"softmax\")\n",
        "])\n",
        "model.compile(optimizer=\"rmsprop\",\n",
        "              loss=\"sparse_categorical_crossentropy\",\n",
        "              metrics=[\"accuracy\"])\n",
        "model.fit(train_images, random_train_labels,\n",
        "          epochs=100,\n",
        "          batch_size=128,\n",
        "          validation_split=0.2)"
      ]
    },
    {
      "cell_type": "markdown",
      "source": [
        "The training loss declined continuously from 2.3 to 0.46 but the validation loss did not decline. Instead it rose to 7.72"
      ],
      "metadata": {
        "id": "GdJy1L88K7y3"
      }
    },
    {
      "cell_type": "markdown",
      "metadata": {
        "id": "HlJWiQ4WdMmW"
      },
      "source": [
        "#### The manifold hypothesis\n",
        "\n",
        "The MNIST data are 28 x 28 arrays. The pixel actually corresponding to the handwritten digits are a *sub-space* of this space. \n",
        "\n",
        "Within the space of 28x28 arrays, the hand written digits are a *manifold* -- a lower dimensional *subspace* of some parent space that is locally similar to a linear (ie Euclidian) space. A smooth curve is a 1D manifold in 2D space (i.e. the plane). The curve is continuous and connected. It can be approximated as a series of tangents (to the curve itself).\n",
        "\n",
        "The curve can morph into different shapes, and there is a series of intermediate shapes. Likewise the handwritten digits are continuous and connected subspaces. Two handwritten digits (A & B) have a sequence of intermediate shapes that morph A into B (see fig 5.7). Another example is the digits on an electronic calculator.\n",
        "\n",
        "The manifold hypothesis implies that:\n",
        "- Machine learning models only have to fit relatively simple, low dimensional, highly structured subspaces within their potential input space (latent manifolds)\n",
        "\n",
        "- Within one of these manifolds, it is alsways possible to *interpolate* between two inputs, that is to say, morph one into another via a continuous path along which all points fall on a manifold.\n",
        "\n",
        "<font color ='blue'>The ability to interpolate between samples is the key to understanding generalization in deep learning</font>\n"
      ]
    },
    {
      "cell_type": "markdown",
      "metadata": {
        "id": "MSJNIf6NdMmX"
      },
      "source": [
        "#### Interpolation as a source of generalization\n",
        "\n",
        "- You can make sense of **totality** of a space by using only a **sample** of the space by interpolating to fill the blanks.\n",
        "- Interpolation enables only a local generalization. Model can make sense of things very close to what it has seen before.\n",
        "-By contrast, humans are capable of *extreme generlization* because of other cognitive abilities that we call to reasoning (inlcuding abstraction, symbolic models of the world, reasoning, logic, common sense, and innate priors about the world), as opposed to interpolative abilities (intuition or pattern recognition). "
      ]
    },
    {
      "cell_type": "markdown",
      "metadata": {
        "id": "o9zs5SjNdMmY"
      },
      "source": [
        "#### Why deep learning works\n",
        "- A flattened *paper-ball* is a 2D *manifold* wihin a 3D space\n",
        "- A deep learning model is a tool for uncrumpling (flatening) paper-balls, that is, for disentagling latent manifolds. The model is basically a high-dimensional curve.\n",
        "- The curve involves enogh parameters to fit anything. But given the fact that your datapoints are not randomly sprinkled in the subspace but form a highly structiured subspace (manifold hypothesis), there will be an intermediate point during training at which the model roughly approximates the natural manifold of the data.\n",
        "- If the approximtion is good, moving along the curve would be moving along the latent manifold of data. \n",
        "- As such the model will be capable of making sense of never-seen-before inputs via interpolation between trainiung inputs. "
      ]
    },
    {
      "cell_type": "markdown",
      "metadata": {
        "id": "bCAHHqgvdMmZ"
      },
      "source": [
        "#### Training data is paramount\n",
        "Deep learning is well suited to manifold learning but the power to generalize depends on input data forming a manifold where the points can be interpolated. The generalization will depend on the following:\n",
        "\n",
        "- Informativeness of features and there being less noise in them. Data curation and feature engineering are essential.\n",
        "\n",
        "- Denseness of sampling from the input space, especially near the deciion boundary. This would make external knowledge unnecessary.\n",
        "\n",
        "- More *and* better data. Adding noisy data does not help as already noted.\n",
        "\n",
        "- Regularization i.e. modulating the quantity of information stored by the model, especially when getting more data is not possible. Controlling how much the model can memorize will force it to focus on the most important features. More on regularization in sec 5.4.4.\n"
      ]
    },
    {
      "cell_type": "markdown",
      "metadata": {
        "id": "TNWfejURdMmb"
      },
      "source": [
        "## Evaluating machine-learning models\n",
        "Evaluating the model means reliably measuring its generalization power.\n",
        "\n",
        "- You train your model on training data, evaluate it on validation data, and test it one final time on a test dataset as similar as possible to the production data.\n",
        "\n"
      ]
    },
    {
      "cell_type": "markdown",
      "metadata": {
        "id": "yvueVigPdMmc"
      },
      "source": [
        "### Training, validation, and test sets\n",
        "Why do we use validation data instead of evaluating the model directly on test data?\n",
        "\n",
        "- Because evaluting the model always involves hyperparameter tuning where you search for a good configuration (eg number of layers and size of layers).\n",
        "- Hyperparameter tuning is also a form of learning, and can lead to overfitting.\n",
        "- Having validation data for hyperparameter tunning ensures that the final model evaluation is done on never-seen-before data (test data).\n",
        "This prevents information leaks, especially when you run multiple experiments on your model (extensive hyperparameter tuning)."
      ]
    },
    {
      "cell_type": "markdown",
      "metadata": {
        "id": "Nch4wDg2dMmf"
      },
      "source": [
        "#### Simple hold-out validation\n",
        "You set apart a fraction of data as test set, train on remaining data, and evaluate on test set. However, to prevent information leaks, youshold not tune the model on test data. Therefore, you should also reserve a validation set.\n",
        "\n",
        "This may not be practicle if your data is too small. In that case you may have to use *K-fold validation* or *iterated K-fold valiadation*. \n",
        "\n",
        " "
      ]
    },
    {
      "cell_type": "markdown",
      "metadata": {
        "id": "iOqN-DJBdMmh"
      },
      "source": [
        "#### K-fold validation\n",
        "- Split your data into K partititions of equal size.\n",
        "- For each partitition i, train a model on the remaining K-1 partititions, evaluate it on partition i.\n",
        "-Your final evaluation score is the average of the K scores. \n",
        "- <font color='blue'> \n",
        "For a schematic representation of K-fold cross valiadtion see Fig 5.13 copied below</font> "
      ]
    },
    {
      "cell_type": "markdown",
      "source": [
        "![Capture.PNG](data:image/png;base64,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)"
      ],
      "metadata": {
        "id": "B9cqjg-LWulV"
      }
    },
    {
      "cell_type": "markdown",
      "source": [
        "<font color='blue'>An outline of the code to perform K-fold cross validation is in Listing 5.5 in the book</font>"
      ],
      "metadata": {
        "id": "tc63VcicXMVw"
      }
    },
    {
      "cell_type": "markdown",
      "metadata": {
        "id": "xeZUSz4YdMmi"
      },
      "source": [
        "#### Iterated K-fold validation with shuffling\n",
        "Used when relatively little data is available. <font color='blue'>Useful in Kaggle competitions</font>.\n",
        "- Apply K-fold cross validation multiple  times, shuffling data every time before splitting it K ways. Final score is the average score in each run of tthe K-fold valiadation.  \n"
      ]
    },
    {
      "cell_type": "markdown",
      "metadata": {
        "id": "CUCgVcQydMmj"
      },
      "source": [
        "### Beating a common-sense baseline\n",
        "Try beating a trivial baseline on <font color='steel blue'>validation data</font>. For example:\n",
        "- On MNIST data, accuracy greater than 0.1 (i.e.performanec of random classifier on 10 possible digits)\n",
        "- If the data is imbalanced and 90% of samples belong to class A and 10% to B, then any classifier that always predicts class A will be accurate 90% of the time. Your model needs to beat that.\n",
        "\n",
        "If the model cannot even beat the trivial baseline, it is worthless."
      ]
    },
    {
      "cell_type": "markdown",
      "metadata": {
        "id": "3US8MbLddMmk"
      },
      "source": [
        "### Things to keep in mind about model evaluation\n",
        "- *Data representativeness:* Randomly shuffle the data before splitting it.\n",
        "- *The arrow of time:* However, do not shuffle timeseries data, it would cause a *temporal leak*. Your test data must be posterior to your training data.\n",
        "- *Redundancy in your data:* Remove duplicates before shuffling and splitting the data. Otherwise copies of same observations(cases) would make their way into validation data. The training and validation data sets must be disjoint. \n"
      ]
    },
    {
      "cell_type": "markdown",
      "metadata": {
        "id": "Hr3rXZO-dMml"
      },
      "source": [
        "## Improving model fit\n",
        "*To achive the perfect fit, you must first overfit!*\n",
        "\n",
        "Your objective is to get a model that achieves some generalization but overfits. After you have such a model you try to get greater generalization by reducing overfitting. \n",
        "\n",
        "At this stage, you will face three problems:\n",
        "- Training does not start. Training loss does not decline.\n",
        "- Model cannot generalize well ie you cannot beat the common-sense baseline\n",
        "- You don't seem to be overfitting. Training and validation loss go down over time nad you beat the baseline but you are still underfitting.\n",
        "\n",
        "We will see below how to address these issues: getting a model that has some generalization power (beats baseline) and is able to overfit."
      ]
    },
    {
      "cell_type": "markdown",
      "metadata": {
        "id": "n_879JVtdMmm"
      },
      "source": [
        "### Tuning key gradient descent parameters\n"
      ]
    },
    {
      "cell_type": "markdown",
      "metadata": {
        "id": "zHypjQpsdMmm"
      },
      "source": [
        "**Training a MNIST model with an incorrectly <font color='blue'>high learning rate</font>**:\n",
        "\n",
        "- Sometimes the training does not start or starts too early. The training loss is stuck, and does not decline. \n",
        "- When this happens the problem is the learning rate as in the model below (learning rate = 1. )\n",
        "- If the learning rate is too high, the model overshoots the optimal fit, if it is too low, the training slows and appears to stall. "
      ]
    },
    {
      "cell_type": "code",
      "execution_count": 16,
      "metadata": {
        "id": "nKjcZsMwdMmn",
        "colab": {
          "base_uri": "https://localhost:8080/"
        },
        "outputId": "45906d5b-9d9c-474b-97a8-a00797162d6f"
      },
      "outputs": [
        {
          "output_type": "stream",
          "name": "stdout",
          "text": [
            "Epoch 1/10\n",
            "375/375 [==============================] - 5s 11ms/step - loss: 772.1321 - accuracy: 0.3755 - val_loss: 2.0679 - val_accuracy: 0.2373\n",
            "Epoch 2/10\n",
            "375/375 [==============================] - 4s 11ms/step - loss: 8.9666 - accuracy: 0.2395 - val_loss: 2.2932 - val_accuracy: 0.2306\n",
            "Epoch 3/10\n",
            "375/375 [==============================] - 4s 11ms/step - loss: 2.7148 - accuracy: 0.2305 - val_loss: 2.5534 - val_accuracy: 0.2539\n",
            "Epoch 4/10\n",
            "375/375 [==============================] - 4s 11ms/step - loss: 3.2918 - accuracy: 0.2337 - val_loss: 2.2694 - val_accuracy: 0.2702\n",
            "Epoch 5/10\n",
            "375/375 [==============================] - 4s 11ms/step - loss: 2.8196 - accuracy: 0.2457 - val_loss: 2.9980 - val_accuracy: 0.2918\n",
            "Epoch 6/10\n",
            "375/375 [==============================] - 4s 11ms/step - loss: 3.2748 - accuracy: 0.2419 - val_loss: 5.0232 - val_accuracy: 0.2954\n",
            "Epoch 7/10\n",
            "375/375 [==============================] - 4s 11ms/step - loss: 2.7120 - accuracy: 0.2579 - val_loss: 4.9500 - val_accuracy: 0.2618\n",
            "Epoch 8/10\n",
            "375/375 [==============================] - 4s 11ms/step - loss: 2.5446 - accuracy: 0.2471 - val_loss: 2.9928 - val_accuracy: 0.3140\n",
            "Epoch 9/10\n",
            "375/375 [==============================] - 4s 11ms/step - loss: 2.4903 - accuracy: 0.2615 - val_loss: 14.0623 - val_accuracy: 0.2782\n",
            "Epoch 10/10\n",
            "375/375 [==============================] - 4s 11ms/step - loss: 2.8737 - accuracy: 0.2701 - val_loss: 2.3936 - val_accuracy: 0.2418\n"
          ]
        },
        {
          "output_type": "execute_result",
          "data": {
            "text/plain": [
              "<keras.callbacks.History at 0x7f50598d02d0>"
            ]
          },
          "metadata": {},
          "execution_count": 16
        }
      ],
      "source": [
        "(train_images, train_labels), _ = mnist.load_data()\n",
        "train_images = train_images.reshape((60000, 28 * 28))\n",
        "train_images = train_images.astype(\"float32\") / 255\n",
        "\n",
        "model = keras.Sequential([\n",
        "    layers.Dense(512, activation=\"relu\"),\n",
        "    layers.Dense(10, activation=\"softmax\")\n",
        "])\n",
        "model.compile(optimizer=keras.optimizers.RMSprop(1.),    # incorrectly high learning rate 1.\n",
        "              loss=\"sparse_categorical_crossentropy\",\n",
        "              metrics=[\"accuracy\"])\n",
        "model.fit(train_images, train_labels,\n",
        "          epochs=10,\n",
        "          batch_size=128,\n",
        "          validation_split=0.2)"
      ]
    },
    {
      "cell_type": "markdown",
      "source": [
        "The training loss accuracy does not decline and start rising again. In Epoch 3 the training loss is 2.7 and in epoch 10, it is around 2.87. \n",
        "\n",
        "Below we run the same mode but with a much lower  learning rate 1e-2. It will now train well.\n",
        "\n",
        "The training losss will decline from 0.35 to 0.05."
      ],
      "metadata": {
        "id": "Nw1sXhp8P6ga"
      }
    },
    {
      "cell_type": "markdown",
      "metadata": {
        "id": "dEXuLgVBdMmo"
      },
      "source": [
        "**The same model with a more appropriate learning rate**"
      ]
    },
    {
      "cell_type": "code",
      "execution_count": 17,
      "metadata": {
        "id": "mJjvblWWdMmp",
        "colab": {
          "base_uri": "https://localhost:8080/"
        },
        "outputId": "b431efd3-3ab6-4bca-a6fe-6f9acc5fb8d0"
      },
      "outputs": [
        {
          "output_type": "stream",
          "name": "stdout",
          "text": [
            "Epoch 1/10\n",
            "375/375 [==============================] - 6s 14ms/step - loss: 0.3536 - accuracy: 0.9141 - val_loss: 0.1374 - val_accuracy: 0.9611\n",
            "Epoch 2/10\n",
            "375/375 [==============================] - 4s 11ms/step - loss: 0.1403 - accuracy: 0.9634 - val_loss: 0.1811 - val_accuracy: 0.9609\n",
            "Epoch 3/10\n",
            "375/375 [==============================] - 4s 11ms/step - loss: 0.1154 - accuracy: 0.9739 - val_loss: 0.1905 - val_accuracy: 0.9635\n",
            "Epoch 4/10\n",
            "375/375 [==============================] - 4s 11ms/step - loss: 0.0987 - accuracy: 0.9781 - val_loss: 0.2545 - val_accuracy: 0.9609\n",
            "Epoch 5/10\n",
            "375/375 [==============================] - 4s 11ms/step - loss: 0.0832 - accuracy: 0.9816 - val_loss: 0.2011 - val_accuracy: 0.9712\n",
            "Epoch 6/10\n",
            "375/375 [==============================] - 4s 11ms/step - loss: 0.0828 - accuracy: 0.9841 - val_loss: 0.2151 - val_accuracy: 0.9729\n",
            "Epoch 7/10\n",
            "375/375 [==============================] - 4s 11ms/step - loss: 0.0742 - accuracy: 0.9855 - val_loss: 0.2761 - val_accuracy: 0.9707\n",
            "Epoch 8/10\n",
            "375/375 [==============================] - 4s 11ms/step - loss: 0.0654 - accuracy: 0.9877 - val_loss: 0.2615 - val_accuracy: 0.9751\n",
            "Epoch 9/10\n",
            "375/375 [==============================] - 4s 11ms/step - loss: 0.0608 - accuracy: 0.9889 - val_loss: 0.3033 - val_accuracy: 0.9721\n",
            "Epoch 10/10\n",
            "375/375 [==============================] - 4s 11ms/step - loss: 0.0548 - accuracy: 0.9903 - val_loss: 0.2907 - val_accuracy: 0.9750\n"
          ]
        },
        {
          "output_type": "execute_result",
          "data": {
            "text/plain": [
              "<keras.callbacks.History at 0x7f505a783290>"
            ]
          },
          "metadata": {},
          "execution_count": 17
        }
      ],
      "source": [
        "model = keras.Sequential([\n",
        "    layers.Dense(512, activation=\"relu\"),\n",
        "    layers.Dense(10, activation=\"softmax\")\n",
        "])\n",
        "model.compile(optimizer=keras.optimizers.RMSprop(1e-2),\n",
        "              loss=\"sparse_categorical_crossentropy\",\n",
        "              metrics=[\"accuracy\"])\n",
        "model.fit(train_images, train_labels,\n",
        "          epochs=10,\n",
        "          batch_size=128,\n",
        "          validation_split=0.2)"
      ]
    },
    {
      "cell_type": "markdown",
      "metadata": {
        "id": "bN98qQfBdMmq"
      },
      "source": [
        "### Leveraging better architecture priors\n",
        "- Sometimes your model trains well but the validation maetrics do not improve at all. They do not beat the random classifier. Model does not generalize.\n",
        "\n",
        "- If this happens, there is something fundamentally wrong with our approach. \n",
        "\n",
        "  - It could be that the input data does not contain sufficient information to predict your targets\n",
        "  - You need to make right assumptions about the problem to achieve generalization. For example, In time series models, using densley connected layer may not be sufficient. You need to use appropriate *recurrent architecture*.\n",
        "- <font color='blue'>Always read up on architectural best practices for the task at hand</font>.\n"
      ]
    },
    {
      "cell_type": "markdown",
      "metadata": {
        "id": "Hmr90xvndMmq"
      },
      "source": [
        "### Increasing model capacity\n",
        "We take below a model (logistic regression) and train it on MNIST pixels. The model is not sufficient for this classifying task. Later on we will show that using model with more capacity will produce better performance metrics. But first the insufficient model -- logistic regression."
      ]
    },
    {
      "cell_type": "markdown",
      "metadata": {
        "id": "LQQNPbxVdMmr"
      },
      "source": [
        "**A simple logistic regression on MNIST**"
      ]
    },
    {
      "cell_type": "code",
      "execution_count": null,
      "metadata": {
        "id": "D4gkavc-dMmu"
      },
      "outputs": [],
      "source": [
        "model = keras.Sequential([layers.Dense(10, activation=\"softmax\")])\n",
        "model.compile(optimizer=\"rmsprop\",\n",
        "              loss=\"sparse_categorical_crossentropy\",\n",
        "              metrics=[\"accuracy\"])\n",
        "history_small_model = model.fit(\n",
        "    train_images, train_labels,\n",
        "    epochs=20,\n",
        "    batch_size=128,\n",
        "    validation_split=0.2)"
      ]
    },
    {
      "cell_type": "code",
      "execution_count": 8,
      "metadata": {
        "id": "Al1_PoAPdMmv",
        "colab": {
          "base_uri": "https://localhost:8080/",
          "height": 312
        },
        "outputId": "92df225f-7c96-4c20-d380-df8b6b1b919f"
      },
      "outputs": [
        {
          "output_type": "execute_result",
          "data": {
            "text/plain": [
              "<matplotlib.legend.Legend at 0x7f5063adf350>"
            ]
          },
          "metadata": {},
          "execution_count": 8
        },
        {
          "output_type": "display_data",
          "data": {
            "text/plain": [
              "<Figure size 432x288 with 1 Axes>"
            ],
            "image/png": "[encoded data removed]"
          },
          "metadata": {
            "needs_background": "light"
          }
        }
      ],
      "source": [
        "import matplotlib.pyplot as plt\n",
        "val_loss = history_small_model.history[\"val_loss\"]\n",
        "epochs = range(1, 21)\n",
        "plt.plot(epochs, val_loss, \"b--\",\n",
        "         label=\"Validation loss\")\n",
        "plt.title(\"Effect of insufficient model capacity on validation loss\")\n",
        "plt.xlabel(\"Epochs\")\n",
        "plt.ylabel(\"Loss\")\n",
        "plt.legend()"
      ]
    },
    {
      "cell_type": "markdown",
      "source": [
        "We cannnot get the model to overfit (declining validation loss). The modle is insufficient. It has low *representation power*. \n",
        "\n",
        "You can increase the *representation power* of the model by:\n",
        "- Adding more layers\n",
        "- Using bigger layers (more neurons)\n",
        "- Using more appropriate layers (e.g. recurrent architenture instead of dense layers in timeseries models).\n",
        "\n",
        "In the model below we increase the *representation power* relative to logistic regression (single layer, 10 neurons) by adding more and larger layers (two hidden layers with 96 neurons each, in addition to the standard softmax layer with 10 neurons)."
      ],
      "metadata": {
        "id": "eRfIemKBZNjY"
      }
    },
    {
      "cell_type": "code",
      "execution_count": 19,
      "metadata": {
        "id": "y20nYRhIdMmx",
        "colab": {
          "base_uri": "https://localhost:8080/"
        },
        "outputId": "31df4c2a-3992-43da-d371-3f540b6b1f31"
      },
      "outputs": [
        {
          "output_type": "stream",
          "name": "stdout",
          "text": [
            "Epoch 1/20\n",
            "375/375 [==============================] - 3s 5ms/step - loss: 0.3590 - accuracy: 0.8985 - val_loss: 0.1853 - val_accuracy: 0.9463\n",
            "Epoch 2/20\n",
            "375/375 [==============================] - 2s 5ms/step - loss: 0.1634 - accuracy: 0.9510 - val_loss: 0.1353 - val_accuracy: 0.9604\n",
            "Epoch 3/20\n",
            "375/375 [==============================] - 2s 5ms/step - loss: 0.1157 - accuracy: 0.9656 - val_loss: 0.1122 - val_accuracy: 0.9664\n",
            "Epoch 4/20\n",
            "375/375 [==============================] - 2s 5ms/step - loss: 0.0891 - accuracy: 0.9726 - val_loss: 0.1035 - val_accuracy: 0.9693\n",
            "Epoch 5/20\n",
            "375/375 [==============================] - 2s 5ms/step - loss: 0.0722 - accuracy: 0.9785 - val_loss: 0.0989 - val_accuracy: 0.9707\n",
            "Epoch 6/20\n",
            "375/375 [==============================] - 2s 5ms/step - loss: 0.0585 - accuracy: 0.9821 - val_loss: 0.0868 - val_accuracy: 0.9744\n",
            "Epoch 7/20\n",
            "375/375 [==============================] - 2s 5ms/step - loss: 0.0482 - accuracy: 0.9855 - val_loss: 0.0927 - val_accuracy: 0.9737\n",
            "Epoch 8/20\n",
            "375/375 [==============================] - 2s 5ms/step - loss: 0.0404 - accuracy: 0.9874 - val_loss: 0.0881 - val_accuracy: 0.9753\n",
            "Epoch 9/20\n",
            "375/375 [==============================] - 2s 5ms/step - loss: 0.0346 - accuracy: 0.9898 - val_loss: 0.0970 - val_accuracy: 0.9731\n",
            "Epoch 10/20\n",
            "375/375 [==============================] - 2s 5ms/step - loss: 0.0286 - accuracy: 0.9913 - val_loss: 0.0932 - val_accuracy: 0.9756\n",
            "Epoch 11/20\n",
            "375/375 [==============================] - 2s 5ms/step - loss: 0.0245 - accuracy: 0.9921 - val_loss: 0.1065 - val_accuracy: 0.9720\n",
            "Epoch 12/20\n",
            "375/375 [==============================] - 2s 5ms/step - loss: 0.0218 - accuracy: 0.9927 - val_loss: 0.1005 - val_accuracy: 0.9753\n",
            "Epoch 13/20\n",
            "375/375 [==============================] - 2s 5ms/step - loss: 0.0171 - accuracy: 0.9945 - val_loss: 0.1110 - val_accuracy: 0.9747\n",
            "Epoch 14/20\n",
            "375/375 [==============================] - 2s 5ms/step - loss: 0.0162 - accuracy: 0.9948 - val_loss: 0.1036 - val_accuracy: 0.9758\n",
            "Epoch 15/20\n",
            "375/375 [==============================] - 2s 6ms/step - loss: 0.0126 - accuracy: 0.9962 - val_loss: 0.1188 - val_accuracy: 0.9760\n",
            "Epoch 16/20\n",
            "375/375 [==============================] - 2s 6ms/step - loss: 0.0113 - accuracy: 0.9965 - val_loss: 0.1165 - val_accuracy: 0.9761\n",
            "Epoch 17/20\n",
            "375/375 [==============================] - 2s 6ms/step - loss: 0.0091 - accuracy: 0.9973 - val_loss: 0.1242 - val_accuracy: 0.9747\n",
            "Epoch 18/20\n",
            "375/375 [==============================] - 2s 5ms/step - loss: 0.0081 - accuracy: 0.9974 - val_loss: 0.1251 - val_accuracy: 0.9757\n",
            "Epoch 19/20\n",
            "375/375 [==============================] - 2s 5ms/step - loss: 0.0066 - accuracy: 0.9978 - val_loss: 0.1307 - val_accuracy: 0.9762\n",
            "Epoch 20/20\n",
            "375/375 [==============================] - 2s 5ms/step - loss: 0.0056 - accuracy: 0.9982 - val_loss: 0.1302 - val_accuracy: 0.9767\n"
          ]
        }
      ],
      "source": [
        "model = keras.Sequential([\n",
        "    layers.Dense(96, activation=\"relu\"),\n",
        "    layers.Dense(96, activation=\"relu\"),\n",
        "    layers.Dense(10, activation=\"softmax\"),\n",
        "])\n",
        "model.compile(optimizer=\"rmsprop\",\n",
        "              loss=\"sparse_categorical_crossentropy\",\n",
        "              metrics=[\"accuracy\"])\n",
        "history_large_model = model.fit(\n",
        "    train_images, train_labels,\n",
        "    epochs=20,\n",
        "    batch_size=128,\n",
        "    validation_split=0.2)"
      ]
    },
    {
      "cell_type": "markdown",
      "source": [
        "The validation loss will look like the pic below.It starts to overfit as required.\n",
        "\n",
        "![Untitled.png](data:image/png;base64,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)"
      ],
      "metadata": {
        "id": "TMo2yy6EbwsY"
      }
    },
    {
      "cell_type": "markdown",
      "metadata": {
        "id": "c0vq6GrxdMmy"
      },
      "source": [
        "## Improving generalization\n",
        "Once the model has some generalization power and starts to overfit, it is time to maximize generalization (by reducing overfitting)."
      ]
    },
    {
      "cell_type": "markdown",
      "metadata": {
        "id": "hVeQmwK8dMmz"
      },
      "source": [
        "### Dataset curation"
      ]
    },
    {
      "cell_type": "markdown",
      "metadata": {
        "id": "ujVGDuLjdMm0"
      },
      "source": [
        "### Feature engineering"
      ]
    },
    {
      "cell_type": "markdown",
      "metadata": {
        "id": "Uhp0bxzEdMm0"
      },
      "source": [
        "### Using early stopping"
      ]
    },
    {
      "cell_type": "markdown",
      "metadata": {
        "id": "-oIE3RQ3dMm1"
      },
      "source": [
        "### Regularizing your model"
      ]
    },
    {
      "cell_type": "markdown",
      "metadata": {
        "id": "Em4BHyUBdMm2"
      },
      "source": [
        "#### Reducing the network's size"
      ]
    },
    {
      "cell_type": "markdown",
      "metadata": {
        "id": "6iTE6GVgdMm2"
      },
      "source": [
        "**Original model**"
      ]
    },
    {
      "cell_type": "code",
      "execution_count": 10,
      "metadata": {
        "id": "YzEslfKndMm3",
        "colab": {
          "base_uri": "https://localhost:8080/"
        },
        "outputId": "b3e962bf-36e0-43b2-85c6-217d553793e4"
      },
      "outputs": [
        {
          "output_type": "stream",
          "name": "stdout",
          "text": [
            "Downloading data from https://storage.googleapis.com/tensorflow/tf-keras-datasets/imdb.npz\n",
            "17465344/17464789 [==============================] - 0s 0us/step\n",
            "17473536/17464789 [==============================] - 0s 0us/step\n",
            "Epoch 1/20\n",
            "30/30 [==============================] - 2s 45ms/step - loss: 0.5132 - accuracy: 0.7883 - val_loss: 0.3911 - val_accuracy: 0.8639\n",
            "Epoch 2/20\n",
            "30/30 [==============================] - 1s 32ms/step - loss: 0.3037 - accuracy: 0.9009 - val_loss: 0.3014 - val_accuracy: 0.8885\n",
            "Epoch 3/20\n",
            "30/30 [==============================] - 1s 33ms/step - loss: 0.2230 - accuracy: 0.9267 - val_loss: 0.2935 - val_accuracy: 0.8820\n",
            "Epoch 4/20\n",
            "30/30 [==============================] - 1s 32ms/step - loss: 0.1740 - accuracy: 0.9452 - val_loss: 0.2785 - val_accuracy: 0.8894\n",
            "Epoch 5/20\n",
            "30/30 [==============================] - 1s 31ms/step - loss: 0.1456 - accuracy: 0.9528 - val_loss: 0.3192 - val_accuracy: 0.8750\n",
            "Epoch 6/20\n",
            "30/30 [==============================] - 1s 33ms/step - loss: 0.1192 - accuracy: 0.9637 - val_loss: 0.2957 - val_accuracy: 0.8853\n",
            "Epoch 7/20\n",
            "30/30 [==============================] - 1s 32ms/step - loss: 0.0996 - accuracy: 0.9703 - val_loss: 0.3136 - val_accuracy: 0.8831\n",
            "Epoch 8/20\n",
            "30/30 [==============================] - 1s 32ms/step - loss: 0.0822 - accuracy: 0.9757 - val_loss: 0.3371 - val_accuracy: 0.8793\n",
            "Epoch 9/20\n",
            "30/30 [==============================] - 1s 37ms/step - loss: 0.0720 - accuracy: 0.9798 - val_loss: 0.3506 - val_accuracy: 0.8808\n",
            "Epoch 10/20\n",
            "30/30 [==============================] - 1s 34ms/step - loss: 0.0554 - accuracy: 0.9855 - val_loss: 0.3973 - val_accuracy: 0.8730\n",
            "Epoch 11/20\n",
            "30/30 [==============================] - 1s 36ms/step - loss: 0.0475 - accuracy: 0.9887 - val_loss: 0.4113 - val_accuracy: 0.8753\n",
            "Epoch 12/20\n",
            "30/30 [==============================] - 1s 32ms/step - loss: 0.0390 - accuracy: 0.9905 - val_loss: 0.4472 - val_accuracy: 0.8752\n",
            "Epoch 13/20\n",
            "30/30 [==============================] - 1s 33ms/step - loss: 0.0337 - accuracy: 0.9920 - val_loss: 0.4874 - val_accuracy: 0.8697\n",
            "Epoch 14/20\n",
            "30/30 [==============================] - 1s 33ms/step - loss: 0.0258 - accuracy: 0.9948 - val_loss: 0.5068 - val_accuracy: 0.8705\n",
            "Epoch 15/20\n",
            "30/30 [==============================] - 1s 32ms/step - loss: 0.0207 - accuracy: 0.9963 - val_loss: 0.5438 - val_accuracy: 0.8710\n",
            "Epoch 16/20\n",
            "30/30 [==============================] - 1s 32ms/step - loss: 0.0186 - accuracy: 0.9959 - val_loss: 0.5766 - val_accuracy: 0.8683\n",
            "Epoch 17/20\n",
            "30/30 [==============================] - 1s 33ms/step - loss: 0.0105 - accuracy: 0.9989 - val_loss: 0.6244 - val_accuracy: 0.8652\n",
            "Epoch 18/20\n",
            "30/30 [==============================] - 1s 32ms/step - loss: 0.0115 - accuracy: 0.9983 - val_loss: 0.6474 - val_accuracy: 0.8675\n",
            "Epoch 19/20\n",
            "30/30 [==============================] - 1s 32ms/step - loss: 0.0118 - accuracy: 0.9975 - val_loss: 0.6838 - val_accuracy: 0.8669\n",
            "Epoch 20/20\n",
            "30/30 [==============================] - 1s 32ms/step - loss: 0.0048 - accuracy: 0.9997 - val_loss: 0.7324 - val_accuracy: 0.8629\n"
          ]
        }
      ],
      "source": [
        "from tensorflow.keras.datasets import imdb\n",
        "(train_data, train_labels), _ = imdb.load_data(num_words=10000)\n",
        "\n",
        "def vectorize_sequences(sequences, dimension=10000):\n",
        "    results = np.zeros((len(sequences), dimension))\n",
        "    for i, sequence in enumerate(sequences):\n",
        "        results[i, sequence] = 1.\n",
        "    return results\n",
        "train_data = vectorize_sequences(train_data)\n",
        "\n",
        "model = keras.Sequential([\n",
        "    layers.Dense(16, activation=\"relu\"),\n",
        "    layers.Dense(16, activation=\"relu\"),\n",
        "    layers.Dense(1, activation=\"sigmoid\")\n",
        "])\n",
        "model.compile(optimizer=\"rmsprop\",\n",
        "              loss=\"binary_crossentropy\",\n",
        "              metrics=[\"accuracy\"])\n",
        "history_original = model.fit(train_data, train_labels,\n",
        "                             epochs=20, batch_size=512, validation_split=0.4)"
      ]
    },
    {
      "cell_type": "markdown",
      "metadata": {
        "id": "3s_JiG1udMm4"
      },
      "source": [
        "**Version of the model with lower capacity**"
      ]
    },
    {
      "cell_type": "code",
      "execution_count": 11,
      "metadata": {
        "id": "WOe1mdkIdMm5",
        "colab": {
          "base_uri": "https://localhost:8080/"
        },
        "outputId": "b4309d0a-e7ea-49a7-841a-a93d780e8d36"
      },
      "outputs": [
        {
          "output_type": "stream",
          "name": "stdout",
          "text": [
            "Epoch 1/20\n",
            "30/30 [==============================] - 2s 39ms/step - loss: 0.6414 - accuracy: 0.6593 - val_loss: 0.5948 - val_accuracy: 0.8257\n",
            "Epoch 2/20\n",
            "30/30 [==============================] - 1s 31ms/step - loss: 0.5507 - accuracy: 0.7943 - val_loss: 0.5398 - val_accuracy: 0.8267\n",
            "Epoch 3/20\n",
            "30/30 [==============================] - 1s 30ms/step - loss: 0.4998 - accuracy: 0.8426 - val_loss: 0.5108 - val_accuracy: 0.8197\n",
            "Epoch 4/20\n",
            "30/30 [==============================] - 1s 30ms/step - loss: 0.4632 - accuracy: 0.8745 - val_loss: 0.5006 - val_accuracy: 0.8080\n",
            "Epoch 5/20\n",
            "30/30 [==============================] - 1s 30ms/step - loss: 0.4351 - accuracy: 0.8964 - val_loss: 0.4760 - val_accuracy: 0.8749\n",
            "Epoch 6/20\n",
            "30/30 [==============================] - 1s 30ms/step - loss: 0.4117 - accuracy: 0.9171 - val_loss: 0.4657 - val_accuracy: 0.8775\n",
            "Epoch 7/20\n",
            "30/30 [==============================] - 1s 30ms/step - loss: 0.3919 - accuracy: 0.9307 - val_loss: 0.4577 - val_accuracy: 0.8785\n",
            "Epoch 8/20\n",
            "30/30 [==============================] - 1s 30ms/step - loss: 0.3736 - accuracy: 0.9415 - val_loss: 0.4575 - val_accuracy: 0.8678\n",
            "Epoch 9/20\n",
            "30/30 [==============================] - 1s 30ms/step - loss: 0.3578 - accuracy: 0.9489 - val_loss: 0.4665 - val_accuracy: 0.8564\n",
            "Epoch 10/20\n",
            "30/30 [==============================] - 1s 31ms/step - loss: 0.3428 - accuracy: 0.9579 - val_loss: 0.4869 - val_accuracy: 0.8432\n",
            "Epoch 11/20\n",
            "30/30 [==============================] - 1s 30ms/step - loss: 0.3296 - accuracy: 0.9633 - val_loss: 0.4683 - val_accuracy: 0.8608\n",
            "Epoch 12/20\n",
            "30/30 [==============================] - 1s 30ms/step - loss: 0.3173 - accuracy: 0.9696 - val_loss: 0.4474 - val_accuracy: 0.8723\n",
            "Epoch 13/20\n",
            "30/30 [==============================] - 1s 30ms/step - loss: 0.3058 - accuracy: 0.9752 - val_loss: 0.4635 - val_accuracy: 0.8648\n",
            "Epoch 14/20\n",
            "30/30 [==============================] - 1s 30ms/step - loss: 0.2954 - accuracy: 0.9771 - val_loss: 0.4839 - val_accuracy: 0.8549\n",
            "Epoch 15/20\n",
            "30/30 [==============================] - 1s 30ms/step - loss: 0.2855 - accuracy: 0.9793 - val_loss: 0.4786 - val_accuracy: 0.8593\n",
            "Epoch 16/20\n",
            "30/30 [==============================] - 1s 30ms/step - loss: 0.2756 - accuracy: 0.9823 - val_loss: 0.4922 - val_accuracy: 0.8559\n",
            "Epoch 17/20\n",
            "30/30 [==============================] - 1s 30ms/step - loss: 0.2672 - accuracy: 0.9837 - val_loss: 0.4958 - val_accuracy: 0.8547\n",
            "Epoch 18/20\n",
            "30/30 [==============================] - 1s 31ms/step - loss: 0.2589 - accuracy: 0.9861 - val_loss: 0.5086 - val_accuracy: 0.8540\n",
            "Epoch 19/20\n",
            "30/30 [==============================] - 1s 31ms/step - loss: 0.2509 - accuracy: 0.9865 - val_loss: 0.4896 - val_accuracy: 0.8612\n",
            "Epoch 20/20\n",
            "30/30 [==============================] - 1s 30ms/step - loss: 0.2436 - accuracy: 0.9885 - val_loss: 0.5496 - val_accuracy: 0.8481\n"
          ]
        }
      ],
      "source": [
        "model = keras.Sequential([\n",
        "    layers.Dense(4, activation=\"relu\"),\n",
        "    layers.Dense(4, activation=\"relu\"),\n",
        "    layers.Dense(1, activation=\"sigmoid\")\n",
        "])\n",
        "model.compile(optimizer=\"rmsprop\",\n",
        "              loss=\"binary_crossentropy\",\n",
        "              metrics=[\"accuracy\"])\n",
        "history_smaller_model = model.fit(\n",
        "    train_data, train_labels,\n",
        "    epochs=20, batch_size=512, validation_split=0.4)"
      ]
    },
    {
      "cell_type": "markdown",
      "metadata": {
        "id": "2CWTXy1RdMm6"
      },
      "source": [
        "**Version of the model with higher capacity**"
      ]
    },
    {
      "cell_type": "code",
      "execution_count": 12,
      "metadata": {
        "id": "NcxK81GDdMm7",
        "colab": {
          "base_uri": "https://localhost:8080/"
        },
        "outputId": "12415f2a-f980-4feb-ee79-021a871f9721"
      },
      "outputs": [
        {
          "output_type": "stream",
          "name": "stdout",
          "text": [
            "Epoch 1/20\n",
            "30/30 [==============================] - 10s 299ms/step - loss: 0.5491 - accuracy: 0.7637 - val_loss: 0.3161 - val_accuracy: 0.8842\n",
            "Epoch 2/20\n",
            "30/30 [==============================] - 8s 282ms/step - loss: 0.2426 - accuracy: 0.9079 - val_loss: 0.3365 - val_accuracy: 0.8636\n",
            "Epoch 3/20\n",
            "30/30 [==============================] - 8s 284ms/step - loss: 0.1515 - accuracy: 0.9429 - val_loss: 0.3210 - val_accuracy: 0.8833\n",
            "Epoch 4/20\n",
            "30/30 [==============================] - 8s 283ms/step - loss: 0.0810 - accuracy: 0.9735 - val_loss: 0.5304 - val_accuracy: 0.8530\n",
            "Epoch 5/20\n",
            "30/30 [==============================] - 8s 282ms/step - loss: 0.0443 - accuracy: 0.9904 - val_loss: 0.5548 - val_accuracy: 0.8348\n",
            "Epoch 6/20\n",
            "30/30 [==============================] - 8s 282ms/step - loss: 0.0057 - accuracy: 0.9996 - val_loss: 0.5310 - val_accuracy: 0.8866\n",
            "Epoch 7/20\n",
            "30/30 [==============================] - 8s 282ms/step - loss: 4.6827e-04 - accuracy: 1.0000 - val_loss: 0.6463 - val_accuracy: 0.8870\n",
            "Epoch 8/20\n",
            "30/30 [==============================] - 8s 283ms/step - loss: 8.5500e-05 - accuracy: 1.0000 - val_loss: 0.7612 - val_accuracy: 0.8864\n",
            "Epoch 9/20\n",
            "30/30 [==============================] - 8s 284ms/step - loss: 1.5506e-05 - accuracy: 1.0000 - val_loss: 0.8638 - val_accuracy: 0.8842\n",
            "Epoch 10/20\n",
            "30/30 [==============================] - 8s 284ms/step - loss: 3.6293e-06 - accuracy: 1.0000 - val_loss: 0.9647 - val_accuracy: 0.8854\n",
            "Epoch 11/20\n",
            "30/30 [==============================] - 8s 285ms/step - loss: 9.5164e-07 - accuracy: 1.0000 - val_loss: 1.0632 - val_accuracy: 0.8857\n",
            "Epoch 12/20\n",
            "30/30 [==============================] - 8s 284ms/step - loss: 2.9361e-07 - accuracy: 1.0000 - val_loss: 1.1320 - val_accuracy: 0.8848\n",
            "Epoch 13/20\n",
            "30/30 [==============================] - 8s 284ms/step - loss: 1.1179e-07 - accuracy: 1.0000 - val_loss: 1.1956 - val_accuracy: 0.8849\n",
            "Epoch 14/20\n",
            "30/30 [==============================] - 8s 282ms/step - loss: 5.0608e-08 - accuracy: 1.0000 - val_loss: 1.2416 - val_accuracy: 0.8850\n",
            "Epoch 15/20\n",
            "30/30 [==============================] - 8s 281ms/step - loss: 2.8660e-08 - accuracy: 1.0000 - val_loss: 1.2756 - val_accuracy: 0.8842\n",
            "Epoch 16/20\n",
            "30/30 [==============================] - 8s 283ms/step - loss: 1.9416e-08 - accuracy: 1.0000 - val_loss: 1.2970 - val_accuracy: 0.8840\n",
            "Epoch 17/20\n",
            "30/30 [==============================] - 8s 282ms/step - loss: 1.4645e-08 - accuracy: 1.0000 - val_loss: 1.3129 - val_accuracy: 0.8837\n",
            "Epoch 18/20\n",
            "30/30 [==============================] - 8s 282ms/step - loss: 1.1754e-08 - accuracy: 1.0000 - val_loss: 1.3265 - val_accuracy: 0.8833\n",
            "Epoch 19/20\n",
            "30/30 [==============================] - 8s 283ms/step - loss: 9.8319e-09 - accuracy: 1.0000 - val_loss: 1.3391 - val_accuracy: 0.8838\n",
            "Epoch 20/20\n",
            "30/30 [==============================] - 8s 282ms/step - loss: 8.4314e-09 - accuracy: 1.0000 - val_loss: 1.3486 - val_accuracy: 0.8833\n"
          ]
        }
      ],
      "source": [
        "model = keras.Sequential([\n",
        "    layers.Dense(512, activation=\"relu\"),\n",
        "    layers.Dense(512, activation=\"relu\"),\n",
        "    layers.Dense(1, activation=\"sigmoid\")\n",
        "])\n",
        "model.compile(optimizer=\"rmsprop\",\n",
        "              loss=\"binary_crossentropy\",\n",
        "              metrics=[\"accuracy\"])\n",
        "history_larger_model = model.fit(\n",
        "    train_data, train_labels,\n",
        "    epochs=20, batch_size=512, validation_split=0.4)"
      ]
    },
    {
      "cell_type": "markdown",
      "metadata": {
        "id": "Bp3_L2gXdMm7"
      },
      "source": [
        "#### Adding weight regularization"
      ]
    },
    {
      "cell_type": "markdown",
      "metadata": {
        "id": "N5UoRA57dMm8"
      },
      "source": [
        "**Adding L2 weight regularization to the model**"
      ]
    },
    {
      "cell_type": "code",
      "execution_count": 13,
      "metadata": {
        "id": "tfCm_kPLdMm9",
        "colab": {
          "base_uri": "https://localhost:8080/"
        },
        "outputId": "b6b2beec-69ef-40b4-fe1e-81fbf8dd7c62"
      },
      "outputs": [
        {
          "output_type": "stream",
          "name": "stdout",
          "text": [
            "Epoch 1/20\n",
            "30/30 [==============================] - 2s 43ms/step - loss: 0.6041 - accuracy: 0.7841 - val_loss: 0.4976 - val_accuracy: 0.8383\n",
            "Epoch 2/20\n",
            "30/30 [==============================] - 1s 33ms/step - loss: 0.4157 - accuracy: 0.8939 - val_loss: 0.3978 - val_accuracy: 0.8852\n",
            "Epoch 3/20\n",
            "30/30 [==============================] - 1s 34ms/step - loss: 0.3447 - accuracy: 0.9100 - val_loss: 0.3802 - val_accuracy: 0.8799\n",
            "Epoch 4/20\n",
            "30/30 [==============================] - 1s 38ms/step - loss: 0.3097 - accuracy: 0.9227 - val_loss: 0.3678 - val_accuracy: 0.8852\n",
            "Epoch 5/20\n",
            "30/30 [==============================] - 1s 33ms/step - loss: 0.2880 - accuracy: 0.9301 - val_loss: 0.3960 - val_accuracy: 0.8683\n",
            "Epoch 6/20\n",
            "30/30 [==============================] - 1s 32ms/step - loss: 0.2743 - accuracy: 0.9321 - val_loss: 0.3568 - val_accuracy: 0.8856\n",
            "Epoch 7/20\n",
            "30/30 [==============================] - 1s 34ms/step - loss: 0.2620 - accuracy: 0.9371 - val_loss: 0.3751 - val_accuracy: 0.8789\n",
            "Epoch 8/20\n",
            "30/30 [==============================] - 1s 32ms/step - loss: 0.2523 - accuracy: 0.9423 - val_loss: 0.3607 - val_accuracy: 0.8845\n",
            "Epoch 9/20\n",
            "30/30 [==============================] - 1s 33ms/step - loss: 0.2462 - accuracy: 0.9446 - val_loss: 0.3648 - val_accuracy: 0.8823\n",
            "Epoch 10/20\n",
            "30/30 [==============================] - 1s 33ms/step - loss: 0.2345 - accuracy: 0.9493 - val_loss: 0.4118 - val_accuracy: 0.8654\n",
            "Epoch 11/20\n",
            "30/30 [==============================] - 1s 32ms/step - loss: 0.2352 - accuracy: 0.9465 - val_loss: 0.3744 - val_accuracy: 0.8811\n",
            "Epoch 12/20\n",
            "30/30 [==============================] - 1s 33ms/step - loss: 0.2266 - accuracy: 0.9515 - val_loss: 0.3739 - val_accuracy: 0.8791\n",
            "Epoch 13/20\n",
            "30/30 [==============================] - 1s 35ms/step - loss: 0.2231 - accuracy: 0.9521 - val_loss: 0.3802 - val_accuracy: 0.8806\n",
            "Epoch 14/20\n",
            "30/30 [==============================] - 1s 33ms/step - loss: 0.2166 - accuracy: 0.9541 - val_loss: 0.3862 - val_accuracy: 0.8794\n",
            "Epoch 15/20\n",
            "30/30 [==============================] - 1s 34ms/step - loss: 0.2185 - accuracy: 0.9519 - val_loss: 0.3902 - val_accuracy: 0.8770\n",
            "Epoch 16/20\n",
            "30/30 [==============================] - 1s 32ms/step - loss: 0.2055 - accuracy: 0.9609 - val_loss: 0.3950 - val_accuracy: 0.8764\n",
            "Epoch 17/20\n",
            "30/30 [==============================] - 1s 32ms/step - loss: 0.2133 - accuracy: 0.9532 - val_loss: 0.4150 - val_accuracy: 0.8703\n",
            "Epoch 18/20\n",
            "30/30 [==============================] - 1s 32ms/step - loss: 0.2067 - accuracy: 0.9573 - val_loss: 0.4315 - val_accuracy: 0.8673\n",
            "Epoch 19/20\n",
            "30/30 [==============================] - 1s 33ms/step - loss: 0.2076 - accuracy: 0.9568 - val_loss: 0.4047 - val_accuracy: 0.8749\n",
            "Epoch 20/20\n",
            "30/30 [==============================] - 1s 36ms/step - loss: 0.1993 - accuracy: 0.9604 - val_loss: 0.4135 - val_accuracy: 0.8733\n"
          ]
        }
      ],
      "source": [
        "from tensorflow.keras import regularizers\n",
        "model = keras.Sequential([\n",
        "    layers.Dense(16,\n",
        "                 kernel_regularizer=regularizers.l2(0.002),\n",
        "                 activation=\"relu\"),\n",
        "    layers.Dense(16,\n",
        "                 kernel_regularizer=regularizers.l2(0.002),\n",
        "                 activation=\"relu\"),\n",
        "    layers.Dense(1, activation=\"sigmoid\")\n",
        "])\n",
        "model.compile(optimizer=\"rmsprop\",\n",
        "              loss=\"binary_crossentropy\",\n",
        "              metrics=[\"accuracy\"])\n",
        "history_l2_reg = model.fit(\n",
        "    train_data, train_labels,\n",
        "    epochs=20, batch_size=512, validation_split=0.4)"
      ]
    },
    {
      "cell_type": "markdown",
      "metadata": {
        "id": "Rh1dacxcdMm-"
      },
      "source": [
        "**Different weight regularizers available in Keras**"
      ]
    },
    {
      "cell_type": "code",
      "execution_count": 14,
      "metadata": {
        "id": "FEAvI1OEdMm_",
        "colab": {
          "base_uri": "https://localhost:8080/"
        },
        "outputId": "75e1b459-4ca0-4355-bb09-3bf641564f71"
      },
      "outputs": [
        {
          "output_type": "execute_result",
          "data": {
            "text/plain": [
              "<keras.regularizers.L1L2 at 0x7f5057fea290>"
            ]
          },
          "metadata": {},
          "execution_count": 14
        }
      ],
      "source": [
        "from tensorflow.keras import regularizers\n",
        "regularizers.l1(0.001)\n",
        "regularizers.l1_l2(l1=0.001, l2=0.001)"
      ]
    },
    {
      "cell_type": "markdown",
      "metadata": {
        "id": "V__4kQo6dMnA"
      },
      "source": [
        "#### Adding dropout"
      ]
    },
    {
      "cell_type": "markdown",
      "metadata": {
        "id": "RHGcZAiGdMnD"
      },
      "source": [
        "**Adding dropout to the IMDB model**"
      ]
    },
    {
      "cell_type": "code",
      "execution_count": 15,
      "metadata": {
        "id": "oWYKRmIBdMnE",
        "colab": {
          "base_uri": "https://localhost:8080/"
        },
        "outputId": "02fcbf72-e542-4f1c-8c5e-916f8bfccd0e"
      },
      "outputs": [
        {
          "output_type": "stream",
          "name": "stdout",
          "text": [
            "Epoch 1/20\n",
            "30/30 [==============================] - 2s 41ms/step - loss: 0.6261 - accuracy: 0.6386 - val_loss: 0.5432 - val_accuracy: 0.8393\n",
            "Epoch 2/20\n",
            "30/30 [==============================] - 1s 32ms/step - loss: 0.5189 - accuracy: 0.7867 - val_loss: 0.4591 - val_accuracy: 0.8686\n",
            "Epoch 3/20\n",
            "30/30 [==============================] - 1s 35ms/step - loss: 0.4542 - accuracy: 0.8439 - val_loss: 0.4106 - val_accuracy: 0.8779\n",
            "Epoch 4/20\n",
            "30/30 [==============================] - 1s 42ms/step - loss: 0.4039 - accuracy: 0.8813 - val_loss: 0.3988 - val_accuracy: 0.8708\n",
            "Epoch 5/20\n",
            "30/30 [==============================] - 2s 51ms/step - loss: 0.3647 - accuracy: 0.9029 - val_loss: 0.3520 - val_accuracy: 0.8858\n",
            "Epoch 6/20\n",
            "30/30 [==============================] - 1s 50ms/step - loss: 0.3299 - accuracy: 0.9169 - val_loss: 0.3408 - val_accuracy: 0.8845\n",
            "Epoch 7/20\n",
            "30/30 [==============================] - 1s 33ms/step - loss: 0.3012 - accuracy: 0.9258 - val_loss: 0.3335 - val_accuracy: 0.8884\n",
            "Epoch 8/20\n",
            "30/30 [==============================] - 1s 38ms/step - loss: 0.2756 - accuracy: 0.9323 - val_loss: 0.3465 - val_accuracy: 0.8874\n",
            "Epoch 9/20\n",
            "30/30 [==============================] - 1s 34ms/step - loss: 0.2558 - accuracy: 0.9439 - val_loss: 0.3524 - val_accuracy: 0.8867\n",
            "Epoch 10/20\n",
            "30/30 [==============================] - 1s 34ms/step - loss: 0.2310 - accuracy: 0.9473 - val_loss: 0.3580 - val_accuracy: 0.8870\n",
            "Epoch 11/20\n",
            "30/30 [==============================] - 1s 34ms/step - loss: 0.2137 - accuracy: 0.9527 - val_loss: 0.3532 - val_accuracy: 0.8840\n",
            "Epoch 12/20\n",
            "30/30 [==============================] - 1s 34ms/step - loss: 0.1987 - accuracy: 0.9578 - val_loss: 0.3543 - val_accuracy: 0.8845\n",
            "Epoch 13/20\n",
            "30/30 [==============================] - 1s 35ms/step - loss: 0.1843 - accuracy: 0.9589 - val_loss: 0.4265 - val_accuracy: 0.8820\n",
            "Epoch 14/20\n",
            "30/30 [==============================] - 1s 38ms/step - loss: 0.1709 - accuracy: 0.9641 - val_loss: 0.5143 - val_accuracy: 0.8771\n",
            "Epoch 15/20\n",
            "30/30 [==============================] - 1s 33ms/step - loss: 0.1619 - accuracy: 0.9664 - val_loss: 0.4943 - val_accuracy: 0.8801\n",
            "Epoch 16/20\n",
            "30/30 [==============================] - 1s 37ms/step - loss: 0.1457 - accuracy: 0.9713 - val_loss: 0.5808 - val_accuracy: 0.8759\n",
            "Epoch 17/20\n",
            "30/30 [==============================] - 1s 34ms/step - loss: 0.1413 - accuracy: 0.9702 - val_loss: 0.4759 - val_accuracy: 0.8825\n",
            "Epoch 18/20\n",
            "30/30 [==============================] - 1s 34ms/step - loss: 0.1290 - accuracy: 0.9739 - val_loss: 0.5638 - val_accuracy: 0.8798\n",
            "Epoch 19/20\n",
            "30/30 [==============================] - 1s 34ms/step - loss: 0.1233 - accuracy: 0.9756 - val_loss: 0.4660 - val_accuracy: 0.8767\n",
            "Epoch 20/20\n",
            "30/30 [==============================] - 1s 33ms/step - loss: 0.1156 - accuracy: 0.9771 - val_loss: 0.6283 - val_accuracy: 0.8786\n"
          ]
        }
      ],
      "source": [
        "model = keras.Sequential([\n",
        "    layers.Dense(16, activation=\"relu\"),\n",
        "    layers.Dropout(0.5),\n",
        "    layers.Dense(16, activation=\"relu\"),\n",
        "    layers.Dropout(0.5),\n",
        "    layers.Dense(1, activation=\"sigmoid\")\n",
        "])\n",
        "model.compile(optimizer=\"rmsprop\",\n",
        "              loss=\"binary_crossentropy\",\n",
        "              metrics=[\"accuracy\"])\n",
        "history_dropout = model.fit(\n",
        "    train_data, train_labels,\n",
        "    epochs=20, batch_size=512, validation_split=0.4)"
      ]
    },
    {
      "cell_type": "markdown",
      "metadata": {
        "id": "RajaedxTdMnF"
      },
      "source": [
        "## Summary"
      ]
    }
  ],
  "metadata": {
    "colab": {
      "collapsed_sections": [],
      "name": "chapter05_fundamentals-of-ml.i",
      "provenance": [],
      "toc_visible": true,
      "include_colab_link": true
    },
    "kernelspec": {
      "display_name": "Python 3",
      "language": "python",
      "name": "python3"
    },
    "language_info": {
      "codemirror_mode": {
        "name": "ipython",
        "version": 3
      },
      "file_extension": ".py",
      "mimetype": "text/x-python",
      "name": "python",
      "nbconvert_exporter": "python",
      "pygments_lexer": "ipython3",
      "version": "3.7.0"
    }
  },
  "nbformat": 4,
  "nbformat_minor": 0
}