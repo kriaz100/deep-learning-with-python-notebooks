{
  "cells": [
    {
      "cell_type": "markdown",
      "metadata": {
        "id": "view-in-github",
        "colab_type": "text"
      },
      "source": [
        "<a href=\"https://colab.research.google.com/github/kriaz100/deep-learning-with-python-notebooks/blob/master/chapter11_part01_introduction.ipynb\" target=\"_parent\"><img src=\"https://colab.research.google.com/assets/colab-badge.svg\" alt=\"Open In Colab\"/></a>"
      ]
    },
    {
      "cell_type": "markdown",
      "metadata": {
        "id": "iJPaHXe_uq31"
      },
      "source": [
        "This is a companion notebook for the book [Deep Learning with Python, Second Edition](https://www.manning.com/books/deep-learning-with-python-second-edition?a_aid=keras&a_bid=76564dff). For readability, it only contains runnable code blocks and section titles, and omits everything else in the book: text paragraphs, figures, and pseudocode.\n",
        "\n",
        "**If you want to be able to follow what's going on, I recommend reading the notebook side by side with your copy of the book.**\n",
        "\n",
        "This notebook was generated for TensorFlow 2.6."
      ]
    },
    {
      "cell_type": "markdown",
      "metadata": {
        "id": "lc5cSEdXuq37"
      },
      "source": [
        "# Deep learning for text\n",
        "\n",
        "https://ufal.mff.cuni.cz/udpipe/2/models"
      ]
    },
    {
      "cell_type": "markdown",
      "metadata": {
        "id": "1wKMPpb5uq38"
      },
      "source": [
        "## Natural-language processing: The bird's eye view"
      ]
    },
    {
      "cell_type": "markdown",
      "metadata": {
        "id": "kLvbLp9ruq38"
      },
      "source": [
        "## Preparing text data"
      ]
    },
    {
      "cell_type": "markdown",
      "metadata": {
        "id": "iI_j6gsGuq39"
      },
      "source": [
        "### Text standardization"
      ]
    },
    {
      "cell_type": "markdown",
      "metadata": {
        "id": "WIioVcJouq39"
      },
      "source": [
        "### Text splitting (tokenization)"
      ]
    },
    {
      "cell_type": "markdown",
      "metadata": {
        "id": "kCC0ozh2uq3-"
      },
      "source": [
        "### Vocabulary indexing"
      ]
    },
    {
      "cell_type": "markdown",
      "metadata": {
        "id": "OcVcFDgmuq3-"
      },
      "source": [
        "### Using the TextVectorization layer\n",
        "- The Vectorizer class defined below has several methods: standardize, tokenize, make_vocabulary, encode, and decode. \n",
        "\n",
        "- These methods can be called on a dataset to perform standardization, tokenization, vocabulary indexing etc."
      ]
    },
    {
      "cell_type": "code",
      "execution_count": 2,
      "metadata": {
        "id": "NmYwyZDJuq3_"
      },
      "outputs": [],
      "source": [
        "import string\n",
        "\n",
        "class Vectorizer:\n",
        "    def standardize(self, text):\n",
        "        text = text.lower()\n",
        "        return \"\".join(char for char in text if char not in string.punctuation)\n",
        "\n",
        "    def tokenize(self, text):\n",
        "        text = self.standardize(text)\n",
        "        return text.split()\n",
        "\n",
        "    def make_vocabulary(self, dataset):\n",
        "        self.vocabulary = {\"\": 0, \"[UNK]\": 1}\n",
        "        for text in dataset:\n",
        "            text = self.standardize(text)\n",
        "            tokens = self.tokenize(text)\n",
        "            for token in tokens:\n",
        "                if token not in self.vocabulary:\n",
        "                    self.vocabulary[token] = len(self.vocabulary)\n",
        "        self.inverse_vocabulary = dict(\n",
        "            (v, k) for k, v in self.vocabulary.items())\n",
        "\n",
        "    def encode(self, text):\n",
        "        text = self.standardize(text)\n",
        "        tokens = self.tokenize(text)\n",
        "        return [self.vocabulary.get(token, 1) for token in tokens]\n",
        "\n",
        "    def decode(self, int_sequence):\n",
        "        return \" \".join(\n",
        "            self.inverse_vocabulary.get(i, \"[UNK]\") for i in int_sequence)\n",
        "\n",
        "vectorizer = Vectorizer()\n",
        "dataset = [\n",
        "    \"I write, erase, rewrite\",\n",
        "    \"Erase again, and then\",\n",
        "    \"A poppy blooms.\",\n",
        "]\n",
        "vectorizer.make_vocabulary(dataset)"
      ]
    },
    {
      "cell_type": "code",
      "execution_count": 3,
      "metadata": {
        "colab": {
          "base_uri": "https://localhost:8080/"
        },
        "id": "quUQlprMuq4C",
        "outputId": "ad35f917-7f03-4fa5-d079-30cf4e52e5ef"
      },
      "outputs": [
        {
          "output_type": "stream",
          "name": "stdout",
          "text": [
            "[2, 3, 5, 7, 1, 5, 6]\n"
          ]
        }
      ],
      "source": [
        "# encoding a sentence\n",
        "test_sentence = \"I write, rewrite, and still rewrite again\"\n",
        "encoded_sentence = vectorizer.encode(test_sentence)\n",
        "print(encoded_sentence)"
      ]
    },
    {
      "cell_type": "code",
      "execution_count": 4,
      "metadata": {
        "colab": {
          "base_uri": "https://localhost:8080/"
        },
        "id": "lMN2Gnnwuq4D",
        "outputId": "c9fe4cf4-729e-4e95-96c2-978e74985d95"
      },
      "outputs": [
        {
          "output_type": "stream",
          "name": "stdout",
          "text": [
            "i write rewrite and [UNK] rewrite again\n"
          ]
        }
      ],
      "source": [
        "# Decoding a sentence\n",
        "decoded_sentence = vectorizer.decode(encoded_sentence)\n",
        "print(decoded_sentence)"
      ]
    },
    {
      "cell_type": "markdown",
      "source": [
        "In practce, we use Keras <font color ='blue'>**`TextVectorization`** layer </font> instead of programming everything from scratch in python\n",
        "\n",
        "- The `TextVectorization` layer below is configured to return sequences of words encoded as integers indices (output_mode is set to 'int').\n",
        "\n",
        "- The layer will do the following:\n",
        "    - *standardization*: convert text to lowercase and remove punctuation\n",
        "    - *tokenization*: split on white space"
      ],
      "metadata": {
        "id": "LvNYgdbaV5nE"
      }
    },
    {
      "cell_type": "code",
      "execution_count": 5,
      "metadata": {
        "id": "Dun6jrgKuq4E"
      },
      "outputs": [],
      "source": [
        "\n",
        "from tensorflow.keras.layers import TextVectorization\n",
        "text_vectorization = TextVectorization(\n",
        "    output_mode=\"int\",\n",
        ")"
      ]
    },
    {
      "cell_type": "markdown",
      "source": [
        "The Keras `TextVectorization` layer is flexible enough to handle any  use case for standardization, or tokenization because it can incorporate **custom funtions for standardization and tokenization** (as shown below)."
      ],
      "metadata": {
        "id": "HtSkP-9xag6C"
      }
    },
    {
      "cell_type": "code",
      "execution_count": null,
      "metadata": {
        "id": "mQUhUTUcuq4E"
      },
      "outputs": [],
      "source": [
        "import re\n",
        "import string              \n",
        "import tensorflow as tf\n",
        "\n",
        "# define custom standardization function\n",
        "def custom_standardization_fn(string_tensor):\n",
        "    lowercase_string = tf.strings.lower(string_tensor) #convert string_tensors to lowercase\n",
        "    return tf.strings.regex_replace(\n",
        "        lowercase_string, f\"[{re.escape(string.punctuation)}]\", \"\") #replace punctuation w empty string\n",
        "\n",
        "# define custom tokenization function (for splitting)\n",
        "def custom_split_fn(string_tensor):\n",
        "    return tf.strings.split(string_tensor)\n",
        "\n",
        "# incorporate custom standardization and tokenization fns into TextVectorization layer\n",
        "text_vectorization = TextVectorization(\n",
        "    output_mode=\"int\",\n",
        "    standardize=custom_standardization_fn,\n",
        "    split=custom_split_fn,\n",
        ")"
      ]
    },
    {
      "cell_type": "markdown",
      "source": [
        "Apply `TextVectorization` layer\n",
        "\n",
        "- To index the vocabulary of a text corpus, call the `adapt()` method of the `TextVectorization` layer with a dataset object that yields strings.\n",
        "\n",
        "- The vocabulary for the layer must be either supplied on construction <font color='blue'>or learned via adapt()</font>. When this layer is adapted, it will analyze the dataset, determine the frequency of individual string values, and create a vocabulary from them."
      ],
      "metadata": {
        "id": "-fQ5B0fSbv6V"
      }
    },
    {
      "cell_type": "code",
      "execution_count": 1,
      "metadata": {
        "id": "9AGT58bsuq4F",
        "colab": {
          "base_uri": "https://localhost:8080/",
          "height": 200
        },
        "outputId": "9d1c77eb-ad92-49f4-b8cf-aa67100e6906"
      },
      "outputs": [
        {
          "output_type": "error",
          "ename": "NameError",
          "evalue": "ignored",
          "traceback": [
            "\u001b[0;31m---------------------------------------------------------------------------\u001b[0m",
            "\u001b[0;31mNameError\u001b[0m                                 Traceback (most recent call last)",
            "\u001b[0;32m<ipython-input-1-fccf7138824d>\u001b[0m in \u001b[0;36m<module>\u001b[0;34m()\u001b[0m\n\u001b[1;32m      4\u001b[0m     \u001b[0;34m\"A poppy blooms.\"\u001b[0m\u001b[0;34m,\u001b[0m\u001b[0;34m\u001b[0m\u001b[0;34m\u001b[0m\u001b[0m\n\u001b[1;32m      5\u001b[0m ]\n\u001b[0;32m----> 6\u001b[0;31m \u001b[0mtext_vectorization\u001b[0m\u001b[0;34m.\u001b[0m\u001b[0madapt\u001b[0m\u001b[0;34m(\u001b[0m\u001b[0mdataset\u001b[0m\u001b[0;34m)\u001b[0m\u001b[0;34m\u001b[0m\u001b[0;34m\u001b[0m\u001b[0m\n\u001b[0m",
            "\u001b[0;31mNameError\u001b[0m: name 'text_vectorization' is not defined"
          ]
        }
      ],
      "source": [
        "dataset = [\n",
        "    \"I write, erase, rewrite\",\n",
        "    \"Erase again, and then\",\n",
        "    \"A poppy blooms.\",\n",
        "]\n",
        "text_vectorization.adapt(dataset)"
      ]
    },
    {
      "cell_type": "markdown",
      "metadata": {
        "id": "-b2kxPdOuq4F"
      },
      "source": [
        "**Displaying the vocabulary**"
      ]
    },
    {
      "cell_type": "code",
      "execution_count": null,
      "metadata": {
        "colab": {
          "base_uri": "https://localhost:8080/"
        },
        "id": "5i9FsKtCuq4G",
        "outputId": "dc06cae9-e7c6-4282-d61f-1b2f834c7a52"
      },
      "outputs": [
        {
          "output_type": "execute_result",
          "data": {
            "text/plain": [
              "['',\n",
              " '[UNK]',\n",
              " 'erase',\n",
              " 'write',\n",
              " 'then',\n",
              " 'rewrite',\n",
              " 'poppy',\n",
              " 'i',\n",
              " 'blooms',\n",
              " 'and',\n",
              " 'again',\n",
              " 'a']"
            ]
          },
          "metadata": {},
          "execution_count": 51
        }
      ],
      "source": [
        "text_vectorization.get_vocabulary()"
      ]
    },
    {
      "cell_type": "markdown",
      "source": [
        "Displaying the **vocabulary of a test sentence** using `TextVectorization` layer"
      ],
      "metadata": {
        "id": "_Da6Iy-CuOxD"
      }
    },
    {
      "cell_type": "code",
      "execution_count": null,
      "metadata": {
        "colab": {
          "base_uri": "https://localhost:8080/"
        },
        "id": "TcPs_wsluq4G",
        "outputId": "b4f5d1c5-d53b-4206-ae13-8a7124dd014b"
      },
      "outputs": [
        {
          "output_type": "stream",
          "name": "stdout",
          "text": [
            "tf.Tensor([ 7  3  5  9  1  5 10], shape=(7,), dtype=int64)\n"
          ]
        }
      ],
      "source": [
        "vocabulary = text_vectorization.get_vocabulary()\n",
        "test_sentence = \"I write, rewrite, and still rewrite again\"\n",
        "encoded_sentence = text_vectorization(test_sentence)\n",
        "print(encoded_sentence)"
      ]
    },
    {
      "cell_type": "code",
      "execution_count": null,
      "metadata": {
        "colab": {
          "base_uri": "https://localhost:8080/"
        },
        "id": "Rup-4e0Suq4G",
        "outputId": "8a8f381a-e5ce-4bb8-f3bf-cd263c4df6e4"
      },
      "outputs": [
        {
          "output_type": "stream",
          "name": "stdout",
          "text": [
            "i write rewrite and [UNK] rewrite again\n"
          ]
        }
      ],
      "source": [
        "inverse_vocab = dict(enumerate(vocabulary))\n",
        "decoded_sentence = \" \".join(inverse_vocab[int(i)] for i in encoded_sentence)\n",
        "print(decoded_sentence)"
      ]
    },
    {
      "cell_type": "markdown",
      "source": [
        "IMPORTANT NOTE\n",
        "\n",
        "`TextVectorization` layer can't be executed on GPU (or TPU). This has implications for model training (see **SIDEBAR** in the book)."
      ],
      "metadata": {
        "id": "WhFc0byOzbNo"
      }
    },
    {
      "cell_type": "markdown",
      "metadata": {
        "id": "AJMLu9Y9uq4H"
      },
      "source": [
        "## Two approaches for representing groups of words: <font color='blue'>Sets and sequences</font>"
      ]
    },
    {
      "cell_type": "markdown",
      "metadata": {
        "id": "11JhRIfjuq4H"
      },
      "source": [
        "### Preparing the IMDB movie reviews data"
      ]
    },
    {
      "cell_type": "code",
      "execution_count": null,
      "metadata": {
        "colab": {
          "base_uri": "https://localhost:8080/"
        },
        "id": "3vAYnZ_Xuq4H",
        "outputId": "dcf2d307-5e22-460e-85f9-131d64858c24"
      },
      "outputs": [
        {
          "output_type": "stream",
          "name": "stdout",
          "text": [
            "  % Total    % Received % Xferd  Average Speed   Time    Time     Time  Current\n",
            "                                 Dload  Upload   Total   Spent    Left  Speed\n",
            "100 80.2M  100 80.2M    0     0  26.9M      0  0:00:02  0:00:02 --:--:-- 26.9M\n"
          ]
        }
      ],
      "source": [
        "!curl -O https://ai.stanford.edu/~amaas/data/sentiment/aclImdb_v1.tar.gz\n",
        "!tar -xf aclImdb_v1.tar.gz"
      ]
    },
    {
      "cell_type": "code",
      "execution_count": null,
      "metadata": {
        "id": "B6XzAIxWuq4I"
      },
      "outputs": [],
      "source": [
        "!rm -r aclImdb/train/unsup"
      ]
    },
    {
      "cell_type": "code",
      "execution_count": null,
      "metadata": {
        "colab": {
          "base_uri": "https://localhost:8080/"
        },
        "id": "Q-yZddubuq4I",
        "outputId": "6f868d8b-2f5c-4e9b-90b5-18917a8fd98f"
      },
      "outputs": [
        {
          "output_type": "stream",
          "name": "stdout",
          "text": [
            "I first saw this back in the early 90s on UK TV, i did like it then but i missed the chance to tape it, many years passed but the film always stuck with me and i lost hope of seeing it TV again, the main thing that stuck with me was the end, the hole castle part really touched me, its easy to watch, has a great story, great music, the list goes on and on, its OK me saying how good it is but everyone will take there own best bits away with them once they have seen it, yes the animation is top notch and beautiful to watch, it does show its age in a very few parts but that has now become part of it beauty, i am so glad it has came out on DVD as it is one of my top 10 films of all time. Buy it or rent it just see it, best viewing is at night alone with drink and food in reach so you don't have to stop the film.<br /><br />Enjoy"
          ]
        }
      ],
      "source": [
        "!cat aclImdb/train/pos/4077_10.txt"
      ]
    },
    {
      "cell_type": "markdown",
      "source": [
        "Preparing a validation set by setting apart 20% of the training text files in a new directory, **aclImdb/val**"
      ],
      "metadata": {
        "id": "yPsaIXePXO9Q"
      }
    },
    {
      "cell_type": "code",
      "execution_count": null,
      "metadata": {
        "id": "UYb8m7g1uq4I"
      },
      "outputs": [],
      "source": [
        "import os, pathlib, shutil, random\n",
        "\n",
        "base_dir = pathlib.Path(\"aclImdb\")\n",
        "val_dir = base_dir / \"val\"\n",
        "train_dir = base_dir / \"train\"\n",
        "\n",
        "# moving 20% files from  training and validation directory\n",
        "# I added argument exist_ok=True to os.makedirs() to avoid error in case\n",
        "#  dir exists already \n",
        "for category in (\"neg\", \"pos\"):\n",
        "    os.makedirs(val_dir / category, exist_ok=True)  #adding 'exist_ok=True'\n",
        "    files = os.listdir(train_dir / category)\n",
        "    random.Random(1337).shuffle(files)\n",
        "    num_val_samples = int(0.2 * len(files))\n",
        "    val_files = files[-num_val_samples:]\n",
        "    for fname in val_files:\n",
        "        shutil.move(train_dir / category / fname,\n",
        "                    val_dir / category / fname)"
      ]
    },
    {
      "cell_type": "markdown",
      "source": [
        "Using text_dataset_from_directory to create batched dataset of text files and their labels for a directory structure. This is similar to the utility, image_dataset_from_dircetory, which was used for image files in chapter 8."
      ],
      "metadata": {
        "id": "p5jE6j2zWBIp"
      }
    },
    {
      "cell_type": "code",
      "execution_count": null,
      "metadata": {
        "colab": {
          "base_uri": "https://localhost:8080/"
        },
        "id": "CN_TOxtPuq4J",
        "outputId": "78d807a4-38c7-464a-a61e-147c6b83bea4"
      },
      "outputs": [
        {
          "output_type": "stream",
          "name": "stdout",
          "text": [
            "Found 20000 files belonging to 2 classes.\n",
            "Found 5000 files belonging to 2 classes.\n",
            "Found 25000 files belonging to 2 classes.\n"
          ]
        }
      ],
      "source": [
        "from tensorflow import keras\n",
        "batch_size = 32                     #choice of batch size\n",
        "\n",
        "train_ds = keras.utils.text_dataset_from_directory(\n",
        "    \"aclImdb/train\", batch_size=batch_size\n",
        ")\n",
        "val_ds = keras.utils.text_dataset_from_directory(\n",
        "    \"aclImdb/val\", batch_size=batch_size\n",
        ")\n",
        "test_ds = keras.utils.text_dataset_from_directory(\n",
        "    \"aclImdb/test\", batch_size=batch_size\n",
        ")"
      ]
    },
    {
      "cell_type": "markdown",
      "metadata": {
        "id": "KxRn74zsuq4J"
      },
      "source": [
        "**Displaying the shapes and dtypes of the first batch**\n",
        "\n",
        "These datasets yield inputs that are <font color='blue'>TensorFlow tf.string tensors</font>, and targets that are <font color='blue'>int32 tensors</font> encoding the value \"0\" or \"1\""
      ]
    },
    {
      "cell_type": "code",
      "execution_count": null,
      "metadata": {
        "colab": {
          "base_uri": "https://localhost:8080/"
        },
        "id": "1E4WUHcpuq4J",
        "outputId": "4f50a00c-fbce-40fb-c514-334d8bc87511"
      },
      "outputs": [
        {
          "output_type": "stream",
          "name": "stdout",
          "text": [
            "inputs.shape: (32,)\n",
            "inputs.dtype: <dtype: 'string'>\n",
            "targets.shape: (32,)\n",
            "targets.dtype: <dtype: 'int32'>\n",
            "inputs[0]: tf.Tensor(b'Alright, I got passed the horrible acting. I got passed the fact that Lil Kim was blasting some cannons and her arms or hands weren\\'t moving, I got passed the weaves, I got passed the colored contacts.<br /><br />This is what killed it for me: In the scene where the four roses were sitting at the table arguing. Lisa-Raye and Monica Calhoun stand up and, and then Lil Kim gets up to break up any hostilities by saying, \"Whoa, Whoa, Whoa, Hold up. Let\\'s CHILL OUT here for a HOT SECOND.\" I am a fan of the western movie genre, and I never heard anyone talk slang like this in any of Clint Eastwood\\'s movies.<br /><br />If anyone thinks this movie deserves over a 1 rating, please tell me another movie that\\'s worse than Gang of Roses.<br /><br />I\\'m through.', shape=(), dtype=string)\n",
            "targets[0]: tf.Tensor(0, shape=(), dtype=int32)\n"
          ]
        }
      ],
      "source": [
        "for inputs, targets in train_ds:\n",
        "    print(\"inputs.shape:\", inputs.shape)\n",
        "    print(\"inputs.dtype:\", inputs.dtype)\n",
        "    print(\"targets.shape:\", targets.shape)\n",
        "    print(\"targets.dtype:\", targets.dtype)\n",
        "    print(\"inputs[0]:\", inputs[0])\n",
        "    print(\"targets[0]:\", targets[0])\n",
        "    break"
      ]
    },
    {
      "cell_type": "markdown",
      "metadata": {
        "id": "syuaQE35uq4J"
      },
      "source": [
        "### Processing words as a set: The bag-of-words approach\n",
        "The simplest way to encode a piece of text for processing by a nmachine model is to discard order and treat it as a set (a \"bag\") of tokens. You could either look at individual owrds (unigrams), or try to recover some local order information by looking at groups of consecutive tokens (N-grams)"
      ]
    },
    {
      "cell_type": "markdown",
      "metadata": {
        "id": "_JE1M2qsuq4K"
      },
      "source": [
        "#### Single words (unigrams) with binary encoding"
      ]
    },
    {
      "cell_type": "markdown",
      "metadata": {
        "id": "j-N3BR2zuq4K"
      },
      "source": [
        "**Preprocessing our datasets with a `TextVectorization` layer**\n",
        "\n",
        "The datasets train_ds, val_ds, and test_da were created earlier with keras utility `text_dataset_from_directory`.\n",
        "\n",
        "We will use `lambda function` to multi-hot encode the text in these datasets. Let's we first go over a toy example of lamba function. \n",
        "\n",
        "**Toy example of lambda function: think λ(x)**\n",
        "1. Suppose, we want to define a function λ(x) which multiplies x by 2, ie. returns 2x. That is, **λ(x)= 2x**.\n",
        "      \n",
        "      This is how we will write it in python\n",
        "\n",
        "      `lambda x: 2x`\n",
        "\n",
        "2. We want to apply (map) the function λ(x) to all x such that x ϵ A =[1, 2, 3].  \n",
        "\n",
        "  For this purpose We will use `map()` function.\n",
        "\n",
        "          map(lambda x: 2x, A)\n",
        "\n",
        "3. Finally, we want to list all the results y ϵ Y where y = λ(x). We will use  `list()`. The full code is shown below:\n",
        "\n",
        "  ```\n",
        "    A =[1, 2, 3]\n",
        "    Y = list(map(lambda x: 2*x, A))\n",
        "    print(Y)\n",
        "  ```\n",
        "        Output:\n",
        "        [2, 4, 6]"
      ]
    },
    {
      "cell_type": "markdown",
      "source": [
        "Recall the `TextVectorization` layer creates the multi-hot encoding with a vocabulary of 20,000 words.\n",
        "\n",
        "We will apply the `TextVectorization` layer as a `lambda function` on datasets `train_ds`, `val_ds`, and `test_ds`. This will multi-hot encode the text in all these data sets.\n",
        "\n"
      ],
      "metadata": {
        "id": "Abb3AB6H-K2N"
      }
    },
    {
      "cell_type": "markdown",
      "source": [
        "<font color='red'>**IMPORTANT**: Must run text vectorization cell above before running the next cell.</font> This was in section *Using TextVectorization layer*, reproduced here easy for references\n",
        "\n",
        "```\n",
        "from tensorflow.keras.layers import TextVectorization\n",
        "text_vectorization = TextVectorization(\n",
        "    output_mode=\"int\",\n",
        ")\n",
        "\n",
        "```\n",
        "Otherwise you will get the error message: \n",
        "\n",
        "> \"*nameerror: name 'textvectorization' is not defined\"*.</font> "
      ],
      "metadata": {
        "id": "atx_aQgu-44f"
      }
    },
    {
      "cell_type": "code",
      "execution_count": null,
      "metadata": {
        "id": "mEsRLq08uq4K"
      },
      "outputs": [],
      "source": [
        "# defining Keras TextVectorization layer, \n",
        "#   specify max_tokens in vocabulary\n",
        "#   multi-hot encoding. \n",
        "#   Default encoding is 1gram. If we want bi-grams then set ngrams=2\n",
        "\n",
        "# MUST RUN  text_vectorization cell above before running this cell.\n",
        "\n",
        "text_vectorization = TextVectorization(\n",
        "    max_tokens=20000,\n",
        "    output_mode=\"multi_hot\",\n",
        ")\n",
        "\n",
        "# Using lambda fn to create text only data sets from train_ds\n",
        "#    i.e. extracting only feature but no labels from examples.\n",
        "#    Use that data to index dataset vocabulary, via adapt() method.\n",
        "#    The vocabulary from text_only_train_ds  will be used in training \n",
        "#    bi-gram model in a latter section.\n",
        "\n",
        "text_only_train_ds = train_ds.map(lambda x, y: x)\n",
        "text_vectorization.adapt(text_only_train_ds)\n",
        "\n",
        "# Applying TextVectorization as lambda function\n",
        "# on features (x) only in each ds to encode 1-grams with max vocab=20,000 words\n",
        "\n",
        "binary_1gram_train_ds = train_ds.map(\n",
        "    lambda x, y: (text_vectorization(x), y),\n",
        "    num_parallel_calls=4)\n",
        "binary_1gram_val_ds = val_ds.map(\n",
        "    lambda x, y: (text_vectorization(x), y),\n",
        "    num_parallel_calls=4)\n",
        "binary_1gram_test_ds = test_ds.map(\n",
        "    lambda x, y: (text_vectorization(x), y),\n",
        "    num_parallel_calls=4)"
      ]
    },
    {
      "cell_type": "markdown",
      "metadata": {
        "id": "JJhrBtU9uq4K"
      },
      "source": [
        "**Inspecting the output of our binary unigram dataset**"
      ]
    },
    {
      "cell_type": "code",
      "execution_count": null,
      "metadata": {
        "colab": {
          "base_uri": "https://localhost:8080/"
        },
        "id": "5y8hWm8Quq4K",
        "outputId": "ef5e81fc-b1e2-49ef-fbd1-673ada3cc195"
      },
      "outputs": [
        {
          "output_type": "stream",
          "name": "stdout",
          "text": [
            "inputs.shape: (32, 20000)\n",
            "inputs.dtype: <dtype: 'float32'>\n",
            "targets.shape: (32,)\n",
            "targets.dtype: <dtype: 'int32'>\n",
            "inputs[0]: tf.Tensor([1. 1. 1. ... 0. 0. 0.], shape=(20000,), dtype=float32)\n",
            "targets[0]: tf.Tensor(0, shape=(), dtype=int32)\n"
          ]
        }
      ],
      "source": [
        "for inputs, targets in binary_1gram_train_ds:\n",
        "    print(\"inputs.shape:\", inputs.shape)\n",
        "    print(\"inputs.dtype:\", inputs.dtype)\n",
        "    print(\"targets.shape:\", targets.shape)\n",
        "    print(\"targets.dtype:\", targets.dtype)\n",
        "    print(\"inputs[0]:\", inputs[0])\n",
        "    print(\"targets[0]:\", targets[0])\n",
        "    break"
      ]
    },
    {
      "cell_type": "markdown",
      "metadata": {
        "id": "9ts9le6tuq4L"
      },
      "source": [
        "**Our model-building utility**"
      ]
    },
    {
      "cell_type": "code",
      "execution_count": null,
      "metadata": {
        "id": "UXtELHYGuq4L"
      },
      "outputs": [],
      "source": [
        "from tensorflow import keras\n",
        "from tensorflow.keras import layers\n",
        "\n",
        "def get_model(max_tokens=20000, hidden_dim=16):\n",
        "    inputs = keras.Input(shape=(max_tokens,))\n",
        "    x = layers.Dense(hidden_dim, activation=\"relu\")(inputs)\n",
        "    x = layers.Dropout(0.5)(x)\n",
        "    outputs = layers.Dense(1, activation=\"sigmoid\")(x)\n",
        "    model = keras.Model(inputs, outputs)\n",
        "    model.compile(optimizer=\"rmsprop\",\n",
        "                  loss=\"binary_crossentropy\",\n",
        "                  metrics=[\"accuracy\"])\n",
        "    return model"
      ]
    },
    {
      "cell_type": "markdown",
      "metadata": {
        "id": "Xy6f2pd0uq4L"
      },
      "source": [
        "**Training and testing the binary unigram model**"
      ]
    },
    {
      "cell_type": "code",
      "execution_count": null,
      "metadata": {
        "colab": {
          "base_uri": "https://localhost:8080/"
        },
        "id": "w4c0suv-uq4L",
        "outputId": "32c5ff98-eb89-4967-8f48-ff80b80c574b"
      },
      "outputs": [
        {
          "output_type": "stream",
          "name": "stdout",
          "text": [
            "Model: \"model\"\n",
            "_________________________________________________________________\n",
            " Layer (type)                Output Shape              Param #   \n",
            "=================================================================\n",
            " input_1 (InputLayer)        [(None, 20000)]           0         \n",
            "                                                                 \n",
            " dense (Dense)               (None, 16)                320016    \n",
            "                                                                 \n",
            " dropout (Dropout)           (None, 16)                0         \n",
            "                                                                 \n",
            " dense_1 (Dense)             (None, 1)                 17        \n",
            "                                                                 \n",
            "=================================================================\n",
            "Total params: 320,033\n",
            "Trainable params: 320,033\n",
            "Non-trainable params: 0\n",
            "_________________________________________________________________\n",
            "Epoch 1/10\n",
            "625/625 [==============================] - 11s 16ms/step - loss: 0.4077 - accuracy: 0.8299 - val_loss: 0.2892 - val_accuracy: 0.8836\n",
            "Epoch 2/10\n",
            "625/625 [==============================] - 3s 5ms/step - loss: 0.2691 - accuracy: 0.8992 - val_loss: 0.2855 - val_accuracy: 0.8910\n",
            "Epoch 3/10\n",
            "625/625 [==============================] - 3s 6ms/step - loss: 0.2439 - accuracy: 0.9153 - val_loss: 0.3036 - val_accuracy: 0.8906\n",
            "Epoch 4/10\n",
            "625/625 [==============================] - 5s 8ms/step - loss: 0.2277 - accuracy: 0.9232 - val_loss: 0.3195 - val_accuracy: 0.8864\n",
            "Epoch 5/10\n",
            "625/625 [==============================] - 5s 8ms/step - loss: 0.2127 - accuracy: 0.9280 - val_loss: 0.3386 - val_accuracy: 0.8876\n",
            "Epoch 6/10\n",
            "625/625 [==============================] - 5s 8ms/step - loss: 0.2194 - accuracy: 0.9308 - val_loss: 0.3561 - val_accuracy: 0.8828\n",
            "Epoch 7/10\n",
            "625/625 [==============================] - 3s 5ms/step - loss: 0.2156 - accuracy: 0.9338 - val_loss: 0.3618 - val_accuracy: 0.8838\n",
            "Epoch 8/10\n",
            "625/625 [==============================] - 4s 6ms/step - loss: 0.2075 - accuracy: 0.9330 - val_loss: 0.3706 - val_accuracy: 0.8832\n",
            "Epoch 9/10\n",
            "625/625 [==============================] - 3s 5ms/step - loss: 0.2032 - accuracy: 0.9383 - val_loss: 0.3934 - val_accuracy: 0.8792\n",
            "Epoch 10/10\n",
            "625/625 [==============================] - 3s 5ms/step - loss: 0.2000 - accuracy: 0.9376 - val_loss: 0.3884 - val_accuracy: 0.8836\n",
            "782/782 [==============================] - 10s 13ms/step - loss: 0.2884 - accuracy: 0.8869\n",
            "Test acc: 0.887\n"
          ]
        }
      ],
      "source": [
        "model = get_model()\n",
        "model.summary()\n",
        "callbacks = [\n",
        "    keras.callbacks.ModelCheckpoint(\"binary_1gram.keras\",\n",
        "                                    save_best_only=True)\n",
        "]\n",
        "model.fit(binary_1gram_train_ds.cache(),\n",
        "          validation_data=binary_1gram_val_ds.cache(),\n",
        "          epochs=10,\n",
        "          callbacks=callbacks)\n",
        "model = keras.models.load_model(\"binary_1gram.keras\")\n",
        "print(f\"Test acc: {model.evaluate(binary_1gram_test_ds)[1]:.3f}\")"
      ]
    },
    {
      "cell_type": "markdown",
      "source": [
        "Got validation accuracy 0.883, and text accuracy 0.885"
      ],
      "metadata": {
        "id": "ekvjvRfwi0vt"
      }
    },
    {
      "cell_type": "markdown",
      "metadata": {
        "id": "aPnPbBrPuq4M"
      },
      "source": [
        "#### Bigrams with binary encoding"
      ]
    },
    {
      "cell_type": "markdown",
      "metadata": {
        "id": "J9t4R9S8uq4M"
      },
      "source": [
        "**Configuring the `TextVectorization` layer to return bigrams**\n",
        "- Some atomic concepts cannot be represented by 1-grams. For example, \"United States\". The local order information is important in these cases, which may lead to choice of N-grams (usually bi-grams), instad of 1-gram.\n",
        "\n",
        "- To configure the `TextVectorization` layer to return **bigrams**, specify `ngrams=2` argument in `TextVectorization` layer"
      ]
    },
    {
      "cell_type": "markdown",
      "source": [
        "<font color='red'>Make sure TextVectorzation layer has been imported before running the next cell</font>."
      ],
      "metadata": {
        "id": "BfZGCLuu_UmN"
      }
    },
    {
      "cell_type": "code",
      "execution_count": null,
      "metadata": {
        "id": "H9K-UOMuuq4M"
      },
      "outputs": [],
      "source": [
        "text_vectorization = TextVectorization(\n",
        "    ngrams=2, \n",
        "    max_tokens=20000,\n",
        "    output_mode=\"multi_hot\",\n",
        ")"
      ]
    },
    {
      "cell_type": "markdown",
      "metadata": {
        "id": "1TiIsTZMuq4M"
      },
      "source": [
        "**Training and testing the binary bigram model**\n",
        "\n",
        "- The textVectorization layer defined above creates bi-grams (ngrams=2). \n",
        "- The output mode of the layer  is tf-idf. When applied to a text dataset, it will create vocabulary as well as learn the tf-idf weights.  \n"
      ]
    },
    {
      "cell_type": "code",
      "execution_count": null,
      "metadata": {
        "colab": {
          "base_uri": "https://localhost:8080/"
        },
        "id": "2CQWovfXuq4M",
        "outputId": "9623e79b-1565-4e89-e2cd-17194acb7f56"
      },
      "outputs": [
        {
          "output_type": "stream",
          "name": "stdout",
          "text": [
            "Model: \"model_4\"\n",
            "_________________________________________________________________\n",
            " Layer (type)                Output Shape              Param #   \n",
            "=================================================================\n",
            " input_5 (InputLayer)        [(None, 20000)]           0         \n",
            "                                                                 \n",
            " dense_8 (Dense)             (None, 16)                320016    \n",
            "                                                                 \n",
            " dropout_4 (Dropout)         (None, 16)                0         \n",
            "                                                                 \n",
            " dense_9 (Dense)             (None, 1)                 17        \n",
            "                                                                 \n",
            "=================================================================\n",
            "Total params: 320,033\n",
            "Trainable params: 320,033\n",
            "Non-trainable params: 0\n",
            "_________________________________________________________________\n",
            "Epoch 1/10\n",
            "625/625 [==============================] - 8s 12ms/step - loss: 0.3733 - accuracy: 0.8464 - val_loss: 0.2708 - val_accuracy: 0.8970\n",
            "Epoch 2/10\n",
            "625/625 [==============================] - 3s 4ms/step - loss: 0.2399 - accuracy: 0.9178 - val_loss: 0.2830 - val_accuracy: 0.8968\n",
            "Epoch 3/10\n",
            "625/625 [==============================] - 3s 4ms/step - loss: 0.1985 - accuracy: 0.9348 - val_loss: 0.2937 - val_accuracy: 0.9000\n",
            "Epoch 4/10\n",
            "625/625 [==============================] - 3s 4ms/step - loss: 0.1855 - accuracy: 0.9433 - val_loss: 0.3142 - val_accuracy: 0.8988\n",
            "Epoch 5/10\n",
            "625/625 [==============================] - 3s 4ms/step - loss: 0.1792 - accuracy: 0.9467 - val_loss: 0.3368 - val_accuracy: 0.8974\n",
            "Epoch 6/10\n",
            "625/625 [==============================] - 2s 4ms/step - loss: 0.1762 - accuracy: 0.9492 - val_loss: 0.3422 - val_accuracy: 0.8982\n",
            "Epoch 7/10\n",
            "625/625 [==============================] - 2s 4ms/step - loss: 0.1706 - accuracy: 0.9513 - val_loss: 0.3509 - val_accuracy: 0.8950\n",
            "Epoch 8/10\n",
            "625/625 [==============================] - 2s 4ms/step - loss: 0.1759 - accuracy: 0.9527 - val_loss: 0.3569 - val_accuracy: 0.8976\n",
            "Epoch 9/10\n",
            "625/625 [==============================] - 2s 4ms/step - loss: 0.1741 - accuracy: 0.9528 - val_loss: 0.3600 - val_accuracy: 0.8972\n",
            "Epoch 10/10\n",
            "625/625 [==============================] - 2s 4ms/step - loss: 0.1685 - accuracy: 0.9538 - val_loss: 0.3721 - val_accuracy: 0.8988\n",
            "782/782 [==============================] - 9s 11ms/step - loss: 0.2731 - accuracy: 0.8972\n",
            "Test acc: 0.897\n"
          ]
        }
      ],
      "source": [
        "\n",
        "text_vectorization.adapt(text_only_train_ds)\n",
        "\n",
        "binary_2gram_train_ds = train_ds.map(\n",
        "    lambda x, y: (text_vectorization(x), y),\n",
        "    num_parallel_calls=4)\n",
        "binary_2gram_val_ds = val_ds.map(\n",
        "    lambda x, y: (text_vectorization(x), y),\n",
        "    num_parallel_calls=4)\n",
        "binary_2gram_test_ds = test_ds.map(\n",
        "    lambda x, y: (text_vectorization(x), y),\n",
        "    num_parallel_calls=4)\n",
        "\n",
        "model = get_model()                 # model to load to be specified below \n",
        "model.summary()\n",
        "callbacks = [\n",
        "    keras.callbacks.ModelCheckpoint(\"binary_2gram.keras\",\n",
        "                                    save_best_only=True)\n",
        "]\n",
        "model.fit(binary_2gram_train_ds.cache(),\n",
        "          validation_data=binary_2gram_val_ds.cache(),\n",
        "          epochs=10,\n",
        "          callbacks=callbacks)\n",
        "# specifying the model to load\n",
        "model = keras.models.load_model(\"binary_2gram.keras\")\n",
        "print(f\"Test acc: {model.evaluate(binary_2gram_test_ds)[1]:.3f}\")"
      ]
    },
    {
      "cell_type": "markdown",
      "source": [
        "The bigram model got validation accuracy 0.901 and test accuracy 0.895\n",
        "\n",
        "Recall that the 1-gram model had test accuracy 0.885. So bigrams did not offer a huge improvement in accuracy over 1-gram model."
      ],
      "metadata": {
        "id": "iMVETaL9jnls"
      }
    },
    {
      "cell_type": "markdown",
      "metadata": {
        "id": "-emtpUHRuq4N"
      },
      "source": [
        "#### Bigrams with TF-IDF encoding\n",
        "We can add a bit more information by including the frequency of the N-grams appearing in the document. \n",
        "\n",
        "This can be achieved by using `TextVectorization` layer and setting `output_mode=\"count\"`\n",
        "\n",
        "\n",
        "\n"
      ]
    },
    {
      "cell_type": "markdown",
      "metadata": {
        "id": "K-w651y1uq4N"
      },
      "source": [
        "**Configuring the `TextVectorization` layer to return token counts**"
      ]
    },
    {
      "cell_type": "code",
      "execution_count": null,
      "metadata": {
        "id": "nrLvg5k7uq4N"
      },
      "outputs": [],
      "source": [
        "text_vectorization = TextVectorization(\n",
        "    ngrams=2,\n",
        "    max_tokens=20000,\n",
        "    output_mode=\"count\"\n",
        ")"
      ]
    },
    {
      "cell_type": "markdown",
      "metadata": {
        "id": "FspK72ucuq4N"
      },
      "source": [
        "**Configuring `TextVectorization` to return TF-IDF-weighted outputs**\n",
        "\n",
        "The problem is that some words -- for eaxmple, 'a', 'the', 'is', 'and', 'are' -- may have high frequencies but they are pretty useless features for text classification. Therefore, we use normalization:\n",
        "\n",
        "- In particular, we use TD-IDF normalization, which stands for \"*term frequency, inverse document frequency*\"\n",
        "\n",
        "- Under TF-IDF each term is wighted by its frequency in the current document (\"term frequency\") and divided by how often the term comes up (in other documents) across the dataset.\n",
        "\n",
        "- It can be computed as follows:\n",
        "\n",
        "  ```\n",
        "      def tfidf(term, document, dataset):\n",
        "          term_freq = document.count(term)\n",
        "          doc_freq  = math.log(sum(doc.count(term) for doc in dataset) + 1)\n",
        "          retrun term_freq/doc_freq\n",
        "  ```\n",
        "- TF-IDF Normalization can be implemented with Keras `TextVectorization` layers by specifying `output_mode= \"tf_idf\"`\n",
        "- Any `adapt()` call to this particular `textVectorization` layer will not only create vocabulary but also learn `tf-idf weights`."
      ]
    },
    {
      "cell_type": "markdown",
      "source": [
        "See **SIDEBAR** listings 11.2 and 11.3\n",
        "\n",
        "<font color='red'>**This model must be run on cpu instead of GPU**.</font> \n",
        "\n",
        "\n",
        "\n",
        "So in the top menu bar of the cell, select `Runtime` >> `runtime type` >> set `hardware accelerator = NONE`.</font>\n",
        "\n",
        "<font color='red'>Before running the cell, the following pervious cells have to be run on cpu.\n",
        "- importing textVectorization layer from keras\n",
        "- importing and managing data sets\n",
        "- creating directories, sub-directories for train, val, test\n",
        "- get_model() utility\n",
        "\n",
        "<font color='red'>This means we have to re-run on cpu all the cells before the text cell: **Training and testing the binary unigram model**</font>\n"
      ],
      "metadata": {
        "id": "xoHLsexWRkpx"
      }
    },
    {
      "cell_type": "code",
      "execution_count": null,
      "metadata": {
        "id": "lyqKIIz1uq4N"
      },
      "outputs": [],
      "source": [
        "text_vectorization = TextVectorization(\n",
        "    ngrams=2,\n",
        "    max_tokens=20000,\n",
        "    output_mode=\"tf_idf\",\n",
        ")"
      ]
    },
    {
      "cell_type": "markdown",
      "metadata": {
        "id": "-zNQNNuUuq4N"
      },
      "source": [
        "**Training and testing the <font color='blue'>TF-IDF bigram</font> model**"
      ]
    },
    {
      "cell_type": "code",
      "execution_count": null,
      "metadata": {
        "colab": {
          "base_uri": "https://localhost:8080/"
        },
        "id": "5EPB16fRuq4O",
        "outputId": "e94452f0-676b-46e6-d3cd-a4405b9b5f9e"
      },
      "outputs": [
        {
          "output_type": "stream",
          "name": "stdout",
          "text": [
            "Model: \"model_1\"\n",
            "_________________________________________________________________\n",
            " Layer (type)                Output Shape              Param #   \n",
            "=================================================================\n",
            " input_2 (InputLayer)        [(None, 20000)]           0         \n",
            "                                                                 \n",
            " dense_2 (Dense)             (None, 16)                320016    \n",
            "                                                                 \n",
            " dropout_1 (Dropout)         (None, 16)                0         \n",
            "                                                                 \n",
            " dense_3 (Dense)             (None, 1)                 17        \n",
            "                                                                 \n",
            "=================================================================\n",
            "Total params: 320,033\n",
            "Trainable params: 320,033\n",
            "Non-trainable params: 0\n",
            "_________________________________________________________________\n",
            "Epoch 1/10\n",
            "625/625 [==============================] - 12s 19ms/step - loss: 0.5066 - accuracy: 0.7709 - val_loss: 0.2959 - val_accuracy: 0.8838\n",
            "Epoch 2/10\n",
            "625/625 [==============================] - 4s 6ms/step - loss: 0.3472 - accuracy: 0.8497 - val_loss: 0.3057 - val_accuracy: 0.8736\n",
            "Epoch 3/10\n",
            "625/625 [==============================] - 4s 6ms/step - loss: 0.3058 - accuracy: 0.8633 - val_loss: 0.3134 - val_accuracy: 0.8832\n",
            "Epoch 4/10\n",
            "625/625 [==============================] - 4s 6ms/step - loss: 0.2870 - accuracy: 0.8733 - val_loss: 0.3469 - val_accuracy: 0.8814\n",
            "Epoch 5/10\n",
            "625/625 [==============================] - 5s 7ms/step - loss: 0.2773 - accuracy: 0.8801 - val_loss: 0.3307 - val_accuracy: 0.8794\n",
            "Epoch 6/10\n",
            "625/625 [==============================] - 5s 8ms/step - loss: 0.2701 - accuracy: 0.8790 - val_loss: 0.3498 - val_accuracy: 0.8766\n",
            "Epoch 7/10\n",
            "625/625 [==============================] - 5s 8ms/step - loss: 0.2578 - accuracy: 0.8821 - val_loss: 0.3510 - val_accuracy: 0.8842\n",
            "Epoch 8/10\n",
            "625/625 [==============================] - 5s 8ms/step - loss: 0.2495 - accuracy: 0.8877 - val_loss: 0.3515 - val_accuracy: 0.8918\n",
            "Epoch 9/10\n",
            "625/625 [==============================] - 5s 8ms/step - loss: 0.2447 - accuracy: 0.8997 - val_loss: 0.3647 - val_accuracy: 0.8928\n",
            "Epoch 10/10\n",
            "625/625 [==============================] - 5s 8ms/step - loss: 0.2245 - accuracy: 0.9061 - val_loss: 0.3586 - val_accuracy: 0.8932\n",
            "782/782 [==============================] - 12s 14ms/step - loss: 0.2983 - accuracy: 0.8825\n",
            "Test acc: 0.883\n"
          ]
        }
      ],
      "source": [
        "text_vectorization.adapt(text_only_train_ds)\n",
        "tfidf_2gram_train_ds = train_ds.map(\n",
        "    lambda x, y: (text_vectorization(x), y),\n",
        "    num_parallel_calls=4)\n",
        "tfidf_2gram_val_ds = val_ds.map(\n",
        "    lambda x, y: (text_vectorization(x), y),\n",
        "    num_parallel_calls=4)\n",
        "tfidf_2gram_test_ds = test_ds.map(\n",
        "    lambda x, y: (text_vectorization(x), y),\n",
        "    num_parallel_calls=4)\n",
        "\n",
        "model = get_model()\n",
        "model.summary()\n",
        "callbacks = [\n",
        "    keras.callbacks.ModelCheckpoint(\"tfidf_2gram.keras\",\n",
        "                                    save_best_only=True)\n",
        "]\n",
        "model.fit(tfidf_2gram_train_ds.cache(),\n",
        "          validation_data=tfidf_2gram_val_ds.cache(),\n",
        "          epochs=10,\n",
        "          callbacks=callbacks)\n",
        "model = keras.models.load_model(\"tfidf_2gram.keras\")\n",
        "print(f\"Test acc: {model.evaluate(tfidf_2gram_test_ds)[1]:.3f}\")"
      ]
    },
    {
      "cell_type": "markdown",
      "source": [
        "This gives 0.887 accuracy on test dataset, which is less than the accuracy of binary bi-gram model."
      ],
      "metadata": {
        "id": "Jz9FHpmnRGZf"
      }
    },
    {
      "cell_type": "markdown",
      "source": [
        "**<font color='blue'>Box: Exporting a model that processes raw-strings</font>**\n",
        "\n",
        "First review the box **Using the TextVectorization layer in a tf.data pipeline or as part of a model** in section 11.2.4 on p. 318. In summary, <font color='blue'>Vectorizing text</font> is the process of transforming text into numeric tensors. This involves <font color='blue'>standardizing, tokenizing and indexing text</font>. Text vectorization can be done in two ways: \n",
        "\n",
        "  <font color='blue'>1. Make *textVectorization* layer as part of **tf.data pipeline**:</font> \n",
        "  \n",
        ">This would allow the text vectrization, which is a dictionary look-up operation (not excutable on GPU/TPU) to be asynchoronously done on CPU. While the GPU processes a batch of vectorized (text) data, the CPU would vectorize next batch of raw strings.\n",
        "\n",
        "\n",
        "\n",
        "  <font color='blue'>2. Make *textVectorization* **as a part of model:**</font>\n",
        "  \n",
        ">   Alternatively, textVectorization can be made a part of the model. This is possible because textVectorization is after all a keras layer, which can be added to a model (see box on p 318 for details). In this case, however, the layer would still execute to CPU, and the GPU/TPU would have to wait to receive vectorized text from CPU.\n",
        "\n",
        "***The best practice is option-1, ie. make textVectorization layer a part of the tf.data pipeline.***\n",
        "\n",
        "<font color='blue'>tf.data pipeline Issues in production environment</font>\n",
        "\n",
        "However, using textVectorization layer in tf.data pipeline leads to a problem in production environment: the shipped model has to be able to accept raw strings as input, which requires re-creating the entire tf.data pipeline in the production environment (may be in Javascript?). \n",
        "\n",
        "<font color='blue'>Deployment solution with tf.data pipeline:</font> \n",
        "export an inference-only trained model that incorporates text preprocessing.\n",
        "\n",
        "TextVectorization layer enables you to include text preprocessing right into your model, making it easier to deploy—even if you were originally using the layer as part of a tf.data pipeline. \n",
        "\n",
        "To do this you have to just create a new model that re-uses textVectorization layer and adds to it the model you just trained. \n",
        "\n"
      ],
      "metadata": {
        "id": "NdM04hyFVMG3"
      }
    },
    {
      "cell_type": "markdown",
      "source": [
        "![image.png](data:image/png;base64,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)"
      ],
      "metadata": {
        "id": "NJ83rb6e3jO9"
      }
    },
    {
      "cell_type": "markdown",
      "source": [
        ""
      ],
      "metadata": {
        "id": "v-YkN1Dra3FS"
      }
    },
    {
      "cell_type": "code",
      "execution_count": null,
      "metadata": {
        "id": "MKjSCp4Muq4O"
      },
      "outputs": [],
      "source": [
        "inputs = keras.Input(shape=(1,), dtype=\"string\")\n",
        "processed_inputs = text_vectorization(inputs)\n",
        "outputs = model(processed_inputs)\n",
        "inference_model = keras.Model(inputs, outputs)"
      ]
    },
    {
      "cell_type": "markdown",
      "source": [
        ""
      ],
      "metadata": {
        "id": "p5zi81fN3foH"
      }
    },
    {
      "cell_type": "code",
      "execution_count": null,
      "metadata": {
        "colab": {
          "base_uri": "https://localhost:8080/"
        },
        "id": "-FX--Axduq4O",
        "outputId": "bad67f9a-bde9-4a4a-a32d-89c2115d61f1"
      },
      "outputs": [
        {
          "output_type": "stream",
          "name": "stdout",
          "text": [
            "88.75 percent positive\n"
          ]
        }
      ],
      "source": [
        "import tensorflow as tf\n",
        "raw_text_data = tf.convert_to_tensor([\n",
        "    [\"That was an excellent movie, I loved it.\"],\n",
        "])\n",
        "predictions = inference_model(raw_text_data)\n",
        "print(f\"{float(predictions[0] * 100):.2f} percent positive\")"
      ]
    }
  ],
  "metadata": {
    "colab": {
      "collapsed_sections": [],
      "name": "chapter11_part01_introduction.i",
      "provenance": [],
      "include_colab_link": true
    },
    "kernelspec": {
      "display_name": "Python 3",
      "language": "python",
      "name": "python3"
    },
    "language_info": {
      "codemirror_mode": {
        "name": "ipython",
        "version": 3
      },
      "file_extension": ".py",
      "mimetype": "text/x-python",
      "name": "python",
      "nbconvert_exporter": "python",
      "pygments_lexer": "ipython3",
      "version": "3.7.0"
    }
  },
  "nbformat": 4,
  "nbformat_minor": 0
}