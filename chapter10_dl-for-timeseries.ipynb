{
  "cells": [
    {
      "cell_type": "markdown",
      "metadata": {
        "id": "view-in-github",
        "colab_type": "text"
      },
      "source": [
        "<a href=\"https://colab.research.google.com/github/kriaz100/deep-learning-with-python-notebooks/blob/master/chapter10_dl-for-timeseries.ipynb\" target=\"_parent\"><img src=\"https://colab.research.google.com/assets/colab-badge.svg\" alt=\"Open In Colab\"/></a>"
      ]
    },
    {
      "cell_type": "markdown",
      "metadata": {
        "id": "1LV17-RN24pJ"
      },
      "source": [
        "This is a companion notebook for the book [Deep Learning with Python, Second Edition](https://www.manning.com/books/deep-learning-with-python-second-edition?a_aid=keras&a_bid=76564dff). For readability, it only contains runnable code blocks and section titles, and omits everything else in the book: text paragraphs, figures, and pseudocode.\n",
        "\n",
        "**If you want to be able to follow what's going on, I recommend reading the notebook side by side with your copy of the book.**\n",
        "\n",
        "This notebook was generated for TensorFlow 2.6."
      ]
    },
    {
      "cell_type": "markdown",
      "metadata": {
        "id": "MrcVSaig24pP"
      },
      "source": [
        "# Deep learning for timeseries"
      ]
    },
    {
      "cell_type": "markdown",
      "metadata": {
        "id": "qM8T98L724pP"
      },
      "source": [
        "## Different kinds of timeseries tasks"
      ]
    },
    {
      "cell_type": "markdown",
      "metadata": {
        "id": "qb5ZacFV24pQ"
      },
      "source": [
        "## A temperature-forecasting example\n",
        "Below is a snapshot of the data"
      ]
    },
    {
      "cell_type": "markdown",
      "source": [
        "![image.png](data:image/png;base64,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)"
      ],
      "metadata": {
        "id": "nNDhUBsd7-5y"
      }
    },
    {
      "cell_type": "code",
      "execution_count": 1,
      "metadata": {
        "colab": {
          "base_uri": "https://localhost:8080/"
        },
        "id": "LcTME6rh24pR",
        "outputId": "31b088d7-0a9e-4047-d595-a181daab9b32"
      },
      "outputs": [
        {
          "output_type": "stream",
          "name": "stdout",
          "text": [
            "--2022-04-14 02:18:31--  https://s3.amazonaws.com/keras-datasets/jena_climate_2009_2016.csv.zip\n",
            "Resolving s3.amazonaws.com (s3.amazonaws.com)... 52.217.100.86\n",
            "Connecting to s3.amazonaws.com (s3.amazonaws.com)|52.217.100.86|:443... connected.\n",
            "HTTP request sent, awaiting response... 200 OK\n",
            "Length: 13565642 (13M) [application/zip]\n",
            "Saving to: ‘jena_climate_2009_2016.csv.zip’\n",
            "\n",
            "jena_climate_2009_2 100%[===================>]  12.94M  62.2MB/s    in 0.2s    \n",
            "\n",
            "2022-04-14 02:18:32 (62.2 MB/s) - ‘jena_climate_2009_2016.csv.zip’ saved [13565642/13565642]\n",
            "\n",
            "Archive:  jena_climate_2009_2016.csv.zip\n",
            "  inflating: jena_climate_2009_2016.csv  \n",
            "  inflating: __MACOSX/._jena_climate_2009_2016.csv  \n"
          ]
        }
      ],
      "source": [
        "!wget https://s3.amazonaws.com/keras-datasets/jena_climate_2009_2016.csv.zip\n",
        "!unzip jena_climate_2009_2016.csv.zip"
      ]
    },
    {
      "cell_type": "markdown",
      "metadata": {
        "id": "UDsVacJC24pS"
      },
      "source": [
        "**Inspecting the data of the Jena weather dataset**"
      ]
    },
    {
      "cell_type": "code",
      "execution_count": 2,
      "metadata": {
        "colab": {
          "base_uri": "https://localhost:8080/"
        },
        "id": "niq9qpNW24pT",
        "outputId": "d33a2c99-f7fd-4a08-ecae-f24cf525e3e4"
      },
      "outputs": [
        {
          "output_type": "stream",
          "name": "stdout",
          "text": [
            "['\"Date Time\"', '\"p (mbar)\"', '\"T (degC)\"', '\"Tpot (K)\"', '\"Tdew (degC)\"', '\"rh (%)\"', '\"VPmax (mbar)\"', '\"VPact (mbar)\"', '\"VPdef (mbar)\"', '\"sh (g/kg)\"', '\"H2OC (mmol/mol)\"', '\"rho (g/m**3)\"', '\"wv (m/s)\"', '\"max. wv (m/s)\"', '\"wd (deg)\"']\n",
            "420451\n"
          ]
        }
      ],
      "source": [
        "import os\n",
        "fname = os.path.join(\"jena_climate_2009_2016.csv\")\n",
        "\n",
        "with open(fname) as f:\n",
        "    data = f.read()\n",
        "\n",
        "lines = data.split(\"\\n\")\n",
        "header = lines[0].split(\",\")\n",
        "lines = lines[1:]\n",
        "print(header)\n",
        "print(len(lines))"
      ]
    },
    {
      "cell_type": "markdown",
      "metadata": {
        "id": "R3rba0bF24pU"
      },
      "source": [
        "**Parsing the data**"
      ]
    },
    {
      "cell_type": "code",
      "execution_count": 3,
      "metadata": {
        "id": "MabIYGVA24pV"
      },
      "outputs": [],
      "source": [
        "import numpy as np\n",
        "temperature = np.zeros((len(lines),))\n",
        "raw_data = np.zeros((len(lines), len(header) - 1))\n",
        "for i, line in enumerate(lines):\n",
        "    values = [float(x) for x in line.split(\",\")[1:]]\n",
        "    temperature[i] = values[1]\n",
        "    raw_data[i, :] = values[:]"
      ]
    },
    {
      "cell_type": "markdown",
      "metadata": {
        "id": "WhzmpRrt24pW"
      },
      "source": [
        "**Plotting the temperature timeseries**"
      ]
    },
    {
      "cell_type": "code",
      "execution_count": 4,
      "metadata": {
        "colab": {
          "base_uri": "https://localhost:8080/",
          "height": 285
        },
        "id": "LjyFDYhD24pX",
        "outputId": "86541cc3-ff25-4f31-94a6-1297fc63846a"
      },
      "outputs": [
        {
          "output_type": "execute_result",
          "data": {
            "text/plain": [
              "[<matplotlib.lines.Line2D at 0x7f50534d7490>]"
            ]
          },
          "metadata": {},
          "execution_count": 4
        },
        {
          "output_type": "display_data",
          "data": {
            "text/plain": [
              "<Figure size 432x288 with 1 Axes>"
            ],
            "image/png": "[encoded data removed]"
          },
          "metadata": {
            "needs_background": "light"
          }
        }
      ],
      "source": [
        "from matplotlib import pyplot as plt\n",
        "plt.plot(range(len(temperature)), temperature)"
      ]
    },
    {
      "cell_type": "markdown",
      "metadata": {
        "id": "u-P4zk3t24pX"
      },
      "source": [
        "**Plotting the first 10 days of the temperature timeseries**"
      ]
    },
    {
      "cell_type": "code",
      "execution_count": 5,
      "metadata": {
        "colab": {
          "base_uri": "https://localhost:8080/",
          "height": 282
        },
        "id": "BrqLK5TY24pY",
        "outputId": "84b7fd7b-f3df-471b-f71c-d17ebbe8bd16"
      },
      "outputs": [
        {
          "output_type": "execute_result",
          "data": {
            "text/plain": [
              "[<matplotlib.lines.Line2D at 0x7f5053409d90>]"
            ]
          },
          "metadata": {},
          "execution_count": 5
        },
        {
          "output_type": "display_data",
          "data": {
            "text/plain": [
              "<Figure size 432x288 with 1 Axes>"
            ],
            "image/png": "[encoded data removed]"
          },
          "metadata": {
            "needs_background": "light"
          }
        }
      ],
      "source": [
        "plt.plot(range(1440), temperature[:1440])"
      ]
    },
    {
      "cell_type": "markdown",
      "metadata": {
        "id": "USJODZbc24pY"
      },
      "source": [
        "**Computing the number of samples we'll use for each data split**"
      ]
    },
    {
      "cell_type": "code",
      "execution_count": 6,
      "metadata": {
        "colab": {
          "base_uri": "https://localhost:8080/"
        },
        "id": "IYjGG2Oy24pZ",
        "outputId": "1e93565a-66d1-4eb5-ef8c-2921bf76ebd8"
      },
      "outputs": [
        {
          "output_type": "stream",
          "name": "stdout",
          "text": [
            "num_train_samples: 210225\n",
            "num_val_samples: 105112\n",
            "num_test_samples: 105114\n"
          ]
        }
      ],
      "source": [
        "num_train_samples = int(0.5 * len(raw_data))\n",
        "num_val_samples = int(0.25 * len(raw_data))\n",
        "num_test_samples = len(raw_data) - num_train_samples - num_val_samples\n",
        "print(\"num_train_samples:\", num_train_samples)\n",
        "print(\"num_val_samples:\", num_val_samples)\n",
        "print(\"num_test_samples:\", num_test_samples)"
      ]
    },
    {
      "cell_type": "markdown",
      "metadata": {
        "id": "59yivmok24pZ"
      },
      "source": [
        "### Preparing the data"
      ]
    },
    {
      "cell_type": "markdown",
      "metadata": {
        "id": "iNqnEkah24pa"
      },
      "source": [
        "**Normalizing the data**"
      ]
    },
    {
      "cell_type": "code",
      "execution_count": 7,
      "metadata": {
        "id": "LxBf8PQ024pa"
      },
      "outputs": [],
      "source": [
        "mean = raw_data[:num_train_samples].mean(axis=0)\n",
        "raw_data -= mean\n",
        "std = raw_data[:num_train_samples].std(axis=0)\n",
        "raw_data /= std"
      ]
    },
    {
      "cell_type": "code",
      "execution_count": 8,
      "metadata": {
        "colab": {
          "base_uri": "https://localhost:8080/"
        },
        "id": "vnXhoWVv24pa",
        "outputId": "8e812d7d-8277-4ad8-9dca-430a31550ab3"
      },
      "outputs": [
        {
          "output_type": "stream",
          "name": "stdout",
          "text": [
            "[0, 1, 2] 3\n",
            "[1, 2, 3] 4\n",
            "[2, 3, 4] 5\n",
            "[3, 4, 5] 6\n",
            "[4, 5, 6] 7\n"
          ]
        }
      ],
      "source": [
        "import numpy as np\n",
        "from tensorflow import keras\n",
        "int_sequence = np.arange(10)\n",
        "dummy_dataset = keras.utils.timeseries_dataset_from_array(\n",
        "    data=int_sequence[:-3],\n",
        "    targets=int_sequence[3:],\n",
        "    sequence_length=3,\n",
        "    batch_size=2,\n",
        ")\n",
        "\n",
        "for inputs, targets in dummy_dataset:\n",
        "    for i in range(inputs.shape[0]):\n",
        "        print([int(x) for x in inputs[i]], int(targets[i]))"
      ]
    },
    {
      "cell_type": "markdown",
      "metadata": {
        "id": "9ANsef4W24pb"
      },
      "source": [
        "**Instantiating datasets for training, validation, and testing**"
      ]
    },
    {
      "cell_type": "code",
      "execution_count": 9,
      "metadata": {
        "id": "wEaWMg3A24pb"
      },
      "outputs": [],
      "source": [
        "sampling_rate = 6\n",
        "sequence_length = 120\n",
        "delay = sampling_rate * (sequence_length + 24 - 1)\n",
        "batch_size = 256\n",
        "\n",
        "train_dataset = keras.utils.timeseries_dataset_from_array(\n",
        "    raw_data[:-delay],\n",
        "    targets=temperature[delay:],\n",
        "    sampling_rate=sampling_rate,\n",
        "    sequence_length=sequence_length,\n",
        "    shuffle=True,\n",
        "    batch_size=batch_size,\n",
        "    start_index=0,\n",
        "    end_index=num_train_samples)\n",
        "\n",
        "val_dataset = keras.utils.timeseries_dataset_from_array(\n",
        "    raw_data[:-delay],\n",
        "    targets=temperature[delay:],\n",
        "    sampling_rate=sampling_rate,\n",
        "    sequence_length=sequence_length,\n",
        "    shuffle=True,\n",
        "    batch_size=batch_size,\n",
        "    start_index=num_train_samples,\n",
        "    end_index=num_train_samples + num_val_samples)\n",
        "\n",
        "test_dataset = keras.utils.timeseries_dataset_from_array(\n",
        "    raw_data[:-delay],\n",
        "    targets=temperature[delay:],\n",
        "    sampling_rate=sampling_rate,\n",
        "    sequence_length=sequence_length,\n",
        "    shuffle=True,\n",
        "    batch_size=batch_size,\n",
        "    start_index=num_train_samples + num_val_samples)"
      ]
    },
    {
      "cell_type": "markdown",
      "metadata": {
        "id": "A0mcplqf24pc"
      },
      "source": [
        "**Inspecting the output of one of our datasets**"
      ]
    },
    {
      "cell_type": "code",
      "execution_count": 10,
      "metadata": {
        "colab": {
          "base_uri": "https://localhost:8080/"
        },
        "id": "FbBFsSWm24pc",
        "outputId": "78844038-a3e9-4666-f841-f7e16e04ca63"
      },
      "outputs": [
        {
          "output_type": "stream",
          "name": "stdout",
          "text": [
            "samples shape: (256, 120, 14)\n",
            "targets shape: (256,)\n"
          ]
        }
      ],
      "source": [
        "for samples, targets in train_dataset:\n",
        "    print(\"samples shape:\", samples.shape)\n",
        "    print(\"targets shape:\", targets.shape)\n",
        "    break"
      ]
    },
    {
      "cell_type": "markdown",
      "metadata": {
        "id": "zzfR1GVE24pc"
      },
      "source": [
        "### A common-sense, non-machine-learning baseline"
      ]
    },
    {
      "cell_type": "markdown",
      "metadata": {
        "id": "VPl3NsMt24pd"
      },
      "source": [
        "**Computing the common-sense baseline MAE**\n",
        "We choose the common sense baseline that a naive predictor of temperature 24 hours from now is the temperature now."
      ]
    },
    {
      "cell_type": "code",
      "execution_count": 11,
      "metadata": {
        "colab": {
          "base_uri": "https://localhost:8080/"
        },
        "id": "mb6hesBd24pd",
        "outputId": "ec7493c9-cd21-46c0-f8a9-88548f79015c"
      },
      "outputs": [
        {
          "output_type": "stream",
          "name": "stdout",
          "text": [
            "Validation MAE: 2.44\n",
            "Test MAE: 2.62\n"
          ]
        }
      ],
      "source": [
        "def evaluate_naive_method(dataset):\n",
        "    total_abs_err = 0.\n",
        "    samples_seen = 0\n",
        "    for samples, targets in dataset:\n",
        "        preds = samples[:, -1, 1] * std[1] + mean[1]\n",
        "        total_abs_err += np.sum(np.abs(preds - targets))\n",
        "        samples_seen += samples.shape[0]\n",
        "    return total_abs_err / samples_seen\n",
        "\n",
        "print(f\"Validation MAE: {evaluate_naive_method(val_dataset):.2f}\")\n",
        "print(f\"Test MAE: {evaluate_naive_method(test_dataset):.2f}\")"
      ]
    },
    {
      "cell_type": "markdown",
      "source": [
        "The validation mean absolute error (MAE) of the naive_method is 2.44. **This is the common-sense baseline.**"
      ],
      "metadata": {
        "id": "rRaYUD6E35uE"
      }
    },
    {
      "cell_type": "markdown",
      "metadata": {
        "id": "DSoEtbhA24pd"
      },
      "source": [
        "### Let's try a basic machine-learning model"
      ]
    },
    {
      "cell_type": "markdown",
      "metadata": {
        "id": "C1eog4Uh24pd"
      },
      "source": [
        "**Training and evaluating a densely connected model**"
      ]
    },
    {
      "cell_type": "code",
      "execution_count": 12,
      "metadata": {
        "colab": {
          "base_uri": "https://localhost:8080/"
        },
        "id": "PJcvkVC424pe",
        "outputId": "ff508e91-9812-497d-9009-dfdaca5910da"
      },
      "outputs": [
        {
          "output_type": "stream",
          "name": "stdout",
          "text": [
            "Epoch 1/10\n",
            "819/819 [==============================] - 50s 58ms/step - loss: 11.8390 - mae: 2.6821 - val_loss: 11.6496 - val_mae: 2.6933\n",
            "Epoch 2/10\n",
            "819/819 [==============================] - 49s 60ms/step - loss: 8.9556 - mae: 2.3586 - val_loss: 10.8656 - val_mae: 2.5961\n",
            "Epoch 3/10\n",
            "819/819 [==============================] - 47s 57ms/step - loss: 8.1187 - mae: 2.2458 - val_loss: 10.9993 - val_mae: 2.6140\n",
            "Epoch 4/10\n",
            "819/819 [==============================] - 48s 58ms/step - loss: 7.6479 - mae: 2.1806 - val_loss: 14.5309 - val_mae: 3.0136\n",
            "Epoch 5/10\n",
            "819/819 [==============================] - 48s 58ms/step - loss: 7.3033 - mae: 2.1297 - val_loss: 11.1663 - val_mae: 2.6342\n",
            "Epoch 6/10\n",
            "819/819 [==============================] - 49s 59ms/step - loss: 7.0600 - mae: 2.0965 - val_loss: 11.2155 - val_mae: 2.6384\n",
            "Epoch 7/10\n",
            "819/819 [==============================] - 48s 58ms/step - loss: 6.8816 - mae: 2.0711 - val_loss: 12.1617 - val_mae: 2.7403\n",
            "Epoch 8/10\n",
            "819/819 [==============================] - 49s 59ms/step - loss: 6.6958 - mae: 2.0439 - val_loss: 11.2928 - val_mae: 2.6553\n",
            "Epoch 9/10\n",
            "819/819 [==============================] - 47s 57ms/step - loss: 6.5607 - mae: 2.0246 - val_loss: 12.2895 - val_mae: 2.7761\n",
            "Epoch 10/10\n",
            "819/819 [==============================] - 48s 58ms/step - loss: 6.4630 - mae: 2.0091 - val_loss: 12.6841 - val_mae: 2.8079\n",
            "405/405 [==============================] - 16s 39ms/step - loss: 11.7652 - mae: 2.7016\n",
            "Test MAE: 2.70\n"
          ]
        }
      ],
      "source": [
        "from tensorflow import keras\n",
        "from tensorflow.keras import layers\n",
        "\n",
        "inputs = keras.Input(shape=(sequence_length, raw_data.shape[-1]))\n",
        "x = layers.Flatten()(inputs)\n",
        "x = layers.Dense(16, activation=\"relu\")(x)\n",
        "outputs = layers.Dense(1)(x)\n",
        "model = keras.Model(inputs, outputs)\n",
        "\n",
        "callbacks = [\n",
        "    keras.callbacks.ModelCheckpoint(\"jena_dense.keras\",\n",
        "                                    save_best_only=True)\n",
        "]\n",
        "model.compile(optimizer=\"rmsprop\", loss=\"mse\", metrics=[\"mae\"])\n",
        "history = model.fit(train_dataset,\n",
        "                    epochs=10,\n",
        "                    validation_data=val_dataset,\n",
        "                    callbacks=callbacks)\n",
        "\n",
        "model = keras.models.load_model(\"jena_dense.keras\")\n",
        "print(f\"Test MAE: {model.evaluate(test_dataset)[1]:.2f}\")"
      ]
    },
    {
      "cell_type": "markdown",
      "metadata": {
        "id": "OM3vzIGq24pe"
      },
      "source": [
        "**Plotting results**"
      ]
    },
    {
      "cell_type": "code",
      "execution_count": 13,
      "metadata": {
        "colab": {
          "base_uri": "https://localhost:8080/",
          "height": 281
        },
        "id": "4GnycrMx24pe",
        "outputId": "d45e8101-74ac-4aff-a0ec-988af1c72a16"
      },
      "outputs": [
        {
          "output_type": "display_data",
          "data": {
            "text/plain": [
              "<Figure size 432x288 with 1 Axes>"
            ],
            "image/png": "[encoded data removed]"
          },
          "metadata": {
            "needs_background": "light"
          }
        }
      ],
      "source": [
        "import matplotlib.pyplot as plt\n",
        "loss = history.history[\"mae\"]\n",
        "val_loss = history.history[\"val_mae\"]\n",
        "epochs = range(1, len(loss) + 1)\n",
        "plt.figure()\n",
        "plt.plot(epochs, loss, \"bo\", label=\"Training MAE\")\n",
        "plt.plot(epochs, val_loss, \"b\", label=\"Validation MAE\")\n",
        "plt.title(\"Training and validation MAE\")\n",
        "plt.legend()\n",
        "plt.show()"
      ]
    },
    {
      "cell_type": "markdown",
      "source": [
        "The above figure shops that for the **basic ML model** MAE does not fall below 2.6, which is worse than the MAE of the naive_method ie the common sense baseline MAE of 2.44"
      ],
      "metadata": {
        "id": "KZ_-3hDr6VE6"
      }
    },
    {
      "cell_type": "markdown",
      "metadata": {
        "id": "ohxvRuoP24pf"
      },
      "source": [
        "### Let's try a 1D convolutional model"
      ]
    },
    {
      "cell_type": "code",
      "execution_count": 14,
      "metadata": {
        "colab": {
          "base_uri": "https://localhost:8080/"
        },
        "id": "o5vGCrLD24pf",
        "outputId": "a0affe02-8535-467e-80c1-bb94824e0968"
      },
      "outputs": [
        {
          "output_type": "stream",
          "name": "stdout",
          "text": [
            "Epoch 1/10\n",
            "819/819 [==============================] - 65s 68ms/step - loss: 21.9128 - mae: 3.6851 - val_loss: 18.8934 - val_mae: 3.4028\n",
            "Epoch 2/10\n",
            "819/819 [==============================] - 52s 63ms/step - loss: 15.5783 - mae: 3.1327 - val_loss: 15.9436 - val_mae: 3.1439\n",
            "Epoch 3/10\n",
            "819/819 [==============================] - 50s 61ms/step - loss: 14.2455 - mae: 2.9919 - val_loss: 15.5971 - val_mae: 3.1266\n",
            "Epoch 4/10\n",
            "819/819 [==============================] - 49s 60ms/step - loss: 13.5591 - mae: 2.9191 - val_loss: 16.1882 - val_mae: 3.1961\n",
            "Epoch 5/10\n",
            "819/819 [==============================] - 50s 61ms/step - loss: 13.0099 - mae: 2.8561 - val_loss: 18.5431 - val_mae: 3.4517\n",
            "Epoch 6/10\n",
            "819/819 [==============================] - 51s 61ms/step - loss: 12.5818 - mae: 2.8097 - val_loss: 16.5631 - val_mae: 3.2089\n",
            "Epoch 7/10\n",
            "819/819 [==============================] - 51s 62ms/step - loss: 12.2308 - mae: 2.7691 - val_loss: 15.0947 - val_mae: 3.0766\n",
            "Epoch 8/10\n",
            "819/819 [==============================] - 51s 62ms/step - loss: 11.9246 - mae: 2.7352 - val_loss: 15.9493 - val_mae: 3.1787\n",
            "Epoch 9/10\n",
            "819/819 [==============================] - 51s 62ms/step - loss: 11.6887 - mae: 2.7070 - val_loss: 17.4960 - val_mae: 3.3424\n",
            "Epoch 10/10\n",
            "819/819 [==============================] - 51s 62ms/step - loss: 11.4784 - mae: 2.6826 - val_loss: 15.0066 - val_mae: 3.0620\n",
            "405/405 [==============================] - 17s 41ms/step - loss: 16.8983 - mae: 3.2293\n",
            "Test MAE: 3.23\n"
          ]
        }
      ],
      "source": [
        "inputs = keras.Input(shape=(sequence_length, raw_data.shape[-1]))\n",
        "x = layers.Conv1D(8, 24, activation=\"relu\")(inputs)\n",
        "x = layers.MaxPooling1D(2)(x)\n",
        "x = layers.Conv1D(8, 12, activation=\"relu\")(x)\n",
        "x = layers.MaxPooling1D(2)(x)\n",
        "x = layers.Conv1D(8, 6, activation=\"relu\")(x)\n",
        "x = layers.GlobalAveragePooling1D()(x)\n",
        "outputs = layers.Dense(1)(x)\n",
        "model = keras.Model(inputs, outputs)\n",
        "\n",
        "callbacks = [\n",
        "    keras.callbacks.ModelCheckpoint(\"jena_conv.keras\",\n",
        "                                    save_best_only=True)\n",
        "]\n",
        "model.compile(optimizer=\"rmsprop\", loss=\"mse\", metrics=[\"mae\"])\n",
        "history = model.fit(train_dataset,\n",
        "                    epochs=10,\n",
        "                    validation_data=val_dataset,\n",
        "                    callbacks=callbacks)\n",
        "\n",
        "model = keras.models.load_model(\"jena_conv.keras\")\n",
        "print(f\"Test MAE: {model.evaluate(test_dataset)[1]:.2f}\")"
      ]
    },
    {
      "cell_type": "markdown",
      "source": [
        "The conv1D model does not achive MAE of less than 3.07 (see val_mae for epoch 7) , which compares poorly with the common sense baseline of 2.44.\n",
        "\n",
        "<font color='blue'>Figure 10.4 in the Chollet book shows validation MAE slighly below 3 (around 2.9) but I was not able to reproduce that result.</font>"
      ],
      "metadata": {
        "id": "Zgk0ecdS9eTA"
      }
    },
    {
      "cell_type": "markdown",
      "metadata": {
        "id": "abieW9Yn24pf"
      },
      "source": [
        "### A first recurrent baseline"
      ]
    },
    {
      "cell_type": "markdown",
      "metadata": {
        "id": "oyA_eFVl24pf"
      },
      "source": [
        "**A simple LSTM-based model**"
      ]
    },
    {
      "cell_type": "code",
      "execution_count": 15,
      "metadata": {
        "colab": {
          "base_uri": "https://localhost:8080/"
        },
        "id": "XFTPOp-S24pf",
        "outputId": "2edec8cc-186f-4c9a-8493-38954bf364dc"
      },
      "outputs": [
        {
          "output_type": "stream",
          "name": "stdout",
          "text": [
            "Epoch 1/10\n",
            "819/819 [==============================] - 56s 64ms/step - loss: 41.2072 - mae: 4.6694 - val_loss: 12.4571 - val_mae: 2.6775\n",
            "Epoch 2/10\n",
            "819/819 [==============================] - 53s 65ms/step - loss: 10.8302 - mae: 2.5568 - val_loss: 9.7023 - val_mae: 2.4090\n",
            "Epoch 3/10\n",
            "819/819 [==============================] - 54s 66ms/step - loss: 9.5451 - mae: 2.4007 - val_loss: 9.6785 - val_mae: 2.4191\n",
            "Epoch 4/10\n",
            "819/819 [==============================] - 54s 65ms/step - loss: 8.9049 - mae: 2.3217 - val_loss: 9.6238 - val_mae: 2.4075\n",
            "Epoch 5/10\n",
            "819/819 [==============================] - 54s 66ms/step - loss: 8.4829 - mae: 2.2730 - val_loss: 9.7817 - val_mae: 2.4242\n",
            "Epoch 6/10\n",
            "819/819 [==============================] - 54s 66ms/step - loss: 8.2153 - mae: 2.2391 - val_loss: 9.5413 - val_mae: 2.3931\n",
            "Epoch 7/10\n",
            "819/819 [==============================] - 56s 67ms/step - loss: 7.9701 - mae: 2.2075 - val_loss: 9.7575 - val_mae: 2.4221\n",
            "Epoch 8/10\n",
            "819/819 [==============================] - 55s 66ms/step - loss: 7.7992 - mae: 2.1827 - val_loss: 9.7704 - val_mae: 2.4288\n",
            "Epoch 9/10\n",
            "819/819 [==============================] - 54s 66ms/step - loss: 7.6537 - mae: 2.1609 - val_loss: 9.7281 - val_mae: 2.4262\n",
            "Epoch 10/10\n",
            "819/819 [==============================] - 54s 66ms/step - loss: 7.5063 - mae: 2.1377 - val_loss: 9.8831 - val_mae: 2.4577\n",
            "405/405 [==============================] - 17s 41ms/step - loss: 9.9461 - mae: 2.4864\n",
            "Test MAE: 2.49\n"
          ]
        }
      ],
      "source": [
        "inputs = keras.Input(shape=(sequence_length, raw_data.shape[-1]))\n",
        "x = layers.LSTM(16)(inputs)\n",
        "outputs = layers.Dense(1)(x)\n",
        "model = keras.Model(inputs, outputs)\n",
        "\n",
        "callbacks = [\n",
        "    keras.callbacks.ModelCheckpoint(\"jena_lstm.keras\",\n",
        "                                    save_best_only=True)\n",
        "]\n",
        "model.compile(optimizer=\"rmsprop\", loss=\"mse\", metrics=[\"mae\"])\n",
        "history = model.fit(train_dataset,\n",
        "                    epochs=10,\n",
        "                    validation_data=val_dataset,\n",
        "                    callbacks=callbacks)\n",
        "\n",
        "model = keras.models.load_model(\"jena_lstm.keras\")\n",
        "print(f\"Test MAE: {model.evaluate(test_dataset)[1]:.2f}\")"
      ]
    },
    {
      "cell_type": "markdown",
      "source": [
        "For this **simple LSTM model**, the lowest validation MAE is 2.39 (for epoch), which is slighly better than the common-sense baseline of 2.44"
      ],
      "metadata": {
        "id": "KcQ0rvIJAfoW"
      }
    },
    {
      "cell_type": "markdown",
      "metadata": {
        "id": "czOO1_vE24pg"
      },
      "source": [
        "## Understanding recurrent neural networks"
      ]
    },
    {
      "cell_type": "markdown",
      "metadata": {
        "id": "0O8BEMCa24pg"
      },
      "source": [
        "**NumPy implementation of a simple RNN**"
      ]
    },
    {
      "cell_type": "code",
      "execution_count": 17,
      "metadata": {
        "id": "dGDZDKgZ24pg"
      },
      "outputs": [],
      "source": [
        "import numpy as np\n",
        "timesteps = 100\n",
        "input_features = 32\n",
        "output_features = 64\n",
        "inputs = np.random.random((timesteps, input_features))\n",
        "state_t = np.zeros((output_features,))\n",
        "W = np.random.random((output_features, input_features))\n",
        "U = np.random.random((output_features, output_features))\n",
        "b = np.random.random((output_features,))\n",
        "successive_outputs = []\n",
        "for input_t in inputs:\n",
        "    output_t = np.tanh(np.dot(W, input_t) + np.dot(U, state_t) + b)\n",
        "    successive_outputs.append(output_t)\n",
        "    state_t = output_t\n",
        "final_output_sequence = np.stack(successive_outputs, axis=0)"
      ]
    },
    {
      "cell_type": "markdown",
      "metadata": {
        "id": "BbR4ORDh24pg"
      },
      "source": [
        "### A recurrent layer in Keras"
      ]
    },
    {
      "cell_type": "markdown",
      "metadata": {
        "id": "SvPwSvxA24ph"
      },
      "source": [
        "**An RNN layer that can process sequences of any length**"
      ]
    },
    {
      "cell_type": "code",
      "execution_count": 18,
      "metadata": {
        "id": "5jcwFI4H24ph"
      },
      "outputs": [],
      "source": [
        "num_features = 14\n",
        "inputs = keras.Input(shape=(None, num_features))\n",
        "outputs = layers.SimpleRNN(16)(inputs)"
      ]
    },
    {
      "cell_type": "markdown",
      "metadata": {
        "id": "kpVieGhq24ph"
      },
      "source": [
        "**An RNN layer that returns only its last output step**"
      ]
    },
    {
      "cell_type": "code",
      "execution_count": 19,
      "metadata": {
        "colab": {
          "base_uri": "https://localhost:8080/"
        },
        "id": "_kaFQf2B24ph",
        "outputId": "891f7dab-8c85-4ab0-cf71-702bea538e22"
      },
      "outputs": [
        {
          "output_type": "stream",
          "name": "stdout",
          "text": [
            "(None, 16)\n"
          ]
        }
      ],
      "source": [
        "num_features = 14\n",
        "steps = 120\n",
        "inputs = keras.Input(shape=(steps, num_features))\n",
        "outputs = layers.SimpleRNN(16, return_sequences=False)(inputs)\n",
        "print(outputs.shape)"
      ]
    },
    {
      "cell_type": "markdown",
      "metadata": {
        "id": "8sfExWSS24pi"
      },
      "source": [
        "**An RNN layer that returns its full output sequence**"
      ]
    },
    {
      "cell_type": "code",
      "execution_count": 20,
      "metadata": {
        "colab": {
          "base_uri": "https://localhost:8080/"
        },
        "id": "TJNCg7c124pi",
        "outputId": "223a3a60-7967-4d2e-a0c9-12d8552812f0"
      },
      "outputs": [
        {
          "output_type": "stream",
          "name": "stdout",
          "text": [
            "(None, 120, 16)\n"
          ]
        }
      ],
      "source": [
        "num_features = 14\n",
        "steps = 120\n",
        "inputs = keras.Input(shape=(steps, num_features))\n",
        "outputs = layers.SimpleRNN(16, return_sequences=True)(inputs)\n",
        "print(outputs.shape)"
      ]
    },
    {
      "cell_type": "markdown",
      "metadata": {
        "id": "4nl7Ot6B24pi"
      },
      "source": [
        "**Stacking RNN layers**"
      ]
    },
    {
      "cell_type": "code",
      "execution_count": 21,
      "metadata": {
        "id": "DtgDktXp24pi"
      },
      "outputs": [],
      "source": [
        "inputs = keras.Input(shape=(steps, num_features))\n",
        "x = layers.SimpleRNN(16, return_sequences=True)(inputs)\n",
        "x = layers.SimpleRNN(16, return_sequences=True)(x)\n",
        "outputs = layers.SimpleRNN(16)(x)"
      ]
    },
    {
      "cell_type": "markdown",
      "metadata": {
        "id": "ZxsWny-624pi"
      },
      "source": [
        "## Advanced use of recurrent neural networks"
      ]
    },
    {
      "cell_type": "markdown",
      "metadata": {
        "id": "d6oBT7Tw24pi"
      },
      "source": [
        "### Using recurrent dropout to fight overfitting"
      ]
    },
    {
      "cell_type": "markdown",
      "metadata": {
        "id": "ueUeGNKS24pj"
      },
      "source": [
        "**Training and evaluating a dropout-regularized LSTM**"
      ]
    },
    {
      "cell_type": "code",
      "execution_count": null,
      "metadata": {
        "id": "EQiOyTFU24pj"
      },
      "outputs": [],
      "source": [
        "inputs = keras.Input(shape=(sequence_length, raw_data.shape[-1]))\n",
        "x = layers.LSTM(32, recurrent_dropout=0.25)(inputs)\n",
        "x = layers.Dropout(0.5)(x)\n",
        "outputs = layers.Dense(1)(x)\n",
        "model = keras.Model(inputs, outputs)\n",
        "\n",
        "callbacks = [\n",
        "    keras.callbacks.ModelCheckpoint(\"jena_lstm_dropout.keras\",\n",
        "                                    save_best_only=True)\n",
        "]\n",
        "model.compile(optimizer=\"rmsprop\", loss=\"mse\", metrics=[\"mae\"])\n",
        "history = model.fit(train_dataset,\n",
        "                    epochs=50,\n",
        "                    validation_data=val_dataset,\n",
        "                    callbacks=callbacks)"
      ]
    },
    {
      "cell_type": "code",
      "execution_count": null,
      "metadata": {
        "id": "sACglBsl24pj"
      },
      "outputs": [],
      "source": [
        "inputs = keras.Input(shape=(sequence_length, num_features))\n",
        "x = layers.LSTM(32, recurrent_dropout=0.2, unroll=True)(inputs)"
      ]
    },
    {
      "cell_type": "markdown",
      "metadata": {
        "id": "VijXVJkk24pj"
      },
      "source": [
        "### Stacking recurrent layers"
      ]
    },
    {
      "cell_type": "markdown",
      "metadata": {
        "id": "aheu_wKN24pj"
      },
      "source": [
        "**Training and evaluating a dropout-regularized, stacked GRU model**"
      ]
    },
    {
      "cell_type": "code",
      "execution_count": null,
      "metadata": {
        "id": "x8-hEwmc24pk"
      },
      "outputs": [],
      "source": [
        "inputs = keras.Input(shape=(sequence_length, raw_data.shape[-1]))\n",
        "x = layers.GRU(32, recurrent_dropout=0.5, return_sequences=True)(inputs)\n",
        "x = layers.GRU(32, recurrent_dropout=0.5)(x)\n",
        "x = layers.Dropout(0.5)(x)\n",
        "outputs = layers.Dense(1)(x)\n",
        "model = keras.Model(inputs, outputs)\n",
        "\n",
        "callbacks = [\n",
        "    keras.callbacks.ModelCheckpoint(\"jena_stacked_gru_dropout.keras\",\n",
        "                                    save_best_only=True)\n",
        "]\n",
        "model.compile(optimizer=\"rmsprop\", loss=\"mse\", metrics=[\"mae\"])\n",
        "history = model.fit(train_dataset,\n",
        "                    epochs=50,\n",
        "                    validation_data=val_dataset,\n",
        "                    callbacks=callbacks)\n",
        "model = keras.models.load_model(\"jena_stacked_gru_dropout.keras\")\n",
        "print(f\"Test MAE: {model.evaluate(test_dataset)[1]:.2f}\")"
      ]
    },
    {
      "cell_type": "markdown",
      "metadata": {
        "id": "kCyhxKai24pk"
      },
      "source": [
        "### Using bidirectional RNNs"
      ]
    },
    {
      "cell_type": "markdown",
      "metadata": {
        "id": "kqyPxoZv24pk"
      },
      "source": [
        "**Training and evaluating a bidirectional LSTM**"
      ]
    },
    {
      "cell_type": "code",
      "execution_count": null,
      "metadata": {
        "id": "4RH8tRAg24pk"
      },
      "outputs": [],
      "source": [
        "inputs = keras.Input(shape=(sequence_length, raw_data.shape[-1]))\n",
        "x = layers.Bidirectional(layers.LSTM(16))(inputs)\n",
        "outputs = layers.Dense(1)(x)\n",
        "model = keras.Model(inputs, outputs)\n",
        "\n",
        "model.compile(optimizer=\"rmsprop\", loss=\"mse\", metrics=[\"mae\"])\n",
        "history = model.fit(train_dataset,\n",
        "                    epochs=10,\n",
        "                    validation_data=val_dataset)"
      ]
    },
    {
      "cell_type": "markdown",
      "metadata": {
        "id": "4CSsPL1H24pl"
      },
      "source": [
        "### Going even further"
      ]
    },
    {
      "cell_type": "markdown",
      "metadata": {
        "id": "tGb5rb8824pl"
      },
      "source": [
        "## Summary"
      ]
    }
  ],
  "metadata": {
    "colab": {
      "collapsed_sections": [],
      "name": "chapter10_dl-for-timeseries.i",
      "provenance": [],
      "include_colab_link": true
    },
    "kernelspec": {
      "display_name": "Python 3",
      "language": "python",
      "name": "python3"
    },
    "language_info": {
      "codemirror_mode": {
        "name": "ipython",
        "version": 3
      },
      "file_extension": ".py",
      "mimetype": "text/x-python",
      "name": "python",
      "nbconvert_exporter": "python",
      "pygments_lexer": "ipython3",
      "version": "3.7.0"
    },
    "accelerator": "GPU"
  },
  "nbformat": 4,
  "nbformat_minor": 0
}